{
 "cells": [
  {
   "cell_type": "markdown",
   "metadata": {},
   "source": [
    "# sets\n",
    "\n",
    "sets are built-in data types in python used tp store collections of unique items. They are unordered, meaning that the elements do not follow a specific order and do not allow duplicate items. \n",
    "used for membership test, eliminating duplicate entries and performing mathematical set operations like union, intersection, difference and symmetric difference."
   ]
  },
  {
   "cell_type": "code",
   "execution_count": 3,
   "metadata": {},
   "outputs": [
    {
     "name": "stdout",
     "output_type": "stream",
     "text": [
      "{1, 2, 3, 4, 5}\n",
      "<class 'set'>\n"
     ]
    }
   ],
   "source": [
    "my_set={1,2,3,4,5}\n",
    "print(my_set)\n",
    "print(type(my_set))"
   ]
  },
  {
   "cell_type": "code",
   "execution_count": 4,
   "metadata": {},
   "outputs": [
    {
     "name": "stdout",
     "output_type": "stream",
     "text": [
      "(1, 2, 3, 4, 5)\n",
      "<class 'tuple'>\n"
     ]
    }
   ],
   "source": [
    "my_set=(1,2,3,4,5)\n",
    "print(my_set)\n",
    "print(type(my_set))"
   ]
  },
  {
   "cell_type": "code",
   "execution_count": 5,
   "metadata": {},
   "outputs": [
    {
     "name": "stdout",
     "output_type": "stream",
     "text": [
      "{1, 2, 3, 4, 5}\n",
      "<class 'set'>\n"
     ]
    }
   ],
   "source": [
    "# typecasting \n",
    "print(set(my_set))\n",
    "print(type(set(my_set)))"
   ]
  },
  {
   "cell_type": "code",
   "execution_count": 13,
   "metadata": {},
   "outputs": [
    {
     "name": "stdout",
     "output_type": "stream",
     "text": [
      "{1, 2, 3, 4, 6}\n"
     ]
    }
   ],
   "source": [
    "# automatically removes duplicates \n",
    "my_set={1,2,2,3,4,6}\n",
    "print(my_set)"
   ]
  },
  {
   "cell_type": "code",
   "execution_count": 14,
   "metadata": {},
   "outputs": [
    {
     "name": "stdout",
     "output_type": "stream",
     "text": [
      "{1, 2, 3, 4, 6, 7}\n",
      "{1, 2, 3, 4, 6, 7}\n"
     ]
    }
   ],
   "source": [
    "# set operations\n",
    "# adding and removing elements\n",
    "my_set.add(7)\n",
    "print(my_set)\n",
    "my_set.add(7)\n",
    "print(my_set)"
   ]
  },
  {
   "cell_type": "code",
   "execution_count": 15,
   "metadata": {},
   "outputs": [
    {
     "name": "stdout",
     "output_type": "stream",
     "text": [
      "{1, 2, 4, 6, 7}\n"
     ]
    }
   ],
   "source": [
    "my_set.remove(3)\n",
    "print(my_set)"
   ]
  },
  {
   "cell_type": "code",
   "execution_count": 16,
   "metadata": {},
   "outputs": [
    {
     "name": "stdout",
     "output_type": "stream",
     "text": [
      "{1, 4, 6, 7}\n",
      "{1, 4, 6, 7}\n"
     ]
    }
   ],
   "source": [
    "# removes a element if its a member, remove throws an error \n",
    "my_set.discard(2)\n",
    "print(my_set)\n",
    "my_set.discard(2)\n",
    "print(my_set)"
   ]
  },
  {
   "cell_type": "code",
   "execution_count": 18,
   "metadata": {},
   "outputs": [
    {
     "name": "stdout",
     "output_type": "stream",
     "text": [
      "4\n",
      "{6, 7}\n"
     ]
    }
   ],
   "source": [
    "# pop \n",
    "removed_element=my_set.pop()\n",
    "print(removed_element)\n",
    "print(my_set)"
   ]
  },
  {
   "cell_type": "code",
   "execution_count": 19,
   "metadata": {},
   "outputs": [
    {
     "name": "stdout",
     "output_type": "stream",
     "text": [
      "set()\n"
     ]
    }
   ],
   "source": [
    "# clear all emlements \n",
    "my_set.clear()\n",
    "print(my_set)"
   ]
  },
  {
   "cell_type": "code",
   "execution_count": 21,
   "metadata": {},
   "outputs": [
    {
     "name": "stdout",
     "output_type": "stream",
     "text": [
      "True\n",
      "False\n"
     ]
    }
   ],
   "source": [
    "## set membership test \n",
    "my_set={1,2,3,4,5,6,7,8,9}\n",
    "\n",
    "print (3 in my_set)\n",
    "print (10 in my_set)"
   ]
  },
  {
   "cell_type": "code",
   "execution_count": 27,
   "metadata": {},
   "outputs": [
    {
     "name": "stdout",
     "output_type": "stream",
     "text": [
      "union :{1, 2, 3, 4, 5, 6, 7, 8, 9, 11}\n",
      "intersection :{2, 3, 4}\n",
      "difference updated {1, 5, 6}\n"
     ]
    }
   ],
   "source": [
    "# mathematical operations\n",
    "set1={1,2,3,4,5,6}\n",
    "set2={2,3,7,3,4,7,8,9,11,2}\n",
    "\n",
    "print(f'union :{set1.union(set2)}')\n",
    "print(f'intersection :{set1.intersection(set2)}')\n",
    "# print(f'intersection update:{set1.intersection_update(set2)}')\n",
    "# print(f'updated set1  after intersection update {set1}')\n",
    "print(f'difference updated {set1.difference(set2)}')\n",
    "\n"
   ]
  },
  {
   "cell_type": "code",
   "execution_count": 28,
   "metadata": {},
   "outputs": [
    {
     "data": {
      "text/plain": [
       "{1, 5, 6, 7, 8, 9, 11}"
      ]
     },
     "execution_count": 28,
     "metadata": {},
     "output_type": "execute_result"
    }
   ],
   "source": [
    "# symmetric difference\n",
    "# common element removed and unique elements combined\n",
    "set1={1,2,3,4,5,6}\n",
    "set2={2,3,7,3,4,7,8,9,11,2}\n",
    "\n",
    "set1.symmetric_difference(set2)\n"
   ]
  },
  {
   "cell_type": "code",
   "execution_count": 34,
   "metadata": {},
   "outputs": [
    {
     "name": "stdout",
     "output_type": "stream",
     "text": [
      "subset False\n",
      "superset False\n",
      "subset True\n",
      "superset True\n"
     ]
    }
   ],
   "source": [
    "# set methods \n",
    "set1={1,2,3,4,5,6}\n",
    "set2={2,3,7,3,4,7,8,9,11,2}\n",
    "\n",
    "print(f'subset {set1.issubset(set2)}')\n",
    "print(f'superset {set1.issuperset(set2)}')\n",
    "\n",
    "set1={2,3,4}\n",
    "set2={2,3,7,3,4,7,8,9,11,2}\n",
    "\n",
    "print(f'subset {set1.issubset(set2)}')\n",
    "print(f'superset {set2.issuperset(set1)}')"
   ]
  },
  {
   "cell_type": "code",
   "execution_count": 36,
   "metadata": {},
   "outputs": [
    {
     "name": "stdout",
     "output_type": "stream",
     "text": [
      "[1, 2, 4, 5, 7, 8, 5, 3, 3, 3, 35, 1, 3, 1, 4, 5]\n",
      "{1, 2, 3, 4, 5, 35, 7, 8}\n"
     ]
    }
   ],
   "source": [
    "# remove duplicates from list\n",
    "lst=[1,2,4,5,7,8,5,3,3,3,35,1,3,1,4,5]\n",
    "print(lst)\n",
    "print(set(lst))"
   ]
  },
  {
   "cell_type": "code",
   "execution_count": 40,
   "metadata": {},
   "outputs": [
    {
     "name": "stdout",
     "output_type": "stream",
     "text": [
      "{'this', 'also', 'tutorial', 'totorial', 'in', 'discussing', 'about', 'sets', 'and', 'tuples', 'will', 'we', 'are'} \n",
      " 13\n"
     ]
    }
   ],
   "source": [
    "# count unique words in the text \n",
    "text='in this tutorial we are discussing about sets and in this totorial we will also we discussing about tuples'\n",
    "words=text.split()\n",
    "\n",
    "# convert list of words to set to get unique words\n",
    "unique_words=set(words)\n",
    "print(unique_words,'\\n', len(unique_words))"
   ]
  },
  {
   "cell_type": "code",
   "execution_count": null,
   "metadata": {},
   "outputs": [],
   "source": []
  }
 ],
 "metadata": {
  "kernelspec": {
   "display_name": "mlops",
   "language": "python",
   "name": "python3"
  },
  "language_info": {
   "codemirror_mode": {
    "name": "ipython",
    "version": 3
   },
   "file_extension": ".py",
   "mimetype": "text/x-python",
   "name": "python",
   "nbconvert_exporter": "python",
   "pygments_lexer": "ipython3",
   "version": "3.12.0"
  }
 },
 "nbformat": 4,
 "nbformat_minor": 2
}
