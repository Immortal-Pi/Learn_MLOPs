{
 "cells": [
  {
   "cell_type": "markdown",
   "metadata": {},
   "source": [
    "# dictionary\n",
    "- intro\n",
    "- creating dictionary\n",
    "- accessing dictionary elements \n",
    "- modifying dictionary elements \n",
    "- dictionary methods \n",
    "- iterating over dictionary\n",
    "- nested dictionary \n",
    "- dicitonary comprehensions \n",
    "- practical examples and common errors"
   ]
  },
  {
   "cell_type": "markdown",
   "metadata": {},
   "source": [
    "### intro\n",
    "\n",
    "dictionaries are unordered collecitons of items. They store data in key-value pairs. Keys must be unique and immutable(e.g. strings, numbers or tuples) while values can be of any type"
   ]
  },
  {
   "cell_type": "code",
   "execution_count": 2,
   "metadata": {},
   "outputs": [
    {
     "name": "stdout",
     "output_type": "stream",
     "text": [
      "<class 'dict'>\n",
      "<class 'dict'>\n"
     ]
    }
   ],
   "source": [
    "# create dictionary\n",
    "\n",
    "empty_dic={}\n",
    "print(type(empty_dic))\n",
    "\n",
    "empty_dic=dict()\n",
    "print(type(empty_dic))"
   ]
  },
  {
   "cell_type": "code",
   "execution_count": 4,
   "metadata": {},
   "outputs": [
    {
     "name": "stdout",
     "output_type": "stream",
     "text": [
      "{'name': 'amruth', 'age': 20, 'grade': 'A'}\n",
      "<class 'dict'>\n"
     ]
    }
   ],
   "source": [
    "student ={'name':'amruth','age':20,'grade':'A'}\n",
    "print(student)\n",
    "print(type(student))"
   ]
  },
  {
   "cell_type": "code",
   "execution_count": 6,
   "metadata": {},
   "outputs": [
    {
     "name": "stdout",
     "output_type": "stream",
     "text": [
      "{'name': 'akshath', 'age': 20, 'grade': 'A'}\n"
     ]
    }
   ],
   "source": [
    "# key changes if defined again  \n",
    "student ={'name':'amruth','age':20,'grade':'A','name':'akshath'}\n",
    "print(student)"
   ]
  },
  {
   "cell_type": "code",
   "execution_count": 16,
   "metadata": {},
   "outputs": [
    {
     "name": "stdout",
     "output_type": "stream",
     "text": [
      "A\n",
      "20\n"
     ]
    }
   ],
   "source": [
    "##accessing dictionary elements\n",
    "student ={'name':'amruth','age':20,'grade':'A'}\n",
    "print(student['grade'])\n",
    "print(student['age'])"
   ]
  },
  {
   "cell_type": "code",
   "execution_count": 17,
   "metadata": {},
   "outputs": [
    {
     "name": "stdout",
     "output_type": "stream",
     "text": [
      "A\n",
      "None\n"
     ]
    }
   ],
   "source": [
    "## accessing through get metheod \n",
    "print(student.get('grade'))\n",
    "print(student.get('laste_name'))"
   ]
  },
  {
   "cell_type": "code",
   "execution_count": 18,
   "metadata": {},
   "outputs": [
    {
     "name": "stdout",
     "output_type": "stream",
     "text": [
      "{'name': 'amruth', 'age': 20, 'grade': 'A'}\n",
      "{'name': 'amruth', 'age': 33, 'grade': 'A'}\n",
      "{'name': 'amruth', 'age': 33, 'grade': 'A', 'address': 'dasarahalli'}\n"
     ]
    }
   ],
   "source": [
    "# modifying dictionary elements\n",
    "# dictionary are mutable \n",
    "\n",
    "print(student)\n",
    "student['age']=33\n",
    "print(student)\n",
    "student['address']='dasarahalli'\n",
    "print(student)"
   ]
  },
  {
   "cell_type": "code",
   "execution_count": 19,
   "metadata": {},
   "outputs": [
    {
     "name": "stdout",
     "output_type": "stream",
     "text": [
      "{'name': 'amruth', 'age': 33, 'address': 'dasarahalli'}\n"
     ]
    }
   ],
   "source": [
    "del student['grade'] ## delete key and value pair \n",
    "\n",
    "print(student)"
   ]
  },
  {
   "cell_type": "code",
   "execution_count": 22,
   "metadata": {},
   "outputs": [
    {
     "name": "stdout",
     "output_type": "stream",
     "text": [
      "dict_keys(['name', 'age', 'address'])\n",
      "dict_values(['amruth', 33, 'dasarahalli'])\n"
     ]
    }
   ],
   "source": [
    "# dictionary methods\n",
    "keys=student.keys()\n",
    "print(keys)\n",
    "values=student.values()\n",
    "print(values)"
   ]
  },
  {
   "cell_type": "code",
   "execution_count": 25,
   "metadata": {},
   "outputs": [
    {
     "name": "stdout",
     "output_type": "stream",
     "text": [
      "dict_items([('name', 'amruth'), ('age', 33), ('address', 'dasarahalli')])\n"
     ]
    }
   ],
   "source": [
    "items=student.items()\n",
    "print(items)"
   ]
  },
  {
   "cell_type": "code",
   "execution_count": 27,
   "metadata": {},
   "outputs": [
    {
     "name": "stdout",
     "output_type": "stream",
     "text": [
      "{'name': 'amruth', 'age': 33, 'address': 'dasarahalli'} {'name': 'amruth', 'age': 33, 'address': 'dasarahalli'}\n"
     ]
    }
   ],
   "source": [
    "# shallow copy - .copy method \n",
    "student_copy=student\n",
    "print(student,student_copy)\n"
   ]
  },
  {
   "cell_type": "code",
   "execution_count": 28,
   "metadata": {},
   "outputs": [
    {
     "name": "stdout",
     "output_type": "stream",
     "text": [
      "{'name': 'akshath', 'age': 33, 'address': 'dasarahalli'} {'name': 'akshath', 'age': 33, 'address': 'dasarahalli'}\n"
     ]
    }
   ],
   "source": [
    "# both change \n",
    "student_copy['name']='akshath'\n",
    "print(student,student_copy)"
   ]
  },
  {
   "cell_type": "code",
   "execution_count": 29,
   "metadata": {},
   "outputs": [
    {
     "name": "stdout",
     "output_type": "stream",
     "text": [
      "{'name': 'akshath', 'age': 33, 'address': 'dasarahalli'} {'name': 'amruth', 'age': 33, 'address': 'dasarahalli'}\n"
     ]
    }
   ],
   "source": [
    "student_copy=student.copy()\n",
    "student_copy['name']='amruth'\n",
    "print(student,student_copy)"
   ]
  },
  {
   "cell_type": "code",
   "execution_count": 34,
   "metadata": {},
   "outputs": [
    {
     "name": "stdout",
     "output_type": "stream",
     "text": [
      "name\n",
      "age\n",
      "address\n",
      "akshath\n",
      "33\n",
      "dasarahalli\n"
     ]
    }
   ],
   "source": [
    "# iterating over dictionaries\n",
    "# loops \n",
    "\n",
    "for key in student.keys():\n",
    "    print(key)\n",
    "\n",
    "for value in student.values():\n",
    "    print(value)\n"
   ]
  },
  {
   "cell_type": "code",
   "execution_count": 35,
   "metadata": {},
   "outputs": [
    {
     "name": "stdout",
     "output_type": "stream",
     "text": [
      "name akshath\n",
      "age 33\n",
      "address dasarahalli\n"
     ]
    }
   ],
   "source": [
    "# iterate over key value pair \n",
    "for key,value in student.items():\n",
    "    print(key,value)"
   ]
  },
  {
   "cell_type": "code",
   "execution_count": 36,
   "metadata": {},
   "outputs": [
    {
     "name": "stdout",
     "output_type": "stream",
     "text": [
      "{'student1': {'name': 'amruth', 'age': 32}, 'student2': {'name': 'akshath', 'age': 43}}\n"
     ]
    }
   ],
   "source": [
    "## nested dictionaries \n",
    "students={\n",
    "    'student1':{'name':'amruth','age':32},\n",
    "    'student2':{'name':'akshath','age':43}\n",
    "}\n",
    "print(students)"
   ]
  },
  {
   "cell_type": "code",
   "execution_count": 37,
   "metadata": {},
   "outputs": [
    {
     "name": "stdout",
     "output_type": "stream",
     "text": [
      "amruth\n"
     ]
    }
   ],
   "source": [
    "## access nested student dictionaries\n",
    "print(students['student1']['name'])"
   ]
  },
  {
   "cell_type": "code",
   "execution_count": 39,
   "metadata": {},
   "outputs": [
    {
     "data": {
      "text/plain": [
       "dict_values([{'name': 'amruth', 'age': 32}, {'name': 'akshath', 'age': 43}])"
      ]
     },
     "execution_count": 39,
     "metadata": {},
     "output_type": "execute_result"
    }
   ],
   "source": [
    "students.values()"
   ]
  },
  {
   "cell_type": "code",
   "execution_count": 41,
   "metadata": {},
   "outputs": [
    {
     "name": "stdout",
     "output_type": "stream",
     "text": [
      "student1 {'name': 'amruth', 'age': 32}\n",
      "name amruth\n",
      "age 32\n",
      "student2 {'name': 'akshath', 'age': 43}\n",
      "name akshath\n",
      "age 43\n"
     ]
    }
   ],
   "source": [
    "# iterating over nested dictionaries\n",
    "for student_id,student_info in students.items():\n",
    "    print(student_id,student_info)\n",
    "    for key,value in student_info.items():\n",
    "        print(key,value)"
   ]
  },
  {
   "cell_type": "code",
   "execution_count": 42,
   "metadata": {},
   "outputs": [
    {
     "data": {
      "text/plain": [
       "{0: 0, 1: 1, 2: 4, 3: 9, 4: 16, 5: 25, 6: 36, 7: 49, 8: 64, 9: 81}"
      ]
     },
     "execution_count": 42,
     "metadata": {},
     "output_type": "execute_result"
    }
   ],
   "source": [
    "# dictionary comprehension \n",
    "squares={x:x**2 for x in range(10)}\n",
    "squares"
   ]
  },
  {
   "cell_type": "code",
   "execution_count": 51,
   "metadata": {},
   "outputs": [
    {
     "name": "stdout",
     "output_type": "stream",
     "text": [
      "0 True\n",
      "1 False\n",
      "2 True\n",
      "3 False\n",
      "4 True\n",
      "5 False\n",
      "6 True\n",
      "7 False\n",
      "8 True\n",
      "9 False\n"
     ]
    }
   ],
   "source": [
    "# condition dictionary comprehension \n",
    "even_number={x:True if x%2==0 else False for x in range(10) }\n",
    "for key,val in even_number.items():\n",
    "    print(key,val)"
   ]
  },
  {
   "cell_type": "code",
   "execution_count": 54,
   "metadata": {},
   "outputs": [
    {
     "data": {
      "text/plain": [
       "{1: 1, 2: 2, 3: 3, 4: 4, 5: 1, 6: 1, 7: 5}"
      ]
     },
     "execution_count": 54,
     "metadata": {},
     "output_type": "execute_result"
    }
   ],
   "source": [
    "# practical examples \n",
    "# use a dictionary to count the frequency of elements in list \n",
    "\n",
    "numbers=[1,2,2,3,3,3,4,4,4,4,5,6,7,7,7,7,7]\n",
    "\n",
    "number_dict={}\n",
    "count=0\n",
    "for i in numbers:\n",
    "    if i in number_dict.keys():\n",
    "        number_dict[i]+=1\n",
    "    else:\n",
    "        number_dict[i]=1\n",
    "number_dict\n"
   ]
  },
  {
   "cell_type": "code",
   "execution_count": 55,
   "metadata": {},
   "outputs": [
    {
     "name": "stdout",
     "output_type": "stream",
     "text": [
      "{'a': 1, 'b': 3, 'c': 4}\n"
     ]
    }
   ],
   "source": [
    "# merge 2 dictionaries\n",
    "dic1={'a':1,'b':2}\n",
    "dic2={'b':3,'c':4}\n",
    "merged_dict={**dic1,**dic2}\n",
    "print(merged_dict)"
   ]
  },
  {
   "cell_type": "code",
   "execution_count": null,
   "metadata": {},
   "outputs": [],
   "source": []
  }
 ],
 "metadata": {
  "kernelspec": {
   "display_name": "mlops",
   "language": "python",
   "name": "python3"
  },
  "language_info": {
   "codemirror_mode": {
    "name": "ipython",
    "version": 3
   },
   "file_extension": ".py",
   "mimetype": "text/x-python",
   "name": "python",
   "nbconvert_exporter": "python",
   "pygments_lexer": "ipython3",
   "version": "3.12.0"
  }
 },
 "nbformat": 4,
 "nbformat_minor": 2
}
