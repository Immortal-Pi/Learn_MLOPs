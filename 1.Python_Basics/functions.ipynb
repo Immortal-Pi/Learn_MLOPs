{
 "cells": [
  {
   "cell_type": "markdown",
   "metadata": {},
   "source": [
    "# functions\n",
    "- block of code\n",
    "- perform a specific task \n",
    "- organizing code\n",
    "- reuseing code \n",
    "- imporving readability"
   ]
  },
  {
   "cell_type": "code",
   "execution_count": 1,
   "metadata": {},
   "outputs": [],
   "source": [
    "# syntax \n",
    "\n",
    "def function_name(parameters):\n",
    "    \"\"\"doc string\"\"\"\n",
    "    # Function body\n",
    "    return expression"
   ]
  },
  {
   "cell_type": "code",
   "execution_count": 6,
   "metadata": {},
   "outputs": [
    {
     "name": "stdout",
     "output_type": "stream",
     "text": [
      "Hello Amruth, Data Gunda\n"
     ]
    }
   ],
   "source": [
    "# default parameters \n",
    "\n",
    "def greet(name='Bob'):\n",
    "    print(f'Hello {name}, Data Gunda')\n",
    "\n",
    "greet('Amruth')"
   ]
  },
  {
   "cell_type": "code",
   "execution_count": 9,
   "metadata": {},
   "outputs": [
    {
     "name": "stdout",
     "output_type": "stream",
     "text": [
      "1 2 3 4 5 7 1 2 "
     ]
    }
   ],
   "source": [
    "## varaible length arguments \n",
    "# positional and key word arguments\n",
    "# positional arguments\n",
    "def print_arguments(*args):\n",
    "    for number in args:\n",
    "        print(number,end=' ')\n",
    "\n",
    "print_arguments(1,2,3,4,5,7)\n",
    "print_arguments(1,2)"
   ]
  },
  {
   "cell_type": "code",
   "execution_count": 10,
   "metadata": {},
   "outputs": [
    {
     "name": "stdout",
     "output_type": "stream",
     "text": [
      "1 2 Amruth 45 22 "
     ]
    }
   ],
   "source": [
    "print_arguments(1,2,'Amruth',45,22)"
   ]
  },
  {
   "cell_type": "code",
   "execution_count": 12,
   "metadata": {},
   "outputs": [
    {
     "name": "stdout",
     "output_type": "stream",
     "text": [
      "name:amruth\n",
      "age:24\n",
      "address:India\n"
     ]
    }
   ],
   "source": [
    "## keyword arguments\n",
    "# all the parameters will be in the form of key value pairs \n",
    "def print_details(**kwargs):\n",
    "    for key,value in kwargs.items():\n",
    "        print(f'{key}:{value}')\n",
    "\n",
    "print_details(name='amruth',age=24,address='India')\n"
   ]
  },
  {
   "cell_type": "code",
   "execution_count": 13,
   "metadata": {},
   "outputs": [
    {
     "name": "stdout",
     "output_type": "stream",
     "text": [
      "positional argument: 1\n",
      "positional argument: 2\n",
      "positional argument: 4\n",
      "positional argument: 2\n",
      "positional argument: amruth\n",
      "key word argument: key:name value: amruth\n",
      "key word argument: key:age value: 24\n",
      "key word argument: key:address value: India\n"
     ]
    }
   ],
   "source": [
    "# combining positional arguments and key word arguments\n",
    "\n",
    "def print_details(*args, **kwargs):\n",
    "    for val in args:\n",
    "        print(f'positional argument: {val}')\n",
    "\n",
    "    for key,value in kwargs.items():\n",
    "        print(f'key word argument: key:{key} value: {value}')\n",
    "\n",
    "print_details(1,2,4,2,'amruth',name='amruth',age=24,address='India')"
   ]
  },
  {
   "cell_type": "code",
   "execution_count": 14,
   "metadata": {},
   "outputs": [
    {
     "name": "stdout",
     "output_type": "stream",
     "text": [
      "6\n"
     ]
    }
   ],
   "source": [
    "# return statements\n",
    "\n",
    "def multiply(a,b):\n",
    "    return a*b\n",
    "\n",
    "print(multiply(2,3))"
   ]
  },
  {
   "cell_type": "code",
   "execution_count": 15,
   "metadata": {},
   "outputs": [
    {
     "data": {
      "text/plain": [
       "(6, 2)"
      ]
     },
     "execution_count": 15,
     "metadata": {},
     "output_type": "execute_result"
    }
   ],
   "source": [
    "# return multiple parameters\n",
    "\n",
    "def multiply(a,b):\n",
    "    return a*b,a\n",
    "\n",
    "multiply(2,3)"
   ]
  },
  {
   "cell_type": "markdown",
   "metadata": {},
   "source": [
    "# Functions examples"
   ]
  },
  {
   "cell_type": "code",
   "execution_count": 18,
   "metadata": {},
   "outputs": [
    {
     "name": "stdout",
     "output_type": "stream",
     "text": [
      "170.6\n",
      "-3.888888888888889\n"
     ]
    }
   ],
   "source": [
    "# Examples 1: convert temperature \n",
    "\n",
    "def convert_temperature(value,unit):\n",
    "    \"\"\" if celcius or farenheit convert to respective values based on unit\"\"\"\n",
    "    if unit=='C'or unit=='c':\n",
    "        return (value-32)*5/9\n",
    "    elif unit=='F' or unit =='f':\n",
    "        return value*9/5 +32 # censius to farenheit \n",
    "    else:\n",
    "        return None\n",
    "\n",
    "\n",
    "print(convert_temperature(77,'F'))\n",
    "print(convert_temperature(25,'C'))"
   ]
  },
  {
   "cell_type": "code",
   "execution_count": 28,
   "metadata": {},
   "outputs": [
    {
     "name": "stdout",
     "output_type": "stream",
     "text": [
      "False\n",
      "True\n"
     ]
    }
   ],
   "source": [
    "# example 2: password strength checker\n",
    "import re\n",
    "\n",
    "def check_password_strength(password):\n",
    "    \"\"\" check password strength \"\"\"\n",
    "    if match:=re.search(r\"(?=.*[A-Z])(?=.*[a-z])(?=.*\\d)(?=.*[@$!%*?&])[A-Za-z\\d@$!%*?&]{8,}\",password): # walrus operator - search and match condition together \n",
    "        return True\n",
    "    else:\n",
    "        return False \n",
    "    \n",
    "\n",
    "print(check_password_strength('Hello'))\n",
    "print(check_password_strength('helloWorld@123'))\n",
    "\n"
   ]
  },
  {
   "cell_type": "code",
   "execution_count": 41,
   "metadata": {},
   "outputs": [
    {
     "name": "stdout",
     "output_type": "stream",
     "text": [
      "['foo']\n"
     ]
    }
   ],
   "source": [
    "# examples of lookahead assertion \n",
    "pattern=r\"foo(?=bar)\"\n",
    "text='foodbar foobar foobaz barbar'\n",
    "matches=re.findall(pattern,text)\n",
    "print(matches)"
   ]
  },
  {
   "cell_type": "code",
   "execution_count": 44,
   "metadata": {},
   "outputs": [
    {
     "name": "stdout",
     "output_type": "stream",
     "text": [
      "['23', '26', '12']\n"
     ]
    }
   ],
   "source": [
    "# examples of lookahead assertion\n",
    "# matches digits only if followed by a letter \n",
    "pattern=r\"\\d{1,}(?=[a-zA-Z])\"\n",
    "text='23Amr 26Amru 12amb abc'\n",
    "matches=re.findall(pattern,text)\n",
    "print(matches)"
   ]
  },
  {
   "cell_type": "code",
   "execution_count": 48,
   "metadata": {},
   "outputs": [
    {
     "name": "stdout",
     "output_type": "stream",
     "text": [
      "['2314', '1', '1235']\n"
     ]
    }
   ],
   "source": [
    "# example of lookbehind assertions\n",
    "pattern=r\"(?<=amr)\\d{1,}\"\n",
    "text='amr2314 amr1 amb235 amz2343 amr1235'\n",
    "matches=re.findall(pattern,text)\n",
    "print(matches)"
   ]
  },
  {
   "cell_type": "code",
   "execution_count": 69,
   "metadata": {},
   "outputs": [],
   "source": [
    "# examples calculate the total cost of items in a shopping cart \n",
    "\n",
    "def calculate_total_cost(**kargs):\n",
    "    total_cost=0\n",
    "    for k,v in kargs.items():\n",
    "        price=v.get('price')\n",
    "        quantity=v.get('quantity',1)\n",
    "        total_cost+=price*quantity\n",
    "    return total_cost\n",
    "            \n",
    "\n",
    "cart = {\n",
    "    'item1': {'name': 'Apple', 'price': 0.5, 'quantity': 4},\n",
    "    'item2': {'name': 'Mango', 'price': 2},\n",
    "    'item3': {'name': 'Orange', 'price': 7},\n",
    "    'item4': {'name': 'Broccoli', 'price': 10.2, 'quantity': 5},\n",
    "    'item5': {'name': 'Cauliflower', 'price': 5.5, 'quantity': 7},\n",
    "    'item6': {'name': 'Tomato', 'price': 6.2},\n",
    "    'item7': {'name': 'Paratha', 'price': 7.2, 'quantity': 3},\n",
    "}"
   ]
  },
  {
   "cell_type": "code",
   "execution_count": 70,
   "metadata": {},
   "outputs": [
    {
     "data": {
      "text/plain": [
       "128.3"
      ]
     },
     "execution_count": 70,
     "metadata": {},
     "output_type": "execute_result"
    }
   ],
   "source": [
    "calculate_total_cost(**cart)"
   ]
  },
  {
   "cell_type": "code",
   "execution_count": 81,
   "metadata": {},
   "outputs": [
    {
     "name": "stdout",
     "output_type": "stream",
     "text": [
      "wasitacaroracatisaw\n",
      "True\n",
      "catitis\n",
      "False\n"
     ]
    }
   ],
   "source": [
    "# examples check if a string is a palindrome\n",
    "def is_palindrome(text):\n",
    "    \"\"\" check if the given string is a plaindrome or not \"\"\"\n",
    "\n",
    "    text=re.sub(r'[^a-zA-Z0-9!@#$%^&*]','',text).lower() #remove all the spaces \n",
    "    print(text)\n",
    "    return text==text[::-1]\n",
    "\n",
    "print(is_palindrome('Was it a car or a cat I saw'))\n",
    "print(is_palindrome('cat it is'))"
   ]
  },
  {
   "cell_type": "code",
   "execution_count": 94,
   "metadata": {},
   "outputs": [
    {
     "data": {
      "text/plain": [
       "3628800"
      ]
     },
     "execution_count": 94,
     "metadata": {},
     "output_type": "execute_result"
    }
   ],
   "source": [
    "# examples calculate the factorial of a number \n",
    "def factorial(num):\n",
    "    if num==0 or num==1:\n",
    "        return 1\n",
    "    return num*factorial(num-1)\n",
    "\n",
    "factorial(10)"
   ]
  },
  {
   "cell_type": "code",
   "execution_count": 112,
   "metadata": {},
   "outputs": [
    {
     "name": "stdout",
     "output_type": "stream",
     "text": [
      "{'the': 60, 'in': 52, 'and': 51, 'a': 43, '': 40, 'to': 40, 'of': 32, 'he': 29, 'musk': 28, 'his': 27, 'was': 21, 'elon': 18, 'for': 17, 'that': 17, 'at': 16, 'company': 13, 'an': 12, 'university': 9, 'as': 8, 'has': 8, 'tesla': 7, 'later': 7, 'had': 7, 'pretoria': 6, 'with': 6, 'on': 6, 'errol': 6, 'school': 6, 'is': 5, 'south': 5, 'but': 5, 'acquired': 5, 'from': 5, 'him': 5, 'father': 5, 'after': 5, 'born': 4, 'x': 4, 'attended': 4, 'canada': 4, 'pennsylvania': 4, 'cofounded': 4, 'by': 4, 'became': 4, 'energy': 4, 'which': 4, 'june': 3, 'inc': 3, 'twitter': 3, 'us': 3, 'billion': 3, 'family': 3, 'age': 3, 'through': 3, 'mother': 3, 'two': 3, 'stanford': 3, 'startup': 3, 'million': 3, 'year': 3, 'paypal': 3, 'made': 3, 'private': 3, 'service': 3, 'including': 3, 'haldeman': 3, 'where': 3, 'high': 3, 'i': 3, 'me': 3, 'claimed': 3, 'not': 3, 'student': 3, 'science': 3, 'reeve': 2, 'spacex': 2, 'ownership': 2, 'corp': 2, 'boring': 2, 'xai': 2, 'neuralink': 2, 'openai': 2, 'individual': 2, 'be': 2, 'wealthy': 2, 'african': 2, 'citizenship': 2, 'canadianborn': 2, 'years': 2, 'queens': 2, 'kingston': 2, 'transferred': 2, 'received': 2, 'degrees': 2, 'economics': 2, 'physics': 2, 'never': 2, 'enrolled': 2, 'brother': 2, 'kimbal': 2, 'city': 2, 'guide': 2, 'xcom': 2, 'merged': 2, 'october': 2, 'founded': 2, 'early': 2, 'chairman': 2, 'research': 2, 'following': 2, 'announced': 2, 'down': 2, 'have': 2, 'been': 2, 'statements': 2, 'misinformation': 2, 'endorsing': 2, 'such': 2, 'large': 2, 'website': 2, 'trump': 2, 'trumps': 2, 'government': 2, 'efficiency': 2, 'africas': 2, 'saskatchewan': 2, 'africa': 2, 'emerald': 2, 'who': 2, 'younger': 2, 'elons': 2, 'part': 2, 'recounted': 2, 'said': 2, 'children': 2, 'apartheid': 2, 'canadian': 2, 'described': 2, 'lord': 2, 'bryanston': 2, 'one': 2, 'incident': 2, 'boy': 2, 'berating': 2, 'called': 2, 'just': 2, 'stupid': 2, 'how': 2, 'books': 2, 'games': 2, 'program': 2, 'house': 2, 'united': 2, 'states': 2, 'until': 2, 'did': 2, 'bachelor': 2, 'reportedly': 2, 'business': 2, 'storage': 2, 'enroll': 2, 'response': 2, 'work': 2, 'time': 2, 'visa': 2, 'frs': 1, 'iln': 1, 'businessman': 1, 'known': 1, 'key': 1, 'roles': 1, 'space': 1, 'automotive': 1, 'other': 1, 'involvements': 1, 'include': 1, 'operates': 1, 'social': 1, 'media': 1, 'platform': 1, 'formerly': 1, 'role': 1, 'founding': 1, 'wealthiest': 1, 'world': 1, 'december': 1, 'forbes': 1, 'estimates': 1, 'net': 1, 'worth': 1, 'member': 1, 'briefly': 1, 'before': 1, 'immigrating': 1, 'acquiring': 1, 'matriculated': 1, 'bachelors': 1, 'moved': 1, 'california': 1, 'attend': 1, 'classes': 1, 'online': 1, 'software': 1, 'zip': 1, 'compaq': 1, 'same': 1, 'direct': 1, 'bank': 1, 'confinity': 1, 'form': 1, 'ebay': 1, 'using': 1, 'money': 1, 'sale': 1, 'spaceflight': 1, 'services': 1, 'investor': 1, 'electricvehicle': 1, 'manufacturer': 1, 'motors': 1, 'providing': 1, 'most': 1, 'initial': 1, 'financing': 1, 'assuming': 1, 'position': 1, 'companys': 1, 'product': 1, 'architect': 1, 'ceo': 1, 'helped': 1, 'create': 1, 'solarcity': 1, 'solar': 1, 'proposed': 1, 'hyperloop': 1, 'highspeed': 1, 'vactrain': 1, 'transportation': 1, 'system': 1, 'nonprofit': 1, 'artificial': 1, 'intelligence': 1, 'neurotechnology': 1, 'developing': 1, 'braincomputer': 1, 'interfaces': 1, 'tunnel': 1, 'construction': 1, 'securities': 1, 'exchange': 1, 'commission': 1, 'sec': 1, 'sued': 1, 'alleging': 1, 'falsely': 1, 'secured': 1, 'funding': 1, 'takeover': 1, 'settle': 1, 'case': 1, 'stepped': 1, 'paid': 1, 'fine': 1, 'into': 1, 'newlycreated': 1, 'rebranded': 1, 'march': 1, 'artificialintelligence': 1, 'musks': 1, 'actions': 1, 'expressed': 1, 'views': 1, 'polarizing': 1, 'figure': 1, 'criticized': 1, 'making': 1, 'unscientific': 1, 'misleading': 1, 'covid': 1, 'promoting': 1, 'rightwing': 1, 'conspiracy': 1, 'theories': 1, 'antisemitic': 1, 'trope': 1, 'since': 1, 'apologized': 1, 'latter': 1, 'continued': 1, 'controversial': 1, 'because': 1, 'layoffs': 1, 'numbers': 1, 'employees': 1, 'increase': 1, 'hate': 1, 'speech': 1, 'disinformation': 1, 'posts': 1, 'changes': 1, 'features': 1, 'verification': 1, 'active': 1, 'american': 1, 'politics': 1, 'vocal': 1, 'financial': 1, 'supporter': 1, 'donald': 1, 'becoming': 1, 'secondlargest': 1, 'donor': 1, 'november': 1, 'chosen': 1, 'along': 1, 'vivek': 1, 'ramaswamy': 1, 'colead': 1, 'planned': 1, 'department': 1, 'doge': 1, 'advisory': 1, 'board': 1, 'will': 1, 'make': 1, 'recommendations': 1, 'improving': 1, 'measures': 1, 'slashing': 1, 'excess': 1, 'regulations': 1, 'cutting': 1, 'wasteful': 1, 'expenditures': 1, 'administrative': 1, 'capital': 1, 'british': 1, 'dutch': 1, 'ancestry': 1, 'maye': 1, 'ne': 1, 'model': 1, 'dietitian': 1, 'raised': 1, 'electromechanical': 1, 'engineer': 1, 'pilot': 1, 'sailor': 1, 'consultant': 1, 'dealer': 1, 'property': 1, 'developer': 1, 'partly': 1, 'owned': 1, 'rental': 1, 'lodge': 1, 'timbavati': 1, 'nature': 1, 'reserve': 1, 'sister': 1, 'tosca': 1, 'four': 1, 'paternal': 1, 'halfsiblings': 1, 'during': 1, 'youth': 1, 'despite': 1, 'both': 1, 'previously': 1, 'stating': 1, 'owner': 1, 'zambian': 1, 'mine': 1, 'deal': 1, 'receive': 1, 'portion': 1, 'emeralds': 1, 'produced': 1, 'three': 1, 'small': 1, 'mines': 1, 'elected': 1, 'council': 1, 'representative': 1, 'antiapartheid': 1, 'progressive': 1, 'party': 1, 'shared': 1, 'their': 1, 'fathers': 1, 'dislike': 1, 'maternal': 1, 'grandfather': 1, 'joshua': 1, 'n': 1, 'americanborn': 1, 'took': 1, 'recordbreaking': 1, 'journeys': 1, 'australia': 1, 'singleengine': 1, 'bellanca': 1, 'airplane': 1, 'died': 1, 'when': 1, 'still': 1, 'toddler': 1, 'trips': 1, 'wilderness': 1, 'paramilitary': 1, 'flies': 1, 'bullying': 1, 'virtue': 1, 'were': 1, 'encouraged': 1, 'fight': 1, 'over': 1, 'rations': 1, 'parents': 1, 'divorced': 1, 'chose': 1, 'live': 1, 'primarily': 1, 'regretted': 1, 'decision': 1, 'estranged': 1, 'altercation': 1, 'fellow': 1, 'pupil': 1, 'thrown': 1, 'concrete': 1, 'steps': 1, 'beaten': 1, 'severely': 1, 'friends': 1, 'leading': 1, 'being': 1, 'hospitalized': 1, 'injuries': 1, 'discharged': 1, 'hospital': 1, 'saying': 1, 'stand': 1, 'hour': 1, 'yelled': 1, 'idiot': 1, 'told': 1, 'worthless': 1, 'denied': 1, 'lost': 1, 'suicide': 1, 'tendency': 1, 'call': 1, 'people': 1, 'could': 1, 'possibly': 1, 'blame': 1, 'child': 1, 'enthusiastic': 1, 'reader': 1, 'attributing': 1, 'success': 1, 'having': 1, 'read': 1, 'rings': 1, 'foundation': 1, 'series': 1, 'hitchhikers': 1, 'galaxy': 1, 'ten': 1, 'developed': 1, 'interest': 1, 'computing': 1, 'video': 1, 'teaching': 1, 'himself': 1, 'vic': 1, 'user': 1, 'manual': 1, 'twelve': 1, 'sold': 1, 'basicbased': 1, 'game': 1, 'blastar': 1, 'pc': 1, 'office': 1, 'technology': 1, 'magazine': 1, 'approximately': 1, 'waterkloof': 1, 'preparatory': 1, 'then': 1, 'boys': 1, 'graduated': 1, 'good': 1, 'exceptional': 1, 'earning': 1, 'afrikaans': 1, 'b': 1, 'senior': 1, 'math': 1, 'certification': 1, 'applied': 1, 'passport': 1, 'avoid': 1, 'mandatory': 1, 'military': 1, 'would': 1, 'forced': 1, 'participate': 1, 'regime': 1, 'ease': 1, 'path': 1, 'immigration': 1, 'while': 1, 'waiting': 1, 'application': 1, 'processed': 1, 'five': 1, 'months': 1, 'arrived': 1, 'connected': 1, 'second': 1, 'cousin': 1, 'worked': 1, 'odd': 1, 'jobs': 1, 'farm': 1, 'lumber': 1, 'mill': 1, 'entered': 1, 'ontario': 1, 'studied': 1, 'although': 1, 'earned': 1, 'award': 1, 'them': 1, 'arts': 1, 'universitys': 1, 'wharton': 1, 'schoolexcessive': 1, 'citations': 1, 'hosted': 1, 'ticketed': 1, 'parties': 1, 'help': 1, 'pay': 1, 'tuition': 1, 'wrote': 1, 'plan': 1, 'electronic': 1, 'bookscanning': 1, 'similar': 1, 'google': 1, 'held': 1, 'internships': 1, 'silicon': 1, 'valley': 1, 'pinnacle': 1, 'institute': 1, 'investigated': 1, 'electrolytic': 1, 'ultracapacitors': 1, 'another': 1, 'palo': 1, 'altobased': 1, 'rocket': 1, 'accepted': 1, 'graduate': 1, 'materials': 1, 'decided': 1, 'join': 1, 'internet': 1, 'boom': 1, 'applying': 1, 'job': 1, 'netscape': 1, 'washington': 1, 'post': 1, 'reported': 1, 'lacked': 1, 'legal': 1, 'authorization': 1, 'remain': 1, 'failing': 1, 'allowed': 1, 'transitioned': 1, 'hb': 1, 'according': 1, 'numerous': 1, 'former': 1, 'associates': 1, 'shareholders': 1}\n"
     ]
    }
   ],
   "source": [
    "# a function to read a file and count the frequency of each word \n",
    "def word_count(file_path):\n",
    "    \"\"\"read the file and return word frequency\"\"\"\n",
    "    word_count_all={}\n",
    "    with open(file_path,'r') as file:\n",
    "        for line in file:\n",
    "            words=line.split()\n",
    "            for word in words:\n",
    "                word=word.lower()\n",
    "                word=re.sub(r'[^a-zA-Z]','',word)\n",
    "                if word in word_count_all.keys():\n",
    "                    word_count_all[word]+=1\n",
    "                else:\n",
    "                    word_count_all[word]=1\n",
    "    return dict(sorted(word_count_all.items(), key=lambda item: item[1], reverse=True))\n",
    "\n",
    "print(word_count('notes.txt'))"
   ]
  },
  {
   "cell_type": "code",
   "execution_count": 120,
   "metadata": {},
   "outputs": [
    {
     "name": "stdout",
     "output_type": "stream",
     "text": [
      "True\n",
      "False\n",
      "True\n",
      "False\n"
     ]
    }
   ],
   "source": [
    "# valid email address \n",
    "def validate_email(email):\n",
    "    \"\"\"validate email address using regular expression \"\"\"\n",
    "    if match:=re.search(r'^[a-zA-Z0-9_.+-]+@[a-zA-Z0-9-]+\\.[a-zA-Z0-9-.]+$',email):\n",
    "        return True\n",
    "    else:\n",
    "        return False\n",
    "    \n",
    "print(validate_email('26.ammruth@gmail.com'))\n",
    "print(validate_email('ammruth@gmail@com'))\n",
    "print(validate_email('123456@gmail.com'))\n",
    "print(validate_email('26.ammruthgmail.com'))"
   ]
  },
  {
   "cell_type": "code",
   "execution_count": null,
   "metadata": {},
   "outputs": [],
   "source": []
  }
 ],
 "metadata": {
  "kernelspec": {
   "display_name": "mlops",
   "language": "python",
   "name": "python3"
  },
  "language_info": {
   "codemirror_mode": {
    "name": "ipython",
    "version": 3
   },
   "file_extension": ".py",
   "mimetype": "text/x-python",
   "name": "python",
   "nbconvert_exporter": "python",
   "pygments_lexer": "ipython3",
   "version": "3.12.0"
  }
 },
 "nbformat": 4,
 "nbformat_minor": 2
}
