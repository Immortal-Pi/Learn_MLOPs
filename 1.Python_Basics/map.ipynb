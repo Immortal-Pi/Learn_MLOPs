{
 "cells": [
  {
   "cell_type": "markdown",
   "metadata": {},
   "source": [
    "# Map() Function\n",
    "\n",
    "The map() function applies a given funciton to all items in an input list (or any other iterable) and returns a map object (an iterator). This is particularly useful for transforming data is a list comprehensively"
   ]
  },
  {
   "cell_type": "code",
   "execution_count": 1,
   "metadata": {},
   "outputs": [
    {
     "data": {
      "text/plain": [
       "[4, 1156, 25, 36, 64, 4, 9]"
      ]
     },
     "execution_count": 1,
     "metadata": {},
     "output_type": "execute_result"
    }
   ],
   "source": [
    "numbers=(2,34,5,6,8,2,3)\n",
    "\n",
    "square_numbers=list(map(lambda x:x**2,numbers))\n",
    "square_numbers"
   ]
  },
  {
   "cell_type": "code",
   "execution_count": 2,
   "metadata": {},
   "outputs": [
    {
     "data": {
      "text/plain": [
       "[3, 5, 7]"
      ]
     },
     "execution_count": 2,
     "metadata": {},
     "output_type": "execute_result"
    }
   ],
   "source": [
    "# map multiple iterables \n",
    "\n",
    "number1=[1,2,3]\n",
    "number2=[2,3,4]\n",
    "\n",
    "added_numbers=list(map(lambda x,y: x+y, number1,number2))\n",
    "added_numbers"
   ]
  },
  {
   "cell_type": "code",
   "execution_count": 4,
   "metadata": {},
   "outputs": [
    {
     "name": "stdout",
     "output_type": "stream",
     "text": [
      "[1, 2, 3, 4, 5]\n",
      "[1, 2, 3, 4, 5]\n"
     ]
    }
   ],
   "source": [
    "# map function to convert a list of string to integers \n",
    "\n",
    "string_integers=['1','2','3','4','5']\n",
    "\n",
    "integer_numbers=list(map(lambda x: int(x),string_integers))\n",
    "print(integer_numbers)\n",
    "\n",
    "# or \n",
    "\n",
    "integer_numbers=list(map(int,string_integers))\n",
    "print(integer_numbers)"
   ]
  },
  {
   "cell_type": "code",
   "execution_count": 5,
   "metadata": {},
   "outputs": [
    {
     "data": {
      "text/plain": [
       "['APPLE', 'MANGO', 'BANANA', 'CHERRY']"
      ]
     },
     "execution_count": 5,
     "metadata": {},
     "output_type": "execute_result"
    }
   ],
   "source": [
    "# applying in-built functions \n",
    "\n",
    "words=['apple','mango','banana','cherry']\n",
    "\n",
    "upper_words=list(map(str.upper,words))\n",
    "upper_words"
   ]
  },
  {
   "cell_type": "markdown",
   "metadata": {},
   "source": []
  },
  {
   "cell_type": "code",
   "execution_count": 6,
   "metadata": {},
   "outputs": [
    {
     "name": "stdout",
     "output_type": "stream",
     "text": [
      "['amruth', 'sharath', 'akshath']\n"
     ]
    }
   ],
   "source": [
    "# map functions to dictonaries\n",
    "def get_names(people):\n",
    "    return people['name']\n",
    "\n",
    "people=[\n",
    "    {'name':'amruth','age':35},\n",
    "    {'name':'sharath','age':31},\n",
    "    {'name':'akshath','age':37},\n",
    "]\n",
    "\n",
    "list_of_names=list(map(get_names,people))\n",
    "print(list_of_names)\n"
   ]
  },
  {
   "cell_type": "code",
   "execution_count": null,
   "metadata": {},
   "outputs": [],
   "source": []
  }
 ],
 "metadata": {
  "kernelspec": {
   "display_name": "mlops",
   "language": "python",
   "name": "python3"
  },
  "language_info": {
   "codemirror_mode": {
    "name": "ipython",
    "version": 3
   },
   "file_extension": ".py",
   "mimetype": "text/x-python",
   "name": "python",
   "nbconvert_exporter": "python",
   "pygments_lexer": "ipython3",
   "version": "3.12.0"
  }
 },
 "nbformat": 4,
 "nbformat_minor": 2
}
