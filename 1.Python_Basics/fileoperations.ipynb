{
 "cells": [
  {
   "cell_type": "code",
   "execution_count": 4,
   "metadata": {},
   "outputs": [
    {
     "name": "stdout",
     "output_type": "stream",
     "text": [
      "Hello how are you?\n",
      "i am good \n",
      "amruth is my name \n",
      "everything is good \n"
     ]
    }
   ],
   "source": [
    "## read a whole file \n",
    "\n",
    "with open('test_dir/example.txt','r') as file:\n",
    "    content=file.read()\n",
    "print(content)"
   ]
  },
  {
   "cell_type": "code",
   "execution_count": 6,
   "metadata": {},
   "outputs": [
    {
     "name": "stdout",
     "output_type": "stream",
     "text": [
      "Hello how are you?\n",
      "i am good\n",
      "amruth is my name\n",
      "everything is good\n"
     ]
    }
   ],
   "source": [
    "with open('test_dir/example.txt','r') as file:\n",
    "    for line in file:\n",
    "        print(line.strip())"
   ]
  },
  {
   "cell_type": "code",
   "execution_count": 8,
   "metadata": {},
   "outputs": [],
   "source": [
    "## writing a file(Overwriting)\n",
    "\n",
    "with open('test_dir/example.txt','w+') as file:\n",
    "    file.write('Hello World')"
   ]
  },
  {
   "cell_type": "code",
   "execution_count": 11,
   "metadata": {},
   "outputs": [],
   "source": [
    "## writing a file without Overwritting \n",
    "with open('test_dir/example.txt','a') as file:\n",
    "    file.write('\\nHello World')"
   ]
  },
  {
   "cell_type": "code",
   "execution_count": 2,
   "metadata": {},
   "outputs": [],
   "source": [
    "# writing a list of lines to a file \n",
    "lines=['abc\\n','second line\\n','third line\\n']\n",
    "with open('test_dir/example.txt','a') as file:\n",
    "    file.writelines(lines)"
   ]
  },
  {
   "cell_type": "code",
   "execution_count": 3,
   "metadata": {},
   "outputs": [],
   "source": [
    "# working with binary file \n",
    "\n",
    "data=b'\\x00\\x01\\x02\\x03\\x04'\n",
    "with open('test_dir/example.bin','wb') as file:\n",
    "    file.write(data)"
   ]
  },
  {
   "cell_type": "code",
   "execution_count": 4,
   "metadata": {},
   "outputs": [
    {
     "name": "stdout",
     "output_type": "stream",
     "text": [
      "b'\\x00\\x01\\x02\\x03\\x04'\n"
     ]
    }
   ],
   "source": [
    "with open('test_dir/example.bin','rb') as file:\n",
    "    content=file.read()\n",
    "    print(content)"
   ]
  },
  {
   "cell_type": "code",
   "execution_count": 10,
   "metadata": {},
   "outputs": [],
   "source": [
    "# read content from source text file and write to a target text file\n",
    "with open('test_dir/example.txt','r') as file:\n",
    "    content=file.read()\n",
    "file.close()\n",
    "with open('test_dir/example2.txt','w') as file:\n",
    "    file.write(content)"
   ]
  },
  {
   "cell_type": "code",
   "execution_count": 22,
   "metadata": {},
   "outputs": [
    {
     "name": "stdout",
     "output_type": "stream",
     "text": [
      "lines:8,words:23,characters:104\n"
     ]
    }
   ],
   "source": [
    "#read a file and count the number of lines, words and characters\n",
    "# counting lines,words and characters in a text file \n",
    "\n",
    "def count_text_file(file_path):\n",
    "    words,lines,characters=0,0,0\n",
    "    with open(file_path,'r') as file:\n",
    "        for line in file:\n",
    "            lines+=1\n",
    "            words+=len(line.split())\n",
    "            characters+=sum(list(map(len,line.split())))\n",
    "    return words,lines,characters\n",
    "\n",
    "file_path='test_dir/example.txt'\n",
    "w,l,c=count_text_file(file_path)\n",
    "print(f'lines:{l},words:{w},characters:{c}')"
   ]
  },
  {
   "cell_type": "markdown",
   "metadata": {},
   "source": [
    "the w+ mode in python is used to open a file for both reading and writing. if the file does not exist, it will be created. if the file exists, its content is truncated (i.e., the file is overwritten)"
   ]
  },
  {
   "cell_type": "code",
   "execution_count": 25,
   "metadata": {},
   "outputs": [
    {
     "name": "stdout",
     "output_type": "stream",
     "text": [
      "Hello world\n"
     ]
    }
   ],
   "source": [
    "## writing and then reading a file\n",
    "with open('test_dir/example2.txt','w+') as file:\n",
    "    file.write('Hello world')\n",
    "    file.seek(0) # move the file cursor to the beginning \n",
    "    content=file.read()\n",
    "    print(content)"
   ]
  },
  {
   "cell_type": "markdown",
   "metadata": {},
   "source": [
    "# working with file path"
   ]
  },
  {
   "cell_type": "code",
   "execution_count": 28,
   "metadata": {},
   "outputs": [],
   "source": [
    "import os \n",
    "\n",
    "new_directory='package2'\n",
    "os.mkdir(new_directory)\n",
    "\n"
   ]
  },
  {
   "cell_type": "code",
   "execution_count": 30,
   "metadata": {},
   "outputs": [
    {
     "data": {
      "text/plain": [
       "['conditionalStatements.ipynb',\n",
       " 'data_types.ipynb',\n",
       " 'dictionaries.ipynb',\n",
       " 'fileoperations.ipynb',\n",
       " 'filter.ipynb',\n",
       " 'functions.ipynb',\n",
       " 'lambda.ipynb',\n",
       " 'lists.ipynb',\n",
       " 'loops.ipynb',\n",
       " 'map.ipynb',\n",
       " 'modules.ipynb',\n",
       " 'operators.ipynb',\n",
       " 'package',\n",
       " 'package2',\n",
       " 'sets.ipynb',\n",
       " 'standard_libraries.ipynb',\n",
       " 'test_dir',\n",
       " 'tuples.ipynb',\n",
       " 'variables.ipynb']"
      ]
     },
     "execution_count": 30,
     "metadata": {},
     "output_type": "execute_result"
    }
   ],
   "source": [
    "# list all the files and directories \n",
    "\n",
    "os.listdir('.')"
   ]
  },
  {
   "cell_type": "code",
   "execution_count": 38,
   "metadata": {},
   "outputs": [
    {
     "name": "stdout",
     "output_type": "stream",
     "text": [
      "d:\\pythonProjects\\MLOps_Krish_Naik\\1.Python_Basics\\folder\\file.txt\n"
     ]
    }
   ],
   "source": [
    "dir_name='folder'\n",
    "file_name='file.txt'\n",
    "full_path=os.path.join(os.getcwd(),dir_name,file_name)\n",
    "print(full_path)"
   ]
  },
  {
   "cell_type": "code",
   "execution_count": 39,
   "metadata": {},
   "outputs": [
    {
     "data": {
      "text/plain": [
       "False"
      ]
     },
     "execution_count": 39,
     "metadata": {},
     "output_type": "execute_result"
    }
   ],
   "source": [
    "os.path.exists(full_path)"
   ]
  },
  {
   "cell_type": "code",
   "execution_count": 41,
   "metadata": {},
   "outputs": [],
   "source": [
    "if os.path.isfile(full_path):\n",
    "    print(full_path)\n",
    "if os.path.isdir(full_path):\n",
    "    print(full_path)"
   ]
  },
  {
   "cell_type": "code",
   "execution_count": 42,
   "metadata": {},
   "outputs": [
    {
     "name": "stdout",
     "output_type": "stream",
     "text": [
      "d:\\pythonProjects\\MLOps_Krish_Naik\\1.Python_Basics\\test_dir\\example.txt\n"
     ]
    }
   ],
   "source": [
    "# getting the absolute path \n",
    "\n",
    "relative_path='test_dir/example.txt'\n",
    "absolute_path=os.path.abspath(relative_path)\n",
    "print(absolute_path)\n"
   ]
  },
  {
   "cell_type": "code",
   "execution_count": null,
   "metadata": {},
   "outputs": [],
   "source": []
  }
 ],
 "metadata": {
  "kernelspec": {
   "display_name": "mlops",
   "language": "python",
   "name": "python3"
  },
  "language_info": {
   "codemirror_mode": {
    "name": "ipython",
    "version": 3
   },
   "file_extension": ".py",
   "mimetype": "text/x-python",
   "name": "python",
   "nbconvert_exporter": "python",
   "pygments_lexer": "ipython3",
   "version": "3.12.0"
  }
 },
 "nbformat": 4,
 "nbformat_minor": 2
}
