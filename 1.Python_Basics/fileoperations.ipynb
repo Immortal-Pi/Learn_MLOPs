{
 "cells": [
  {
   "cell_type": "code",
   "execution_count": 4,
   "metadata": {},
   "outputs": [
    {
     "name": "stdout",
     "output_type": "stream",
     "text": [
      "Hello how are you?\n",
      "i am good \n",
      "amruth is my name \n",
      "everything is good \n"
     ]
    }
   ],
   "source": [
    "## read a whole file \n",
    "\n",
    "with open('test_dir/example.txt','r') as file:\n",
    "    content=file.read()\n",
    "print(content)"
   ]
  },
  {
   "cell_type": "code",
   "execution_count": 6,
   "metadata": {},
   "outputs": [
    {
     "name": "stdout",
     "output_type": "stream",
     "text": [
      "Hello how are you?\n",
      "i am good\n",
      "amruth is my name\n",
      "everything is good\n"
     ]
    }
   ],
   "source": [
    "with open('test_dir/example.txt','r') as file:\n",
    "    for line in file:\n",
    "        print(line.strip())"
   ]
  },
  {
   "cell_type": "code",
   "execution_count": 8,
   "metadata": {},
   "outputs": [],
   "source": [
    "## writing a file(Overwriting)\n",
    "\n",
    "with open('test_dir/example.txt','w+') as file:\n",
    "    file.write('Hello World')"
   ]
  },
  {
   "cell_type": "code",
   "execution_count": 11,
   "metadata": {},
   "outputs": [],
   "source": [
    "## writing a file without Overwritting \n",
    "with open('test_dir/example.txt','a') as file:\n",
    "    file.write('\\nHello World')"
   ]
  },
  {
   "cell_type": "code",
   "execution_count": 2,
   "metadata": {},
   "outputs": [],
   "source": [
    "# writing a list of lines to a file \n",
    "lines=['abc\\n','second line\\n','third line\\n']\n",
    "with open('test_dir/example.txt','a') as file:\n",
    "    file.writelines(lines)"
   ]
  },
  {
   "cell_type": "code",
   "execution_count": 3,
   "metadata": {},
   "outputs": [],
   "source": [
    "# working with binary file \n",
    "\n",
    "data=b'\\x00\\x01\\x02\\x03\\x04'\n",
    "with open('test_dir/example.bin','wb') as file:\n",
    "    file.write(data)"
   ]
  },
  {
   "cell_type": "code",
   "execution_count": 4,
   "metadata": {},
   "outputs": [
    {
     "name": "stdout",
     "output_type": "stream",
     "text": [
      "b'\\x00\\x01\\x02\\x03\\x04'\n"
     ]
    }
   ],
   "source": [
    "with open('test_dir/example.bin','rb') as file:\n",
    "    content=file.read()\n",
    "    print(content)"
   ]
  },
  {
   "cell_type": "code",
   "execution_count": 10,
   "metadata": {},
   "outputs": [],
   "source": [
    "# read content from source text file and write to a target text file\n",
    "with open('test_dir/example.txt','r') as file:\n",
    "    content=file.read()\n",
    "file.close()\n",
    "with open('test_dir/example2.txt','w') as file:\n",
    "    file.write(content)"
   ]
  },
  {
   "cell_type": "code",
   "execution_count": 22,
   "metadata": {},
   "outputs": [
    {
     "name": "stdout",
     "output_type": "stream",
     "text": [
      "lines:8,words:23,characters:104\n"
     ]
    }
   ],
   "source": [
    "#read a file and count the number of lines, words and characters\n",
    "# counting lines,words and characters in a text file \n",
    "\n",
    "def count_text_file(file_path):\n",
    "    words,lines,characters=0,0,0\n",
    "    with open(file_path,'r') as file:\n",
    "        for line in file:\n",
    "            lines+=1\n",
    "            words+=len(line.split())\n",
    "            characters+=sum(list(map(len,line.split())))\n",
    "    return words,lines,characters\n",
    "\n",
    "file_path='test_dir/example.txt'\n",
    "w,l,c=count_text_file(file_path)\n",
    "print(f'lines:{l},words:{w},characters:{c}')"
   ]
  },
  {
   "cell_type": "markdown",
   "metadata": {},
   "source": [
    "the w+ mode in python is used to open a file for both reading and writing. if the file does not exist, it will be created. if the file exists, its content is truncated (i.e., the file is overwritten)"
   ]
  },
  {
   "cell_type": "code",
   "execution_count": 25,
   "metadata": {},
   "outputs": [
    {
     "name": "stdout",
     "output_type": "stream",
     "text": [
      "Hello world\n"
     ]
    }
   ],
   "source": [
    "## writing and then reading a file\n",
    "with open('test_dir/example2.txt','w+') as file:\n",
    "    file.write('Hello world')\n",
    "    file.seek(0) # move the file cursor to the beginning \n",
    "    content=file.read()\n",
    "    print(content)"
   ]
  },
  {
   "cell_type": "code",
   "execution_count": null,
   "metadata": {},
   "outputs": [],
   "source": []
  },
  {
   "cell_type": "code",
   "execution_count": null,
   "metadata": {},
   "outputs": [],
   "source": []
  }
 ],
 "metadata": {
  "kernelspec": {
   "display_name": "mlops",
   "language": "python",
   "name": "python3"
  },
  "language_info": {
   "codemirror_mode": {
    "name": "ipython",
    "version": 3
   },
   "file_extension": ".py",
   "mimetype": "text/x-python",
   "name": "python",
   "nbconvert_exporter": "python",
   "pygments_lexer": "ipython3",
   "version": "3.12.0"
  }
 },
 "nbformat": 4,
 "nbformat_minor": 2
}
