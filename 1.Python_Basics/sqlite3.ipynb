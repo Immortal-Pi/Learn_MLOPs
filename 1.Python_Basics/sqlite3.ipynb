{
 "cells": [
  {
   "cell_type": "code",
   "execution_count": 1,
   "metadata": {},
   "outputs": [],
   "source": [
    "import sqlite3 as sql "
   ]
  },
  {
   "cell_type": "code",
   "execution_count": 2,
   "metadata": {},
   "outputs": [],
   "source": [
    "%reload_ext sql \n",
    "%config SqlMagic.style = '_DEPRECATED_DEFAULT'"
   ]
  },
  {
   "cell_type": "code",
   "execution_count": 3,
   "metadata": {},
   "outputs": [
    {
     "data": {
      "text/plain": [
       "<sqlite3.Connection at 0x20120c1b5b0>"
      ]
     },
     "execution_count": 3,
     "metadata": {},
     "output_type": "execute_result"
    }
   ],
   "source": [
    "## connect to the sqlite database \n",
    "connection=sql.connect('example.db')\n",
    "connection"
   ]
  },
  {
   "cell_type": "code",
   "execution_count": 4,
   "metadata": {},
   "outputs": [],
   "source": [
    "%sql sqlite:///example.db"
   ]
  },
  {
   "cell_type": "code",
   "execution_count": 5,
   "metadata": {},
   "outputs": [],
   "source": [
    "cursor=connection.cursor()"
   ]
  },
  {
   "cell_type": "code",
   "execution_count": 6,
   "metadata": {},
   "outputs": [],
   "source": [
    "cursor.execute('''\n",
    "               Create table If Not Exists employees(\n",
    "                id Integer Primary Key, \n",
    "                name Text not Null,\n",
    "                age Integer,\n",
    "                department text\n",
    "               )''')\n",
    "\n",
    "# need to commit the changes\n",
    "connection.commit()"
   ]
  },
  {
   "cell_type": "code",
   "execution_count": 7,
   "metadata": {},
   "outputs": [
    {
     "data": {
      "text/plain": [
       "<sqlite3.Cursor at 0x20150fecf40>"
      ]
     },
     "execution_count": 7,
     "metadata": {},
     "output_type": "execute_result"
    }
   ],
   "source": [
    "cursor.execute('select * from employees')"
   ]
  },
  {
   "cell_type": "code",
   "execution_count": 9,
   "metadata": {},
   "outputs": [],
   "source": [
    "#insert the data into \n",
    "cursor.execute('''insert into employees values \n",
    "               (1,'amruth',27,'data scientist'),\n",
    "               (2,'akshath',26,'mechanical engineer'),\n",
    "               (3,'subhodh',25,'analyst')\n",
    "               ''')\n",
    "\n",
    "connection.commit()"
   ]
  },
  {
   "cell_type": "code",
   "execution_count": 10,
   "metadata": {},
   "outputs": [
    {
     "name": "stdout",
     "output_type": "stream",
     "text": [
      "(1, 'amruth', 27, 'data scientist')\n",
      "(2, 'akshath', 26, 'mechanical engineer')\n",
      "(3, 'subhodh', 25, 'analyst')\n"
     ]
    }
   ],
   "source": [
    "# querying the data from sqlite3 from the table\n",
    "\n",
    "cursor.execute('select * from employees')\n",
    "rows=cursor.fetchall()\n",
    "\n",
    "# print the query data \n",
    "for row in rows:\n",
    "    print(row)"
   ]
  },
  {
   "cell_type": "code",
   "execution_count": 11,
   "metadata": {},
   "outputs": [],
   "source": [
    "# insert many records \n",
    "insert_records=[\n",
    "    (4, 'varun', 28, 'software engineer'),\n",
    "    (5, 'nisha', 24, 'business analyst'),\n",
    "    (6, 'rohit', 29, 'civil engineer'),\n",
    "    (7, 'kavya', 27, 'data analyst'),\n",
    "    (8, 'pranav', 30, 'machine learning engineer'),\n",
    "    (9, 'rakesh', 26, 'electrical engineer'),\n",
    "    (10, 'megha', 25, 'marketing specialist'),\n",
    "    (11, 'sanjay', 28, 'biomedical engineer'),\n",
    "    (12, 'swetha', 24, 'UX designer'),\n",
    "    (13, 'harish', 31, 'financial analyst'),\n",
    "    (14, 'priya', 29, 'HR manager'),\n",
    "    (15, 'vivek', 27, 'software developer'),\n",
    "    (16, 'arjun', 26, 'project manager'),\n",
    "    (17, 'anjali', 30, 'AI researcher'),\n",
    "    (18, 'manoj', 25, 'cloud architect'),\n",
    "    (19, 'neha', 28, 'digital marketer'),\n",
    "    (20, 'yash', 32, 'cybersecurity specialist')\n",
    "]\n",
    "\n",
    "cursor.executemany('insert into employees values(?,?,?,?)',insert_records)\n",
    "connection.commit()"
   ]
  },
  {
   "cell_type": "code",
   "execution_count": 12,
   "metadata": {},
   "outputs": [],
   "source": [
    "# update \n",
    "cursor.execute('''update employees set age=26 where name='amruth' ''')\n",
    "connection.commit()"
   ]
  },
  {
   "cell_type": "code",
   "execution_count": 13,
   "metadata": {},
   "outputs": [
    {
     "name": "stdout",
     "output_type": "stream",
     "text": [
      " * sqlite:///example.db\n",
      "Done.\n"
     ]
    },
    {
     "data": {
      "text/html": [
       "<table>\n",
       "    <thead>\n",
       "        <tr>\n",
       "            <th>id</th>\n",
       "            <th>name</th>\n",
       "            <th>age</th>\n",
       "            <th>department</th>\n",
       "        </tr>\n",
       "    </thead>\n",
       "    <tbody>\n",
       "        <tr>\n",
       "            <td>1</td>\n",
       "            <td>amruth</td>\n",
       "            <td>26</td>\n",
       "            <td>data scientist</td>\n",
       "        </tr>\n",
       "        <tr>\n",
       "            <td>2</td>\n",
       "            <td>akshath</td>\n",
       "            <td>26</td>\n",
       "            <td>mechanical engineer</td>\n",
       "        </tr>\n",
       "        <tr>\n",
       "            <td>3</td>\n",
       "            <td>subhodh</td>\n",
       "            <td>25</td>\n",
       "            <td>analyst</td>\n",
       "        </tr>\n",
       "        <tr>\n",
       "            <td>4</td>\n",
       "            <td>varun</td>\n",
       "            <td>28</td>\n",
       "            <td>software engineer</td>\n",
       "        </tr>\n",
       "        <tr>\n",
       "            <td>5</td>\n",
       "            <td>nisha</td>\n",
       "            <td>24</td>\n",
       "            <td>business analyst</td>\n",
       "        </tr>\n",
       "        <tr>\n",
       "            <td>6</td>\n",
       "            <td>rohit</td>\n",
       "            <td>29</td>\n",
       "            <td>civil engineer</td>\n",
       "        </tr>\n",
       "        <tr>\n",
       "            <td>7</td>\n",
       "            <td>kavya</td>\n",
       "            <td>27</td>\n",
       "            <td>data analyst</td>\n",
       "        </tr>\n",
       "        <tr>\n",
       "            <td>8</td>\n",
       "            <td>pranav</td>\n",
       "            <td>30</td>\n",
       "            <td>machine learning engineer</td>\n",
       "        </tr>\n",
       "        <tr>\n",
       "            <td>9</td>\n",
       "            <td>rakesh</td>\n",
       "            <td>26</td>\n",
       "            <td>electrical engineer</td>\n",
       "        </tr>\n",
       "        <tr>\n",
       "            <td>10</td>\n",
       "            <td>megha</td>\n",
       "            <td>25</td>\n",
       "            <td>marketing specialist</td>\n",
       "        </tr>\n",
       "        <tr>\n",
       "            <td>11</td>\n",
       "            <td>sanjay</td>\n",
       "            <td>28</td>\n",
       "            <td>biomedical engineer</td>\n",
       "        </tr>\n",
       "        <tr>\n",
       "            <td>12</td>\n",
       "            <td>swetha</td>\n",
       "            <td>24</td>\n",
       "            <td>UX designer</td>\n",
       "        </tr>\n",
       "        <tr>\n",
       "            <td>13</td>\n",
       "            <td>harish</td>\n",
       "            <td>31</td>\n",
       "            <td>financial analyst</td>\n",
       "        </tr>\n",
       "        <tr>\n",
       "            <td>14</td>\n",
       "            <td>priya</td>\n",
       "            <td>29</td>\n",
       "            <td>HR manager</td>\n",
       "        </tr>\n",
       "        <tr>\n",
       "            <td>15</td>\n",
       "            <td>vivek</td>\n",
       "            <td>27</td>\n",
       "            <td>software developer</td>\n",
       "        </tr>\n",
       "        <tr>\n",
       "            <td>16</td>\n",
       "            <td>arjun</td>\n",
       "            <td>26</td>\n",
       "            <td>project manager</td>\n",
       "        </tr>\n",
       "        <tr>\n",
       "            <td>17</td>\n",
       "            <td>anjali</td>\n",
       "            <td>30</td>\n",
       "            <td>AI researcher</td>\n",
       "        </tr>\n",
       "        <tr>\n",
       "            <td>18</td>\n",
       "            <td>manoj</td>\n",
       "            <td>25</td>\n",
       "            <td>cloud architect</td>\n",
       "        </tr>\n",
       "        <tr>\n",
       "            <td>19</td>\n",
       "            <td>neha</td>\n",
       "            <td>28</td>\n",
       "            <td>digital marketer</td>\n",
       "        </tr>\n",
       "        <tr>\n",
       "            <td>20</td>\n",
       "            <td>yash</td>\n",
       "            <td>32</td>\n",
       "            <td>cybersecurity specialist</td>\n",
       "        </tr>\n",
       "    </tbody>\n",
       "</table>"
      ],
      "text/plain": [
       "[(1, 'amruth', 26, 'data scientist'),\n",
       " (2, 'akshath', 26, 'mechanical engineer'),\n",
       " (3, 'subhodh', 25, 'analyst'),\n",
       " (4, 'varun', 28, 'software engineer'),\n",
       " (5, 'nisha', 24, 'business analyst'),\n",
       " (6, 'rohit', 29, 'civil engineer'),\n",
       " (7, 'kavya', 27, 'data analyst'),\n",
       " (8, 'pranav', 30, 'machine learning engineer'),\n",
       " (9, 'rakesh', 26, 'electrical engineer'),\n",
       " (10, 'megha', 25, 'marketing specialist'),\n",
       " (11, 'sanjay', 28, 'biomedical engineer'),\n",
       " (12, 'swetha', 24, 'UX designer'),\n",
       " (13, 'harish', 31, 'financial analyst'),\n",
       " (14, 'priya', 29, 'HR manager'),\n",
       " (15, 'vivek', 27, 'software developer'),\n",
       " (16, 'arjun', 26, 'project manager'),\n",
       " (17, 'anjali', 30, 'AI researcher'),\n",
       " (18, 'manoj', 25, 'cloud architect'),\n",
       " (19, 'neha', 28, 'digital marketer'),\n",
       " (20, 'yash', 32, 'cybersecurity specialist')]"
      ]
     },
     "execution_count": 13,
     "metadata": {},
     "output_type": "execute_result"
    }
   ],
   "source": [
    "%%sql  \n",
    "select * from employees"
   ]
  },
  {
   "cell_type": "code",
   "execution_count": 14,
   "metadata": {},
   "outputs": [],
   "source": [
    "connection.close()"
   ]
  },
  {
   "cell_type": "code",
   "execution_count": null,
   "metadata": {},
   "outputs": [],
   "source": []
  }
 ],
 "metadata": {
  "kernelspec": {
   "display_name": "mlops",
   "language": "python",
   "name": "python3"
  },
  "language_info": {
   "codemirror_mode": {
    "name": "ipython",
    "version": 3
   },
   "file_extension": ".py",
   "mimetype": "text/x-python",
   "name": "python",
   "nbconvert_exporter": "python",
   "pygments_lexer": "ipython3",
   "version": "3.12.0"
  }
 },
 "nbformat": 4,
 "nbformat_minor": 2
}
