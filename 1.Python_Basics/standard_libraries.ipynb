{
 "cells": [
  {
   "cell_type": "code",
   "execution_count": 1,
   "metadata": {},
   "outputs": [
    {
     "name": "stdout",
     "output_type": "stream",
     "text": [
      "array('i', [1, 2, 3, 4])\n"
     ]
    }
   ],
   "source": [
    "import array\n",
    "arr=array.array('i',[1,2,3,4])\n",
    "print(arr)"
   ]
  },
  {
   "cell_type": "code",
   "execution_count": 7,
   "metadata": {},
   "outputs": [
    {
     "name": "stdout",
     "output_type": "stream",
     "text": [
      "9\n",
      "apple\n"
     ]
    }
   ],
   "source": [
    "import random\n",
    "\n",
    "print(random.randint(1,10))\n",
    "print(random.choice(['apple','banana','cherry']))"
   ]
  },
  {
   "cell_type": "code",
   "execution_count": 8,
   "metadata": {},
   "outputs": [
    {
     "name": "stdout",
     "output_type": "stream",
     "text": [
      "d:\\pythonProjects\\MLOps_Krish_Naik\\1.Python_Basics\n"
     ]
    }
   ],
   "source": [
    "### file and directory access \n",
    "import os \n",
    "\n",
    "print(os.getcwd())"
   ]
  },
  {
   "cell_type": "code",
   "execution_count": 9,
   "metadata": {},
   "outputs": [],
   "source": [
    "os.mkdir('test_dir')"
   ]
  },
  {
   "cell_type": "markdown",
   "metadata": {},
   "source": [
    "# all shutil operations\n",
    "### file operations\n",
    "- copy (src, dst) \n",
    "- copy2 (src, dst) - copy file metadata\n",
    "- copymode (src, dst) - copy file permissions\n",
    "- copystat (src, dst) - copies the metadata\n",
    "\n",
    "### directory operations\n",
    "- copytree (src, dst) - copies entire directory\n",
    "- rmtree (path) - deletes a directory \n",
    "- move (src, dst) - moves a file or renames a file \n",
    "- make_archive (base_name, format, root_dir) - creates an archive\n",
    "- unpack_archive (filename, extract_dir) - extracts a file from an archive \n",
    "- disk_usage (path) - returns total, used and free space\n",
    "\n",
    "### special file handling \n",
    "- copyfile (src, dat) - create symbolic links \n",
    "- copyfileobj(fsrc, fdst, length) - copies a file content from of one oject to other  \n",
    "\n",
    "### error Handling\n",
    "- rmtree(path, onerror=callback) - allows you to handle errors \n",
    "\n",
    "### Advanced Features\n",
    "- copytree(src, dst, ignore=shutil.ignore_patterns('*.pyc', 'tmp*')) - ignores files matching specific pattern\n",
    "\n"
   ]
  },
  {
   "cell_type": "code",
   "execution_count": 14,
   "metadata": {},
   "outputs": [
    {
     "data": {
      "text/plain": [
       "'test_dir/destination.txt'"
      ]
     },
     "execution_count": 14,
     "metadata": {},
     "output_type": "execute_result"
    }
   ],
   "source": [
    "## high level operations on files and colletions of files \n",
    "import shutil \n",
    "shutil.copyfile('package/source.txt','test_dir/destination.txt')"
   ]
  },
  {
   "cell_type": "code",
   "execution_count": 20,
   "metadata": {},
   "outputs": [
    {
     "name": "stdout",
     "output_type": "stream",
     "text": [
      "<class 'str'>\n",
      "{\"name\": \"amruth\", \"age\": 25}\n",
      "{'name': 'amruth', 'age': 25}\n",
      "<class 'dict'>\n"
     ]
    }
   ],
   "source": [
    "# working with json files\n",
    "import json\n",
    "data={'name':'amruth','age':25}\n",
    "\n",
    "json_str=json.dumps(data)\n",
    "print(type(json_str))\n",
    "print(json_str)\n",
    "\n",
    "# convet the string to json\n",
    "parsed_data=json.loads(json_str)\n",
    "print(parsed_data)\n",
    "print(type(parsed_data))\n"
   ]
  },
  {
   "cell_type": "code",
   "execution_count": 21,
   "metadata": {},
   "outputs": [
    {
     "name": "stdout",
     "output_type": "stream",
     "text": [
      "['name', 'age']\n",
      "['Amruth', '32']\n"
     ]
    }
   ],
   "source": [
    "### csv \n",
    "import csv \n",
    "\n",
    "with open('example.csv',mode='w', newline='') as file:\n",
    "    writer=csv.writer(file)\n",
    "    writer.writerow(['name','age'])\n",
    "    writer.writerow(['Amruth',32])\n",
    "\n",
    "with open('example.csv',mode='r') as file:\n",
    "    reader=csv.reader(file)\n",
    "    for row in reader:\n",
    "        print(row)"
   ]
  },
  {
   "cell_type": "code",
   "execution_count": 24,
   "metadata": {},
   "outputs": [
    {
     "name": "stdout",
     "output_type": "stream",
     "text": [
      "2024-12-14 19:04:07.929695\n",
      "2024-12-13 19:04:07.929695\n"
     ]
    }
   ],
   "source": [
    "##datetime \n",
    "from datetime import datetime,timedelta\n",
    "\n",
    "now=datetime.now()\n",
    "print(now)\n",
    "\n",
    "yesterday=now-timedelta(days=1)\n",
    "\n",
    "print(yesterday)"
   ]
  },
  {
   "cell_type": "code",
   "execution_count": 26,
   "metadata": {},
   "outputs": [
    {
     "name": "stdout",
     "output_type": "stream",
     "text": [
      "1734225132.2181642\n",
      "1734225134.2191324\n"
     ]
    }
   ],
   "source": [
    "## time\n",
    "import time  \n",
    "print(time.time())\n",
    "time.sleep(2)\n",
    "print(time.time())"
   ]
  },
  {
   "cell_type": "code",
   "execution_count": 47,
   "metadata": {},
   "outputs": [
    {
     "name": "stdout",
     "output_type": "stream",
     "text": [
      "['123', '71', '21', '71']\n"
     ]
    }
   ],
   "source": [
    "## regular expression \n",
    "import re\n",
    "pattern=r\"(?<=[ a-zA-Z])\\d{1,}\"\n",
    "text=re.findall(pattern,'amruth123 is at 71 21gurukrupa71')\n",
    "print(text)"
   ]
  },
  {
   "cell_type": "code",
   "execution_count": null,
   "metadata": {},
   "outputs": [],
   "source": []
  }
 ],
 "metadata": {
  "kernelspec": {
   "display_name": "mlops",
   "language": "python",
   "name": "python3"
  },
  "language_info": {
   "codemirror_mode": {
    "name": "ipython",
    "version": 3
   },
   "file_extension": ".py",
   "mimetype": "text/x-python",
   "name": "python",
   "nbconvert_exporter": "python",
   "pygments_lexer": "ipython3",
   "version": "3.12.0"
  }
 },
 "nbformat": 4,
 "nbformat_minor": 2
}
