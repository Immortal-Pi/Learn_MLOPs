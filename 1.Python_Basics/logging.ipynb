{
 "cells": [
  {
   "cell_type": "markdown",
   "metadata": {},
   "source": [
    "# Python Logging \n",
    "\n",
    "- used for end to end project to track events, errors and operational information\n",
    "- python built-in loggin module offers a flexible framework for emitting log messages from python program \n"
   ]
  },
  {
   "cell_type": "code",
   "execution_count": 1,
   "metadata": {},
   "outputs": [
    {
     "name": "stderr",
     "output_type": "stream",
     "text": [
      "2024-12-17 12:18:20 - DEBUG - This is a debug message\n",
      "2024-12-17 12:18:20 - INFO - this is a informa message\n",
      "2024-12-17 12:18:20 - WARNING - this is a warning message\n",
      "2024-12-17 12:18:20 - ERROR - this is an error message\n",
      "2024-12-17 12:18:20 - CRITICAL - this is a critical message\n"
     ]
    }
   ],
   "source": [
    "import logging\n",
    "\n",
    "## Configure the basic loggin settings \n",
    "logging.basicConfig(level=logging.DEBUG,\n",
    "                    format=\"%(asctime)s - %(levelname)s - %(message)s\",\n",
    "                    datefmt=\"%Y-%m-%d %H:%M:%S\" \n",
    "                    )\n",
    "\n",
    "## log messages\n",
    "logging.debug('This is a debug message')\n",
    "logging.info('this is a informa message')\n",
    "logging.warning('this is a warning message')\n",
    "logging.error('this is an error message')\n",
    "logging.critical('this is a critical message')\n",
    "\n"
   ]
  },
  {
   "cell_type": "markdown",
   "metadata": {},
   "source": [
    "Python's logging module has several log levels indicating the severity of events. The default levels are:\n",
    "\n",
    "- DEBUG: Detailed information, typically of interest only when diagnosing problems.\n",
    "- INFO: Confirmation that things are working as expected.\n",
    "- WARNING: An indication that something unexpected happened or indicative of some problem in the near future (e.g., ‘disk space low’). The software is still working as expected.\n",
    "- ERROR: Due to a more serious problem, the software has not been able to perform some function.\n",
    "- CRITICAL: A very serious error, indicating that the program itself may be unable to continue running."
   ]
  },
  {
   "cell_type": "code",
   "execution_count": 1,
   "metadata": {},
   "outputs": [],
   "source": [
    "import logging\n",
    "\n",
    "## Configure the basic loggin settings \n",
    "## kernel needs to be restarted every time we change the basic config \n",
    "logging.basicConfig(filename='app.log',\n",
    "                    filemode='w',\n",
    "                    level=logging.DEBUG,\n",
    "                    format=\"%(asctime)s - %(name)s - %(levelname)s - %(message)s\",\n",
    "                    datefmt=\"%Y-%m-%d %H:%M:%S\" \n",
    "                    )\n",
    "\n",
    "## log messages\n",
    "logging.debug('This is a debug message')\n",
    "logging.info('this is a informa message')\n",
    "logging.warning('this is a warning message')\n",
    "logging.error('this is an error message')\n",
    "logging.critical('this is a critical message')\n"
   ]
  },
  {
   "cell_type": "markdown",
   "metadata": {},
   "source": [
    "# logging with multiple loggers \n",
    "- create multiple loggers for different parts of application"
   ]
  },
  {
   "cell_type": "code",
   "execution_count": 1,
   "metadata": {},
   "outputs": [],
   "source": [
    "import logging \n",
    "\n",
    "# create logger for module 1\n",
    "logger1=logging.getLogger('module1')\n",
    "logger1.setLevel(logging.DEBUG)\n",
    "\n",
    "# create logger for module 2\n",
    "logger2=logging.getLogger('module2')\n",
    "logger2.setLevel(logging.WARNING)\n",
    "\n",
    "# Configure logging settings \n",
    "logging.basicConfig(\n",
    "    level=logging.DEBUG,\n",
    "    format='%(asctime)s - %(name)s - %(levelname)s - %(message)s',\n",
    "    datefmt='%Y-%m-%d %H:%M:%S'\n",
    ")"
   ]
  },
  {
   "cell_type": "code",
   "execution_count": 2,
   "metadata": {},
   "outputs": [
    {
     "name": "stderr",
     "output_type": "stream",
     "text": [
      "2024-12-17 12:48:56 - module1 - DEBUG - This is debug for module 1\n",
      "2024-12-17 12:48:56 - module2 - WARNING - This is a warning for module 2\n",
      "2024-12-17 12:48:56 - module2 - ERROR - This is a error for module 2\n"
     ]
    }
   ],
   "source": [
    "### log message with different logger\n",
    "logger1.debug('This is debug for module 1')\n",
    "logger2.warning('This is a warning for module 2')\n",
    "logger2.error('This is a error for module 2')"
   ]
  },
  {
   "cell_type": "code",
   "execution_count": 1,
   "metadata": {},
   "outputs": [
    {
     "name": "stderr",
     "output_type": "stream",
     "text": [
      "DEBUG:root:hello debug\n",
      "INFO:root:hello\n",
      "WARNING:root:hello \n",
      "ERROR:root:hello\n",
      "CRITICAL:root:hello\n"
     ]
    }
   ],
   "source": [
    "# logging in real world example\n",
    "import logging \n",
    "\n",
    "logging.basicConfig(level=logging.DEBUG)\n",
    "\n",
    "logging.debug('hello debug')\n",
    "logging.info('hello')\n",
    "logging.warning('hello ')\n",
    "logging.error('hello')\n",
    "logging.critical('hello')"
   ]
  },
  {
   "cell_type": "code",
   "execution_count": 1,
   "metadata": {},
   "outputs": [],
   "source": [
    "# configure logging \n",
    "import logging \n",
    "logging.basicConfig(\n",
    "    filename='app.log',\n",
    "    filemode='w',\n",
    "    level=logging.DEBUG,\n",
    "    format='%(asctime)s-%(name)s-%(levelname)s-%(message)s',\n",
    "    datefmt='%Y-%m-%d %H:%M:%S'\n",
    ")\n",
    "\n",
    "logging.debug('hello debug')\n",
    "logging.info('hello')\n",
    "logging.warning('hello ')\n",
    "logging.error('hello')\n",
    "logging.critical('hello')"
   ]
  },
  {
   "cell_type": "code",
   "execution_count": null,
   "metadata": {},
   "outputs": [],
   "source": []
  }
 ],
 "metadata": {
  "kernelspec": {
   "display_name": "mlops",
   "language": "python",
   "name": "python3"
  },
  "language_info": {
   "codemirror_mode": {
    "name": "ipython",
    "version": 3
   },
   "file_extension": ".py",
   "mimetype": "text/x-python",
   "name": "python",
   "nbconvert_exporter": "python",
   "pygments_lexer": "ipython3",
   "version": "3.12.0"
  }
 },
 "nbformat": 4,
 "nbformat_minor": 2
}
