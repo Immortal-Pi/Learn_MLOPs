{
 "cells": [
  {
   "cell_type": "markdown",
   "metadata": {},
   "source": [
    "# Filter function \n",
    "\n",
    "the filter() function constructs an iterator from elements of an iterable for which a function returns true. it is used to filter out items from a list (or any other iterable) based on a condition"
   ]
  },
  {
   "cell_type": "code",
   "execution_count": 1,
   "metadata": {},
   "outputs": [],
   "source": [
    "def even(num):\n",
    "    if num%2==0:\n",
    "        return True\n",
    "    else:\n",
    "        return False"
   ]
  },
  {
   "cell_type": "code",
   "execution_count": 6,
   "metadata": {},
   "outputs": [
    {
     "data": {
      "text/plain": [
       "[2, 4, 8, 10, 12, 14, 16]"
      ]
     },
     "execution_count": 6,
     "metadata": {},
     "output_type": "execute_result"
    }
   ],
   "source": [
    "# filter out items from a list based on a condition \n",
    "\n",
    "lst=[1,2,3,4,5,67,7,8,9,10,11,12,13,14,15,16]\n",
    "\n",
    "numbers=list(filter(even,lst))\n",
    "numbers"
   ]
  },
  {
   "cell_type": "code",
   "execution_count": 8,
   "metadata": {},
   "outputs": [
    {
     "data": {
      "text/plain": [
       "[2, 4, 6, 8, 10, 22, 456, 2, 56, 234, 234, 346352, 34, 34]"
      ]
     },
     "execution_count": 8,
     "metadata": {},
     "output_type": "execute_result"
    }
   ],
   "source": [
    "# filter function with lambda variables\n",
    "numbers=[1,2,3,4,5,6,7,8,9,10,22,43,21,456,2,56,234,3,234,346352,34,34]\n",
    "\n",
    "even_number_function=lambda x: x%2==0\n",
    "\n",
    "even_numbers=list(filter(even_number_function,numbers))\n",
    "even_numbers"
   ]
  },
  {
   "cell_type": "code",
   "execution_count": 9,
   "metadata": {},
   "outputs": [
    {
     "data": {
      "text/plain": [
       "[6, 8, 12, 2222]"
      ]
     },
     "execution_count": 9,
     "metadata": {},
     "output_type": "execute_result"
    }
   ],
   "source": [
    "# filter with lambda function and multiple conditions\n",
    "numbers=[1,2,3,4,5,6,7,23,8,0,-2,-44,12,2222,2]\n",
    "even_number_and_greater_than_fice=list(filter(lambda x:x>5 and x%2==0,numbers))\n",
    "even_number_and_greater_than_fice"
   ]
  },
  {
   "cell_type": "code",
   "execution_count": 14,
   "metadata": {},
   "outputs": [
    {
     "data": {
      "text/plain": [
       "[{'name': 'priya', 'age': 28},\n",
       " {'name': 'ravi', 'age': 30},\n",
       " {'name': 'vikram', 'age': 27},\n",
       " {'name': 'meena', 'age': 26},\n",
       " {'name': 'sachin', 'age': 29},\n",
       " {'name': 'kiran', 'age': 31},\n",
       " {'name': 'rahul', 'age': 28},\n",
       " {'name': 'pranav', 'age': 27},\n",
       " {'name': 'gautam', 'age': 29},\n",
       " {'name': 'arjun', 'age': 30},\n",
       " {'name': 'manisha', 'age': 26}]"
      ]
     },
     "execution_count": 14,
     "metadata": {},
     "output_type": "execute_result"
    }
   ],
   "source": [
    "## filter() to check if the age is greater than 25 in dictionary \n",
    "people = [\n",
    "    {'name': 'amruth', 'age': 25},\n",
    "    {'name': 'akshath', 'age': 24},\n",
    "    {'name': 'priya', 'age': 28},\n",
    "    {'name': 'ravi', 'age': 30},\n",
    "    {'name': 'ananya', 'age': 22},\n",
    "    {'name': 'vikram', 'age': 27},\n",
    "    {'name': 'meena', 'age': 26},\n",
    "    {'name': 'sachin', 'age': 29},\n",
    "    {'name': 'divya', 'age': 23},\n",
    "    {'name': 'kiran', 'age': 31},\n",
    "    {'name': 'sneha', 'age': 24},\n",
    "    {'name': 'tarun', 'age': 25},\n",
    "    {'name': 'shreya', 'age': 21},\n",
    "    {'name': 'rahul', 'age': 28},\n",
    "    {'name': 'pranav', 'age': 27},\n",
    "    {'name': 'nisha', 'age': 22},\n",
    "    {'name': 'gautam', 'age': 29},\n",
    "    {'name': 'pooja', 'age': 23},\n",
    "    {'name': 'arjun', 'age': 30},\n",
    "    {'name': 'manisha', 'age': 26}\n",
    "]\n",
    "\n",
    "def age_greater_than_25(people):\n",
    "    return people['age']>25\n",
    "\n",
    "data=list(filter(age_greater_than_25,people))\n",
    "data"
   ]
  },
  {
   "cell_type": "code",
   "execution_count": null,
   "metadata": {},
   "outputs": [],
   "source": []
  }
 ],
 "metadata": {
  "kernelspec": {
   "display_name": "mlops",
   "language": "python",
   "name": "python3"
  },
  "language_info": {
   "codemirror_mode": {
    "name": "ipython",
    "version": 3
   },
   "file_extension": ".py",
   "mimetype": "text/x-python",
   "name": "python",
   "nbconvert_exporter": "python",
   "pygments_lexer": "ipython3",
   "version": "3.12.0"
  }
 },
 "nbformat": 4,
 "nbformat_minor": 2
}
