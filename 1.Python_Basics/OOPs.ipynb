{
 "cells": [
  {
   "cell_type": "markdown",
   "metadata": {},
   "source": [
    "# classes and objects"
   ]
  },
  {
   "cell_type": "code",
   "execution_count": 2,
   "metadata": {},
   "outputs": [],
   "source": [
    "class Car:\n",
    "    pass "
   ]
  },
  {
   "cell_type": "code",
   "execution_count": 3,
   "metadata": {},
   "outputs": [
    {
     "name": "stdout",
     "output_type": "stream",
     "text": [
      "<class '__main__.Car'>\n"
     ]
    },
    {
     "data": {
      "text/plain": [
       "['__class__',\n",
       " '__delattr__',\n",
       " '__dict__',\n",
       " '__dir__',\n",
       " '__doc__',\n",
       " '__eq__',\n",
       " '__format__',\n",
       " '__ge__',\n",
       " '__getattribute__',\n",
       " '__getstate__',\n",
       " '__gt__',\n",
       " '__hash__',\n",
       " '__init__',\n",
       " '__init_subclass__',\n",
       " '__le__',\n",
       " '__lt__',\n",
       " '__module__',\n",
       " '__ne__',\n",
       " '__new__',\n",
       " '__reduce__',\n",
       " '__reduce_ex__',\n",
       " '__repr__',\n",
       " '__setattr__',\n",
       " '__sizeof__',\n",
       " '__str__',\n",
       " '__subclasshook__',\n",
       " '__weakref__']"
      ]
     },
     "execution_count": 3,
     "metadata": {},
     "output_type": "execute_result"
    }
   ],
   "source": [
    "audi=Car()\n",
    "bmw=Car()\n",
    "\n",
    "print(type(audi))\n",
    "dir(audi)\n"
   ]
  },
  {
   "cell_type": "code",
   "execution_count": 4,
   "metadata": {},
   "outputs": [],
   "source": [
    "# instance variable and methods \n",
    "class Dog:\n",
    "    def __init__(self,name,age):\n",
    "        self.name=name\n",
    "        self.age=age\n",
    "\n",
    "\n",
    "dog1=Dog('husky',22)"
   ]
  },
  {
   "cell_type": "code",
   "execution_count": 5,
   "metadata": {},
   "outputs": [
    {
     "name": "stdout",
     "output_type": "stream",
     "text": [
      "husky says woof\n",
      "buddy says woof\n"
     ]
    }
   ],
   "source": [
    "# define a class with instance method\n",
    "\n",
    "class Dog:\n",
    "    def __init__(self,name,age):\n",
    "        self.name=name\n",
    "        self.age=age\n",
    "\n",
    "    def bark(self):\n",
    "        print(f'{self.name} says woof')\n",
    "\n",
    "dog1=Dog('husky',22)\n",
    "dog1.bark()\n",
    "dog2=Dog('buddy',2)\n",
    "dog2.bark()"
   ]
  },
  {
   "cell_type": "code",
   "execution_count": 6,
   "metadata": {},
   "outputs": [],
   "source": [
    "# modelling a bank account\n",
    "\n",
    "# define a class for bank account\n",
    "\n",
    "class BankAcconut:\n",
    "    def __init__(self,owner,balance=0):\n",
    "        self.owner=owner\n",
    "        self.balance=balance\n",
    "\n",
    "    def deposit(self,amount):\n",
    "        self.balance+=amount\n",
    "        print(f'{amount} is deposited. New balance is {self.balance}')\n",
    "\n",
    "    def withdraw(self,amount):\n",
    "        if amount>self.balance:\n",
    "            print('Insufficient funds!')\n",
    "        else:\n",
    "            self.balance-=amount\n",
    "            print(f'{amount} is withdrawn, New Balance is {self.balance}')\n",
    "    \n",
    "    def __str__(self):\n",
    "        return f'name: {self.owner} balance: {self.balance}'"
   ]
  },
  {
   "cell_type": "code",
   "execution_count": 7,
   "metadata": {},
   "outputs": [
    {
     "name": "stdout",
     "output_type": "stream",
     "text": [
      "name: amruth balance: 200\n",
      "100 is deposited. New balance is 300\n",
      "20 is withdrawn, New Balance is 280\n",
      "name: amruth balance: 280\n"
     ]
    }
   ],
   "source": [
    "account1=BankAcconut('amruth',200)\n",
    "print(account1)\n",
    "account1.deposit(100)\n",
    "account1.withdraw(20)\n",
    "print(account1)"
   ]
  },
  {
   "cell_type": "markdown",
   "metadata": {},
   "source": [
    "# inheritance\n",
    "- inherit attributes and methods from other class "
   ]
  },
  {
   "cell_type": "code",
   "execution_count": 8,
   "metadata": {},
   "outputs": [],
   "source": [
    "# inheritance (single inheriance)\n",
    "# parent class \n",
    "\n",
    "class Car:\n",
    "    def __init__(self,windows,doors,enginetype):\n",
    "        self.windows=windows\n",
    "        self.doors=doors\n",
    "        self.enginetype=enginetype\n",
    "\n",
    "    def drive(self):\n",
    "        print(f'the persoen will drive {self.enginetype} car')\n",
    "\n",
    "\n",
    "class Tesla(Car):\n",
    "    def __init__(self, windows, doors, enginetype='Electric',isSelfDriving=True,range=300):\n",
    "        super().__init__(windows, doors, enginetype)\n",
    "        self.isSelfDriving=isSelfDriving\n",
    "        self.range=range \n",
    "\n",
    "    def selfdriving(self):\n",
    "        print(f'Tesla supports self driving: {self.isSelfDriving}')"
   ]
  },
  {
   "cell_type": "code",
   "execution_count": 9,
   "metadata": {},
   "outputs": [
    {
     "name": "stdout",
     "output_type": "stream",
     "text": [
      "the persoen will drive petrol car\n"
     ]
    }
   ],
   "source": [
    "car1=Car(1,2,'petrol')\n",
    "car1.drive()\n"
   ]
  },
  {
   "cell_type": "code",
   "execution_count": 10,
   "metadata": {},
   "outputs": [
    {
     "name": "stdout",
     "output_type": "stream",
     "text": [
      "Tesla supports self driving: True\n",
      "the persoen will drive Electric car\n"
     ]
    }
   ],
   "source": [
    "tesla1=Tesla(4,5)\n",
    "tesla1.selfdriving()\n",
    "tesla1.drive()\n"
   ]
  },
  {
   "cell_type": "code",
   "execution_count": 44,
   "metadata": {},
   "outputs": [],
   "source": [
    "# multiple inheritance \n",
    "# when a class inherits from more than one base class \n",
    "class Car:\n",
    "    def __init__(self,windows,doors,enginetype):\n",
    "        self.windows=windows\n",
    "        self.doors=doors\n",
    "        self.enginetype=enginetype\n",
    "\n",
    "    def drive(self):\n",
    "        print(f'the persoen will drive {self.enginetype} car')\n",
    "\n",
    "    def __str__(self):\n",
    "        return f'car features:\\nwindows:{self.windows}\\ndoors:{self.doors}\\nengine:{self.enginetype}'\n",
    "\n",
    "class Auto_features:\n",
    "    def __init__(self,speed,mileage):\n",
    "        self.speed=speed\n",
    "        self.mileage=mileage\n",
    "\n",
    "    def autospecs(self):\n",
    "        print(f'speed {self.speed} ,{self.mileage}')\n",
    "\n",
    "    def __str__(self):\n",
    "        return f'\\nspeed: {self.speed} \\nmileage:{self.mileage}'\n",
    "\n",
    "class Tesla(Auto_features,Car):\n",
    "    def __init__(self, windows, doors,speed,mileage,enginetype='Electric',isSelfDriving=True,range=300):\n",
    "        Car.__init__(self,windows, doors, enginetype)\n",
    "        Auto_features.__init__(self,speed,mileage)\n",
    "        self.isSelfDriving=isSelfDriving\n",
    "        self.range=range \n",
    "\n",
    "    def selfdriving(self):\n",
    "        print(f'Tesla supports self driving: {self.isSelfDriving}')\n",
    "\n",
    "    def __str__(self):\n",
    "        return f'{Car.__str__(self)} {Auto_features.__str__(self)}'"
   ]
  },
  {
   "cell_type": "code",
   "execution_count": 45,
   "metadata": {},
   "outputs": [
    {
     "name": "stdout",
     "output_type": "stream",
     "text": [
      "the persoen will drive Electric car\n",
      "speed 220 ,50\n",
      "Tesla supports self driving: True\n",
      "car features:\n",
      "windows:2\n",
      "doors:4\n",
      "engine:Electric \n",
      "speed: 220 \n",
      "mileage:50\n"
     ]
    }
   ],
   "source": [
    "Tesla1=Tesla(2,4,220,50)\n",
    "Tesla1.drive()\n",
    "Tesla1.autospecs()\n",
    "Tesla1.selfdriving()\n",
    "print(Tesla1)"
   ]
  },
  {
   "cell_type": "markdown",
   "metadata": {},
   "source": [
    "# Polymorphism\n",
    "\n",
    "- provides you a way of performing a single action in different forms\n",
    "- achined through method ovveriding and interfaces"
   ]
  },
  {
   "cell_type": "markdown",
   "metadata": {},
   "source": [
    "### method overriding\n",
    "- allows a child class to provide a specific implementation of a method that is already defined in its parent class"
   ]
  },
  {
   "cell_type": "code",
   "execution_count": 51,
   "metadata": {},
   "outputs": [
    {
     "name": "stdout",
     "output_type": "stream",
     "text": [
      "Woof !\n",
      "Meow !\n"
     ]
    }
   ],
   "source": [
    "class Animal:\n",
    "    def speak(self):\n",
    "        return 'Sound of an animal'\n",
    "    \n",
    "class Dog(Animal):\n",
    "    def speak(self):\n",
    "        return \"Woof !\"\n",
    "    \n",
    "class Cat(Animal):\n",
    "    def speak(self):\n",
    "        return \"Meow !\"\n",
    "\n",
    "## Function that demonstrates polymorphism\n",
    "def animal_speak(animal):\n",
    "    return animal.speak()   \n",
    "\n",
    "dog=Dog()\n",
    "print(animal_speak(dog))\n",
    "cat=Cat()\n",
    "print(animal_speak(cat))"
   ]
  },
  {
   "cell_type": "code",
   "execution_count": 52,
   "metadata": {},
   "outputs": [],
   "source": [
    "# polymorphism with function \n",
    "# area function with different shapes, shapes being the base class \n"
   ]
  },
  {
   "cell_type": "markdown",
   "metadata": {},
   "source": [
    "### polymorphism with abstract base classes\n",
    "\n",
    "- Abstract base class are used to define common methods for a group of related objects, They can enforce that derived classes implement particular methods, promoting consistency across different implementations\n"
   ]
  },
  {
   "cell_type": "code",
   "execution_count": 56,
   "metadata": {},
   "outputs": [
    {
     "name": "stdout",
     "output_type": "stream",
     "text": [
      "car engine started\n",
      "Motorcycle engine started\n"
     ]
    }
   ],
   "source": [
    "from abc import ABC, abstractmethod\n",
    "\n",
    "## define an abstract class\n",
    "class Vehicle(ABC):\n",
    "    @abstractmethod\n",
    "    def start_engine(self):\n",
    "        pass\n",
    "\n",
    "## derived class 1\n",
    "class Car(Vehicle):\n",
    "    def start_engine(self):\n",
    "        return \"car engine started\" \n",
    "\n",
    "## derived class 2\n",
    "class Motorcycle(Vehicle):\n",
    "    def start_engine(self):\n",
    "        return \"Motorcycle engine started\"  \n",
    "\n",
    "\n",
    "#create objects of car and motorcycle\n",
    "car=Car()\n",
    "motorcycle=Motorcycle()\n",
    "\n",
    "print(car.start_engine())\n",
    "print(motorcycle.start_engine())\n",
    "\n"
   ]
  },
  {
   "cell_type": "markdown",
   "metadata": {},
   "source": [
    "# Encapsulation and Abstraction\n",
    "\n",
    "### Encapsulation \n",
    "- concept of wrapping data(variables) and meothods(functions) together as a single unit. It restricts direct access to some of the object's components, which is a means of preventing accidental interference and misuse of the data\n",
    "\n",
    "### Abstraction\n",
    "- concept involves building complex implementation details and exposing only the necessary features"
   ]
  },
  {
   "cell_type": "code",
   "execution_count": 59,
   "metadata": {},
   "outputs": [],
   "source": [
    "### Encapsulation with getter and setter Methods \n",
    "### Public, protected and private variables "
   ]
  },
  {
   "cell_type": "code",
   "execution_count": 69,
   "metadata": {},
   "outputs": [
    {
     "name": "stdout",
     "output_type": "stream",
     "text": [
      "amruth\n",
      "amruth\n"
     ]
    }
   ],
   "source": [
    "class Person:\n",
    "    def __init__(self,name,age):\n",
    "        self.name=name ##public access modifier \n",
    "        self.age=age   ##public access modifier \n",
    "\n",
    "    def get_name(self):\n",
    "        return self.name \n",
    "\n",
    "p1=Person('amruth',25)\n",
    "print(p1.name)\n",
    "print(p1.get_name())"
   ]
  },
  {
   "cell_type": "code",
   "execution_count": 75,
   "metadata": {},
   "outputs": [
    {
     "name": "stdout",
     "output_type": "stream",
     "text": [
      "['_Person__age', '_Person__name', '__class__', '__delattr__', '__dict__', '__dir__', '__doc__', '__eq__', '__format__', '__ge__', '__getattribute__', '__getstate__', '__gt__', '__hash__', '__init__', '__init_subclass__', '__le__', '__lt__', '__module__', '__ne__', '__new__', '__reduce__', '__reduce_ex__', '__repr__', '__setattr__', '__sizeof__', '__str__', '__subclasshook__', '__weakref__', 'get_name', 'goose']\n",
      "amruth\n"
     ]
    }
   ],
   "source": [
    "class Person:\n",
    "    def __init__(self,name,age):\n",
    "        self.__name=name ##private access modifier \n",
    "        self.__age=age   ##private access modifier\n",
    "        self.goose=2 \n",
    "\n",
    "    def get_name(self):\n",
    "        return self.__name \n",
    "\n",
    "p1=Person('amruth',25)\n",
    "print(dir(p1))\n",
    "print(p1.get_name())"
   ]
  },
  {
   "cell_type": "code",
   "execution_count": 79,
   "metadata": {},
   "outputs": [
    {
     "name": "stdout",
     "output_type": "stream",
     "text": [
      "['__class__', '__delattr__', '__dict__', '__dir__', '__doc__', '__eq__', '__format__', '__ge__', '__getattribute__', '__getstate__', '__gt__', '__hash__', '__init__', '__init_subclass__', '__le__', '__lt__', '__module__', '__ne__', '__new__', '__reduce__', '__reduce_ex__', '__repr__', '__setattr__', '__sizeof__', '__str__', '__subclasshook__', '__weakref__', '_age', '_name', 'get_name', 'goose']\n",
      "amruth\n"
     ]
    }
   ],
   "source": [
    "class Person:\n",
    "    def __init__(self,name,age):\n",
    "        self._name=name ##protected access modifier \n",
    "        self._age=age   ##protected access modifier\n",
    "        self.goose=2 \n",
    "\n",
    "    def get_name(self):\n",
    "        return self._name \n",
    "\n",
    "p1=Person('amruth',25)\n",
    "print(dir(p1))\n",
    "print(p1._name)"
   ]
  },
  {
   "cell_type": "code",
   "execution_count": 84,
   "metadata": {},
   "outputs": [
    {
     "name": "stdout",
     "output_type": "stream",
     "text": [
      "amruth\n",
      "['_Person__age', '__class__', '__delattr__', '__dict__', '__dir__', '__doc__', '__eq__', '__format__', '__ge__', '__getattribute__', '__getstate__', '__gt__', '__hash__', '__init__', '__init_subclass__', '__le__', '__lt__', '__module__', '__ne__', '__new__', '__reduce__', '__reduce_ex__', '__repr__', '__setattr__', '__sizeof__', '__str__', '__subclasshook__', '__weakref__', '_name', 'gender', 'get_name']\n"
     ]
    },
    {
     "data": {
      "text/plain": [
       "'amruth'"
      ]
     },
     "execution_count": 84,
     "metadata": {},
     "output_type": "execute_result"
    }
   ],
   "source": [
    "# example\n",
    "class Person:\n",
    "    def __init__(self,name,age,gender):\n",
    "        self._name=name\n",
    "        self.__age=age\n",
    "        self.gender=gender\n",
    "\n",
    "class Employee(Person):\n",
    "    def __init__(self, name, age, gender):\n",
    "        super().__init__(name, age, gender)\n",
    "\n",
    "    def get_name(person):\n",
    "        return person._name\n",
    "\n",
    "person=Employee('amruth',23,'Male')\n",
    "print(person._name)\n",
    "print(dir(person))\n",
    "person.get_name()"
   ]
  },
  {
   "cell_type": "code",
   "execution_count": 89,
   "metadata": {},
   "outputs": [],
   "source": [
    "## Encapuslation with getter and setter methods \n",
    "class Person:\n",
    "    def __init__(self,name,age,gender):\n",
    "        self.__name=name\n",
    "        self.__age=age\n",
    "        self.gender=gender\n",
    "\n",
    "    ## getter method for name\n",
    "    def get_name(self):\n",
    "        return self.__name\n",
    "    \n",
    "    ## setter method for name\n",
    "    def set_name(self,name):\n",
    "        self.__name=name\n",
    "\n",
    "    def get_age(self):\n",
    "        return self.__age\n",
    "    def set_age(self,age):\n",
    "        if age>0:\n",
    "            self.__age=age\n",
    "        else:\n",
    "            print('age cannot be negative')"
   ]
  },
  {
   "cell_type": "code",
   "execution_count": 90,
   "metadata": {},
   "outputs": [
    {
     "name": "stdout",
     "output_type": "stream",
     "text": [
      "amruth\n",
      "akshath\n"
     ]
    }
   ],
   "source": [
    "person1=Person('amruth',24,'M')\n",
    "\n",
    "print(person1.get_name())\n",
    "person1.set_name('akshath')\n",
    "print(person1.get_name())\n",
    "\n",
    "print(person1.set_age())"
   ]
  },
  {
   "cell_type": "markdown",
   "metadata": {},
   "source": [
    "# Abstraction\n",
    "- concept of hiding the complex implemetation details and showing only the necessary features of an object.\n",
    "- this helps in reducing programming complexity and effort"
   ]
  },
  {
   "cell_type": "code",
   "execution_count": 95,
   "metadata": {},
   "outputs": [
    {
     "ename": "TypeError",
     "evalue": "Can't instantiate abstract class Vehicle without an implementation for abstract method 'start_engine'",
     "output_type": "error",
     "traceback": [
      "\u001b[1;31m---------------------------------------------------------------------------\u001b[0m",
      "\u001b[1;31mTypeError\u001b[0m                                 Traceback (most recent call last)",
      "Cell \u001b[1;32mIn[95], line 22\u001b[0m\n\u001b[0;32m     18\u001b[0m     vehicle\u001b[38;5;241m.\u001b[39mstart_engine()\n\u001b[0;32m     21\u001b[0m car\u001b[38;5;241m=\u001b[39mCar()\n\u001b[1;32m---> 22\u001b[0m vehicle\u001b[38;5;241m=\u001b[39m\u001b[43mVehicle\u001b[49m\u001b[43m(\u001b[49m\u001b[43m)\u001b[49m\n\u001b[0;32m     23\u001b[0m operate_vehicle(car)\n",
      "\u001b[1;31mTypeError\u001b[0m: Can't instantiate abstract class Vehicle without an implementation for abstract method 'start_engine'"
     ]
    }
   ],
   "source": [
    "from abc import abstractmethod, ABC\n",
    "\n",
    "#abstract base class \n",
    "class Vehicle(ABC):\n",
    "    def drive(self):\n",
    "        print('the vehicle is used for driving')\n",
    "    \n",
    "    @abstractmethod\n",
    "    def start_engine(self):\n",
    "        pass \n",
    "\n",
    "class Car(Vehicle):\n",
    "\n",
    "    def start_engine(self):\n",
    "        print('Car engine started')\n",
    "\n",
    "def operate_vehicle(vehicle):\n",
    "    vehicle.start_engine()\n",
    "\n",
    "\n",
    "car=Car()\n",
    "vehicle=Vehicle() # implemetation for abstract method is required\n",
    "operate_vehicle(car)\n"
   ]
  },
  {
   "cell_type": "markdown",
   "metadata": {},
   "source": [
    "# Magic methods\n",
    "- dunder methods (double underscore methods)\n",
    "- enable you to defin the behaviour of objects for built-in operations, such as arithmetic operations, comparisons and more \n",
    "\n",
    "#### examples \n",
    "- init\n",
    "- str\n",
    "- repr\n",
    "- len\n",
    "- getitem\n",
    "- setitem\n"
   ]
  },
  {
   "cell_type": "code",
   "execution_count": 102,
   "metadata": {},
   "outputs": [
    {
     "name": "stdout",
     "output_type": "stream",
     "text": [
      "name: amruth, age: 24\n",
      "Person(name=amruth, age=24)\n"
     ]
    }
   ],
   "source": [
    "#basic methods \n",
    "\n",
    "class Person:\n",
    "    def __init__(self,name,age):\n",
    "        self.__name=name\n",
    "        self.__age=age\n",
    "\n",
    "    def __str__(self):\n",
    "        return f'name: {self.__name}, age: {self.__age}'\n",
    "    # represenation of an object\n",
    "    def __repr__(self): # mainly used for debugging purpose \n",
    "        return f'Person(name={self.__name}, age={self.__age})'\n",
    "\n",
    "person=Person('amruth',24)\n",
    "print(person)\n",
    "print(repr(person))\n"
   ]
  },
  {
   "cell_type": "markdown",
   "metadata": {},
   "source": [
    "# Operator Overloading "
   ]
  },
  {
   "cell_type": "code",
   "execution_count": 104,
   "metadata": {},
   "outputs": [
    {
     "data": {
      "text/plain": [
       "'\\n__add__(self, other): Adds two objects using the + operator.\\n__sub__(self, other): Subtracts two objects using the - operator.\\n__mul__(self, other): Multiplies two objects using the * operator.\\n__truediv__(self, other): Divides two objects using the / operator.\\n__eq__(self, other): Checks if two objects are equal using the == operator.\\n__lt__(self, other): Checks if one object is less than another using the < operator.\\n__gt__(self, other): greater than another > operator \\n'"
      ]
     },
     "execution_count": 104,
     "metadata": {},
     "output_type": "execute_result"
    }
   ],
   "source": [
    "#### common operatoe overloading magic methods\n",
    "'''\n",
    "__add__(self, other): Adds two objects using the + operator.\n",
    "__sub__(self, other): Subtracts two objects using the - operator.\n",
    "__mul__(self, other): Multiplies two objects using the * operator.\n",
    "__truediv__(self, other): Divides two objects using the / operator.\n",
    "__eq__(self, other): Checks if two objects are equal using the == operator.\n",
    "__lt__(self, other): Checks if one object is less than another using the < operator.\n",
    "__gt__(self, other): greater than another > operator \n",
    "'''"
   ]
  },
  {
   "cell_type": "code",
   "execution_count": 107,
   "metadata": {},
   "outputs": [
    {
     "name": "stdout",
     "output_type": "stream",
     "text": [
      "Vector(6, 8)\n",
      "Vector(-2, -2)\n",
      "Vector(8, 15)\n"
     ]
    }
   ],
   "source": [
    "## Mathematical operations on variables \n",
    "class Vector:\n",
    "    def __init__(self,x,y):\n",
    "        self.x=x\n",
    "        self.y=y\n",
    "\n",
    "    def __add__(self,other):\n",
    "        return Vector(self.x+other.x,self.y+other.y)\n",
    "    \n",
    "    def __sub__(self,other):\n",
    "        return Vector(self.x-other.x,self.y-other.y)\n",
    "    \n",
    "    def __mul__(self,other):\n",
    "        return Vector(self.x*other.x,self.y*other.y)\n",
    "    \n",
    "    def __eq__(self, other):\n",
    "        return self.x==other.x and self.y==other.y\n",
    "    \n",
    "    def __repr__(self):\n",
    "        return f'Vector({self.x}, {self.y})'\n",
    "\n",
    "## create objects of the Vector class \n",
    "v1=Vector(2,3)\n",
    "v2=Vector(4,5)\n",
    "\n",
    "print(v1+v2)\n",
    "print(v1-v2)\n",
    "print(v1*v2)"
   ]
  },
  {
   "cell_type": "code",
   "execution_count": 109,
   "metadata": {},
   "outputs": [
    {
     "name": "stdout",
     "output_type": "stream",
     "text": [
      "3 + 7i\n",
      "1 + -1i\n",
      "-10 + 11i\n",
      "None\n",
      "False\n"
     ]
    }
   ],
   "source": [
    "### Overloading operators for complex numbers \n",
    "class ComplexNumber:\n",
    "    def __init__(self,real,imag):\n",
    "        self.real=real\n",
    "        self.imag=imag \n",
    "\n",
    "    def __add__(self,other):\n",
    "        return ComplexNumber(self.real+other.real,self.imag+other.imag)\n",
    "    \n",
    "    def __sub__(self,other):\n",
    "        return ComplexNumber(self.real-other.real,self.imag-other.imag)\n",
    "    \n",
    "    def __mul__(self,other):\n",
    "        real_part=self.real*other.real- self.imag*other.imag\n",
    "        imag_part=self.real*other.imag + self.imag * other.real\n",
    "        return ComplexNumber(real_part,imag_part)\n",
    "    \n",
    "    def __truediv__(self,other):\n",
    "        denominator=other.real**2 + other.imag**2\n",
    "        read_part=(self.real*other.real+ self.imag*other.imag)/denominator\n",
    "        imag_part=(self.imag*other.real + self.real * other.imag)/denominator\n",
    "    \n",
    "    def __eq__(self, other):\n",
    "        return self.real==other.real and self.imag==other.imag\n",
    "\n",
    "    def __repr__(self):\n",
    "        return f'{self.real} + {self.imag}i'\n",
    "    \n",
    "# create objects of the complex number class\n",
    "c1=ComplexNumber(2,3)\n",
    "c2=ComplexNumber(1,4)\n",
    "\n",
    "print(c1+c2)\n",
    "print(c1-c2)\n",
    "print(c1*c2)\n",
    "print(c1/c2)\n",
    "print(c1==c2)        "
   ]
  },
  {
   "cell_type": "code",
   "execution_count": null,
   "metadata": {},
   "outputs": [],
   "source": []
  }
 ],
 "metadata": {
  "kernelspec": {
   "display_name": "mlops",
   "language": "python",
   "name": "python3"
  },
  "language_info": {
   "codemirror_mode": {
    "name": "ipython",
    "version": 3
   },
   "file_extension": ".py",
   "mimetype": "text/x-python",
   "name": "python",
   "nbconvert_exporter": "python",
   "pygments_lexer": "ipython3",
   "version": "3.12.0"
  }
 },
 "nbformat": 4,
 "nbformat_minor": 2
}
