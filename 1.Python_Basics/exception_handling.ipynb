{
 "cells": [
  {
   "cell_type": "markdown",
   "metadata": {},
   "source": [
    "# Exception handling\n",
    "- allows to handle errors gracefully and take corrective actions without stopping the execution of the program. \n",
    "- not break the execution of the program and raise the error\n"
   ]
  },
  {
   "cell_type": "code",
   "execution_count": 1,
   "metadata": {},
   "outputs": [
    {
     "ename": "NameError",
     "evalue": "name 'b' is not defined",
     "output_type": "error",
     "traceback": [
      "\u001b[1;31m---------------------------------------------------------------------------\u001b[0m",
      "\u001b[1;31mNameError\u001b[0m                                 Traceback (most recent call last)",
      "Cell \u001b[1;32mIn[1], line 3\u001b[0m\n\u001b[0;32m      1\u001b[0m \u001b[38;5;66;03m## common error exception \u001b[39;00m\n\u001b[1;32m----> 3\u001b[0m a\u001b[38;5;241m=\u001b[39m\u001b[43mb\u001b[49m\n",
      "\u001b[1;31mNameError\u001b[0m: name 'b' is not defined"
     ]
    }
   ],
   "source": [
    "## common error exception \n",
    "\n",
    "a=b"
   ]
  },
  {
   "cell_type": "code",
   "execution_count": 2,
   "metadata": {},
   "outputs": [
    {
     "name": "stdout",
     "output_type": "stream",
     "text": [
      "name 'b' is not defined\n"
     ]
    }
   ],
   "source": [
    "try:\n",
    "    a=b\n",
    "except NameError as e:\n",
    "    print(e)"
   ]
  },
  {
   "cell_type": "code",
   "execution_count": 7,
   "metadata": {},
   "outputs": [],
   "source": [
    "# zero division error \n",
    "try: \n",
    "    result=1/1\n",
    "\n",
    "except ZeroDivisionError as ex:\n",
    "    print(ex)"
   ]
  },
  {
   "cell_type": "code",
   "execution_count": 12,
   "metadata": {},
   "outputs": [
    {
     "name": "stdout",
     "output_type": "stream",
     "text": [
      "name 'b' is not defined\n",
      "main exception got caught here\n"
     ]
    }
   ],
   "source": [
    "# handle all the exceptions\n",
    "try: \n",
    "    result=1/1\n",
    "    a=b \n",
    "except ZeroDivisionError as ex:\n",
    "    print(ex)\n",
    "except Exception as e:\n",
    "    print(e)\n",
    "    print('main exception got caught here')"
   ]
  },
  {
   "cell_type": "code",
   "execution_count": 17,
   "metadata": {},
   "outputs": [
    {
     "name": "stdout",
     "output_type": "stream",
     "text": [
      "enter denominator greater than zero\n"
     ]
    }
   ],
   "source": [
    "# from input \n",
    "try:\n",
    "    num=int(input('Enter a number'))\n",
    "    result=10/num\n",
    "except ValueError as e:\n",
    "    print('not a valid input')\n",
    "except ZeroDivisionError:\n",
    "    print('enter denominator greater than zero')\n",
    "except Exception as e:\n",
    "    print(e)"
   ]
  },
  {
   "cell_type": "code",
   "execution_count": 24,
   "metadata": {},
   "outputs": [
    {
     "name": "stdout",
     "output_type": "stream",
     "text": [
      "the result is 2.0\n"
     ]
    }
   ],
   "source": [
    "# try except, else block \n",
    "try:\n",
    "    num=int(input('Enter a number'))\n",
    "    result=10/num\n",
    "except ValueError as e:\n",
    "    print('not a valid input')\n",
    "except ZeroDivisionError:\n",
    "    print('enter denominator greater than zero')\n",
    "except Exception as e:\n",
    "    print(e)\n",
    "else:\n",
    "    print(f'the result is {result}')"
   ]
  },
  {
   "cell_type": "code",
   "execution_count": 26,
   "metadata": {},
   "outputs": [
    {
     "name": "stdout",
     "output_type": "stream",
     "text": [
      "not a valid input\n",
      "Execution complete\n"
     ]
    }
   ],
   "source": [
    "# try, except,else and finally\n",
    "try:\n",
    "    num=int(input('Enter a number'))\n",
    "    result=10/num\n",
    "except ValueError as e:\n",
    "    print('not a valid input')\n",
    "except ZeroDivisionError:\n",
    "    print('enter denominator greater than zero')\n",
    "except Exception as e:\n",
    "    print(e)\n",
    "else:\n",
    "    print(f'the result is {result}')\n",
    "finally: # has to execute irrespective of errors\n",
    "    print('Execution complete') \n",
    "    # example : can be used for closing a db connection   "
   ]
  },
  {
   "cell_type": "code",
   "execution_count": 35,
   "metadata": {},
   "outputs": [
    {
     "name": "stdout",
     "output_type": "stream",
     "text": [
      "The file does not exists\n",
      "file closed\n"
     ]
    }
   ],
   "source": [
    "# pactical examples \n",
    "# file handling and exception handling \n",
    "\n",
    "try:\n",
    "    with open('test_dir/examples.txt','r') as file:\n",
    "        content=file.read()\n",
    "        print(content)\n",
    "\n",
    "except FileNotFoundError:\n",
    "    print('The file does not exists')\n",
    "except Exception as e:\n",
    "    print(e)\n",
    "finally:\n",
    "    if 'file' in locals() or not file.closed():\n",
    "        file.close()\n",
    "        print('file closed')"
   ]
  },
  {
   "cell_type": "markdown",
   "metadata": {},
   "source": [
    "# Custom exceptions (raise and throw an exception)"
   ]
  },
  {
   "cell_type": "code",
   "execution_count": 36,
   "metadata": {},
   "outputs": [],
   "source": [
    "class Error(Exception):\n",
    "    pass \n",
    "\n",
    "class dobException(Error):\n",
    "    pass \n"
   ]
  },
  {
   "cell_type": "code",
   "execution_count": 38,
   "metadata": {},
   "outputs": [
    {
     "name": "stdout",
     "output_type": "stream",
     "text": [
      "sorry not in age limit\n"
     ]
    }
   ],
   "source": [
    "year=int(input('enter dob'))\n",
    "age=2024-year\n",
    "\n",
    "try:\n",
    "    if age<=30 and age>=20:\n",
    "        print('valid age, can apply for the exam')\n",
    "    else:\n",
    "        raise dobException\n",
    "except dobException:\n",
    "    print('sorry not in age limit')"
   ]
  },
  {
   "cell_type": "code",
   "execution_count": null,
   "metadata": {},
   "outputs": [],
   "source": []
  }
 ],
 "metadata": {
  "kernelspec": {
   "display_name": "mlops",
   "language": "python",
   "name": "python3"
  },
  "language_info": {
   "codemirror_mode": {
    "name": "ipython",
    "version": 3
   },
   "file_extension": ".py",
   "mimetype": "text/x-python",
   "name": "python",
   "nbconvert_exporter": "python",
   "pygments_lexer": "ipython3",
   "version": "3.12.0"
  }
 },
 "nbformat": 4,
 "nbformat_minor": 2
}
