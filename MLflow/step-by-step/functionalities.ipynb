{
 "cells": [
  {
   "cell_type": "markdown",
   "metadata": {},
   "source": [
    "# MLFlow step by step \n"
   ]
  },
  {
   "cell_type": "markdown",
   "metadata": {},
   "source": [
    "## 1. creating experiments"
   ]
  },
  {
   "cell_type": "code",
   "execution_count": 1,
   "metadata": {},
   "outputs": [
    {
     "data": {
      "text/plain": [
       "'773410609055695727'"
      ]
     },
     "execution_count": 1,
     "metadata": {},
     "output_type": "execute_result"
    }
   ],
   "source": [
    "import mlflow\n",
    "\n",
    "mlflow.create_experiment(\n",
    "    name='testing-mlflow4',\n",
    "    artifact_location='testing_mlflow1_artifacts',  # ml workflow \n",
    "    tags={'env':'dev','version':'1.0.0'}            #\n",
    ")"
   ]
  },
  {
   "cell_type": "code",
   "execution_count": 2,
   "metadata": {},
   "outputs": [],
   "source": [
    "# wrapper function to create mlflow experiment \n",
    "from typing import Any \n",
    "def create_mlflow_experiment(experiment_name:str,artifact_location:str,tags:dict[str,Any])-> str:\n",
    "    ''' \n",
    "    Create a new mlflow experiment with the given name and artifact location\n",
    "    '''\n",
    "    try:\n",
    "        experiment_id=mlflow.create_experiment(\n",
    "            name=experiment_name, artifact_location=artifact_location,tags=tags\n",
    "        )\n",
    "    except:\n",
    "        print(f'Experiment {experiment_name} already exists')\n",
    "        experiment_id=mlflow.get_experiment_by_name(experiment_name).experiment_id\n",
    "    return experiment_id"
   ]
  },
  {
   "cell_type": "code",
   "execution_count": 3,
   "metadata": {},
   "outputs": [
    {
     "data": {
      "text/plain": [
       "'990925180578863486'"
      ]
     },
     "execution_count": 3,
     "metadata": {},
     "output_type": "execute_result"
    }
   ],
   "source": [
    "create_mlflow_experiment('testing-mlflow','testing_mlflow1_artifacts',{'env':'prod','version':'2.0.0'})"
   ]
  },
  {
   "cell_type": "markdown",
   "metadata": {},
   "source": [
    "## 2. Retrieving info on existing experiments"
   ]
  },
  {
   "cell_type": "code",
   "execution_count": 4,
   "metadata": {},
   "outputs": [],
   "source": [
    "import mlflow.entities\n",
    "\n",
    "\n",
    "def get_mlflow_experiment(experiment_id:str=None,experiment_name:str=None)-> mlflow.entities.Experiment:\n",
    "    ''' \n",
    "    Retrieve the mlflow experiment with the given id or name \n",
    "    Paramters:\n",
    "    experiment_id: str\n",
    "        The id of the experiment to retieve\n",
    "    experiment_name: str\n",
    "        The name of the experiment to retrieve\n",
    "    \n",
    "        Returns:\n",
    "        experiment:mlflow.entities.Experiment\n",
    "            The mlflow experiment with the given id or name\n",
    "    '''\n",
    "    if experiment_id is not None:\n",
    "        experiment=mlflow.get_experiment(experiment_id)\n",
    "    elif experiment_name is not None:\n",
    "        experiment=mlflow.get_experiment_by_name(experiment_name)\n",
    "    else:\n",
    "        raise ValueError('Either experiment_id or experiment_name must be provided')\n",
    "    return experiment"
   ]
  },
  {
   "cell_type": "code",
   "execution_count": 6,
   "metadata": {},
   "outputs": [
    {
     "name": "stdout",
     "output_type": "stream",
     "text": [
      "Name : testing-mlflow\n",
      "Experiment_id : 990925180578863486\n",
      "Artifact Location : file:///d:/pythonProjects/MLOps_Krish_Naik/MLflow/step-by-step/testing_mlflow1_artifacts\n",
      "Tags : {'env': 'prod', 'version': '2.0.0'}\n",
      "Lifecycle_stage : active\n",
      "Creation timestamp: : 1734999028643\n"
     ]
    }
   ],
   "source": [
    "## 2. Retrieving info on existing experiments\n",
    "\n",
    "\n",
    "experiment=get_mlflow_experiment(experiment_name='testing-mlflow')\n",
    "print(f'Name : {experiment.name}')\n",
    "print(f'Experiment_id : {experiment.experiment_id}')\n",
    "print(f'Artifact Location : {experiment.artifact_location}')\n",
    "print(f'Tags : {experiment.tags}')\n",
    "print(f'Lifecycle_stage : {experiment.lifecycle_stage}')\n",
    "print(f'Creation timestamp: : {experiment.creation_time}')"
   ]
  },
  {
   "cell_type": "markdown",
   "metadata": {},
   "source": [
    "# 3. Delete Experiment "
   ]
  },
  {
   "cell_type": "code",
   "execution_count": 8,
   "metadata": {},
   "outputs": [],
   "source": [
    "#mlflow.delete_experiment(experiment_id='897722527704922899')"
   ]
  },
  {
   "cell_type": "markdown",
   "metadata": {},
   "source": [
    "# 4. Mlflow runs to train the ml models"
   ]
  },
  {
   "cell_type": "code",
   "execution_count": 9,
   "metadata": {},
   "outputs": [
    {
     "name": "stderr",
     "output_type": "stream",
     "text": [
      "2024/12/23 18:10:54 INFO mlflow.tracking.fluent: Experiment with name 'run_test' does not exist. Creating a new experiment.\n"
     ]
    }
   ],
   "source": [
    "mlflow.set_experiment('run_test')\n",
    "with mlflow.start_run():\n",
    "    mlflow.log_param('learning_rate',0.05)\n"
   ]
  },
  {
   "cell_type": "code",
   "execution_count": 10,
   "metadata": {},
   "outputs": [],
   "source": [
    "# method 2 \n",
    "\n",
    "with mlflow.start_run(run_name='mlflow_run'):\n",
    "    mlflow.log_param('learning_rate',0.06)"
   ]
  },
  {
   "cell_type": "code",
   "execution_count": 11,
   "metadata": {},
   "outputs": [
    {
     "name": "stdout",
     "output_type": "stream",
     "text": [
      "runID: f83e66bbcf984baa9d1aaceb1a18898d\n",
      "run info: <RunInfo: artifact_uri='file:///d:/pythonProjects/MLOps_Krish_Naik/MLflow/step-by-step/mlruns/828504590665159851/f83e66bbcf984baa9d1aaceb1a18898d/artifacts', end_time=None, experiment_id='828504590665159851', lifecycle_stage='active', run_id='f83e66bbcf984baa9d1aaceb1a18898d', run_name='mlflow_run', run_uuid='f83e66bbcf984baa9d1aaceb1a18898d', start_time=1734999055951, status='RUNNING', user_id='Immortal_Pi'>\n"
     ]
    }
   ],
   "source": [
    "# method 3 with run info\n",
    "with mlflow.start_run(run_name='mlflow_run') as run:\n",
    "    mlflow.log_param('learning_rate',0.06)\n",
    "    print(f'runID: {run.info.run_id}')\n",
    "    print(f'run info: {run.info}')"
   ]
  },
  {
   "cell_type": "code",
   "execution_count": 12,
   "metadata": {},
   "outputs": [
    {
     "name": "stdout",
     "output_type": "stream",
     "text": [
      "run_id : 233d161d809e43a7a6a70b340f9f5019\n",
      "experiment_id : 285179736425148203\n",
      "status: RUNNING\n",
      "start Time: 1734999056836\n",
      "end Time : None\n",
      "lifecycle_stage : active\n"
     ]
    }
   ],
   "source": [
    "# create and run mlflow experiment \n",
    "\n",
    "experiment_id=create_mlflow_experiment(\n",
    "    experiment_name='testing_mlflow3',\n",
    "    artifact_location='testing_mlflow3_artifacts',\n",
    "    tags={'env':'dev','version':'1.0.2'}\n",
    ")\n",
    "\n",
    "mlflow.set_experiment(experiment_id=experiment_id)\n",
    "with mlflow.start_run(run_name='testing') as run:\n",
    "    mlflow.log_param('learning_rate',0.01)\n",
    "    print(f'run_id : {run.info.run_id}')\n",
    "    print(f'experiment_id : {run.info.experiment_id}')\n",
    "    print(f'status: {run.info.status}')\n",
    "    print(f'start Time: {run.info.start_time}')\n",
    "    print(f'end Time : {run.info.end_time}')\n",
    "    print(f'lifecycle_stage : {run.info.lifecycle_stage}')"
   ]
  },
  {
   "cell_type": "markdown",
   "metadata": {},
   "source": [
    "# 5. log parameters"
   ]
  },
  {
   "cell_type": "code",
   "execution_count": 13,
   "metadata": {},
   "outputs": [
    {
     "name": "stderr",
     "output_type": "stream",
     "text": [
      "2024/12/23 18:11:05 INFO mlflow.tracking.fluent: Experiment with name 'logging_experiment' does not exist. Creating a new experiment.\n"
     ]
    },
    {
     "name": "stdout",
     "output_type": "stream",
     "text": [
      "run_id : 78d7de7f821b40f48681bb7b9ca343a4\n",
      "experiment_id : 637476786088063623\n",
      "status: RUNNING\n",
      "start Time: 1734999065151\n",
      "end Time : None\n",
      "lifecycle_stage : active\n"
     ]
    }
   ],
   "source": [
    "mlflow.set_experiment(experiment_name='logging_experiment')\n",
    "with mlflow.start_run(run_name='logging_parameters') as run:\n",
    "    mlflow.log_param('learning_rate',0.01)\n",
    "\n",
    "    parameters={\n",
    "        'learning_rate':0.01,\n",
    "        'epochs':10,\n",
    "        'batch_size':100,\n",
    "        'loss_function':'mse',\n",
    "        'optimizer':'adam'\n",
    "    }\n",
    "\n",
    "    mlflow.log_params(parameters)\n",
    "\n",
    "    #print run info\n",
    "    print(f'run_id : {run.info.run_id}')\n",
    "    print(f'experiment_id : {run.info.experiment_id}')\n",
    "    print(f'status: {run.info.status}')\n",
    "    print(f'start Time: {run.info.start_time}')\n",
    "    print(f'end Time : {run.info.end_time}')\n",
    "    print(f'lifecycle_stage : {run.info.lifecycle_stage}')\n",
    "\n"
   ]
  },
  {
   "cell_type": "markdown",
   "metadata": {},
   "source": [
    "# 6. logging metrics"
   ]
  },
  {
   "cell_type": "code",
   "execution_count": 16,
   "metadata": {},
   "outputs": [
    {
     "name": "stdout",
     "output_type": "stream",
     "text": [
      "run_id : f006782fecfe424bbd8c3d931dcd4f0e\n",
      "experiment_id : 637476786088063623\n",
      "status: RUNNING\n",
      "start Time: 1735000669212\n",
      "end Time : None\n",
      "lifecycle_stage : active\n"
     ]
    }
   ],
   "source": [
    "mlflow.set_experiment(experiment_name='logging_experiment')\n",
    "with mlflow.start_run(run_name='logging_metrics') as run:\n",
    "    mlflow.log_param('learning_rate2',0.01)\n",
    "    mlflow.log_params(parameters)\n",
    "    metrics={\n",
    "        'mse':0.01,\n",
    "        'mae':0.01,\n",
    "        'rmse':0.01,\n",
    "        'r2':0.01\n",
    "\n",
    "    }\n",
    "\n",
    "    mlflow.log_metrics(metrics)\n",
    "\n",
    "    #print run info\n",
    "    print(f'run_id : {run.info.run_id}')\n",
    "    print(f'experiment_id : {run.info.experiment_id}')\n",
    "    print(f'status: {run.info.status}')\n",
    "    print(f'start Time: {run.info.start_time}')\n",
    "    print(f'end Time : {run.info.end_time}')\n",
    "    print(f'lifecycle_stage : {run.info.lifecycle_stage}')"
   ]
  },
  {
   "cell_type": "markdown",
   "metadata": {},
   "source": [
    "# 7 logging Artifacts\n",
    "- any output generated by ml workflow "
   ]
  },
  {
   "cell_type": "code",
   "execution_count": 19,
   "metadata": {},
   "outputs": [
    {
     "name": "stdout",
     "output_type": "stream",
     "text": [
      "run_id : 61b4b0d2794f40e09306a7c5642df833\n",
      "experiment_id : 637476786088063623\n",
      "status: RUNNING\n",
      "start Time: 1735001358133\n",
      "end Time : None\n",
      "lifecycle_stage : active\n"
     ]
    }
   ],
   "source": [
    "experiment=get_mlflow_experiment(experiment_name='logging_experiment')\n",
    "\n",
    "with mlflow.start_run(run_name='logging_artifact',experiment_id=experiment.experiment_id) as run:\n",
    "    \n",
    "    with open('helloWorld.txt','w') as file:\n",
    "        file.write('Helloworld !!')\n",
    "\n",
    "    mlflow.log_artifact(local_path='HelloWorld.txt',artifact_path='test_files') # give path to artifact\n",
    "    \n",
    "    #print run info\n",
    "    print(f'run_id : {run.info.run_id}')\n",
    "    print(f'experiment_id : {run.info.experiment_id}')\n",
    "    print(f'status: {run.info.status}')\n",
    "    print(f'start Time: {run.info.start_time}')\n",
    "    print(f'end Time : {run.info.end_time}')\n",
    "    print(f'lifecycle_stage : {run.info.lifecycle_stage}')\n"
   ]
  },
  {
   "cell_type": "code",
   "execution_count": 23,
   "metadata": {},
   "outputs": [
    {
     "name": "stdout",
     "output_type": "stream",
     "text": [
      "run_id : f7e2ed9022a54c2385d065ce817430d2\n",
      "experiment_id : 637476786088063623\n",
      "status: RUNNING\n",
      "start Time: 1735002103425\n",
      "end Time : None\n",
      "lifecycle_stage : active\n"
     ]
    }
   ],
   "source": [
    "# second method \n",
    "experiment=get_mlflow_experiment(experiment_name='logging_experiment')\n",
    "\n",
    "with mlflow.start_run(run_name='logging_artifact',experiment_id=experiment.experiment_id) as run:\n",
    "    \n",
    "    with open('./okay/helloWorld.txt','w') as file:\n",
    "        file.write('Helloworld !!')\n",
    "\n",
    "    mlflow.log_artifacts(local_dir='./okay',artifact_path='test_files') # give path to artifact\n",
    "    \n",
    "    #print run info\n",
    "    print(f'run_id : {run.info.run_id}')\n",
    "    print(f'experiment_id : {run.info.experiment_id}')\n",
    "    print(f'status: {run.info.status}')\n",
    "    print(f'start Time: {run.info.start_time}')\n",
    "    print(f'end Time : {run.info.end_time}')\n",
    "    print(f'lifecycle_stage : {run.info.lifecycle_stage}')"
   ]
  },
  {
   "cell_type": "markdown",
   "metadata": {},
   "source": [
    "# 8. logging Images"
   ]
  },
  {
   "cell_type": "code",
   "execution_count": null,
   "metadata": {},
   "outputs": [],
   "source": []
  }
 ],
 "metadata": {
  "kernelspec": {
   "display_name": "mlops",
   "language": "python",
   "name": "python3"
  },
  "language_info": {
   "codemirror_mode": {
    "name": "ipython",
    "version": 3
   },
   "file_extension": ".py",
   "mimetype": "text/x-python",
   "name": "python",
   "nbconvert_exporter": "python",
   "pygments_lexer": "ipython3",
   "version": "3.12.0"
  }
 },
 "nbformat": 4,
 "nbformat_minor": 2
}
