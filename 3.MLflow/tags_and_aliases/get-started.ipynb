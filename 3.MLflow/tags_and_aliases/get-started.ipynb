{
 "cells": [
  {
   "cell_type": "markdown",
   "metadata": {},
   "source": [
    "# Set Model Version Tag "
   ]
  },
  {
   "cell_type": "code",
   "execution_count": 2,
   "metadata": {},
   "outputs": [],
   "source": [
    "import mlflow"
   ]
  },
  {
   "cell_type": "code",
   "execution_count": 3,
   "metadata": {},
   "outputs": [],
   "source": [
    "class MyModel(mlflow.pyfunc.PythonModel):\n",
    "    def predict(self, context, model_input):\n",
    "        return model_input.apply(lambda column: column * 2)"
   ]
  },
  {
   "cell_type": "code",
   "execution_count": 12,
   "metadata": {},
   "outputs": [],
   "source": [
    "with mlflow.start_run() as run:\n",
    "    # Log the model\n",
    "    #mlflow.pyfunc.log_model(\"model\", python_model=MyModel(),registered_model_name=\"MyModel\")\n",
    "\n",
    "    client=mlflow.MlflowClient()\n",
    "    client.set_model_version_tag(name=\"MyModel\",version=1,key=\"tag_key2\",value=\"tag_value2\")\n",
    "    \n"
   ]
  },
  {
   "cell_type": "code",
   "execution_count": 13,
   "metadata": {},
   "outputs": [
    {
     "name": "stderr",
     "output_type": "stream",
     "text": [
      "2024/12/26 17:34:52 WARNING mlflow.models.model: Model logged without a signature and input example. Please set `input_example` parameter when logging the model to auto infer the model signature.\n",
      "Registered model 'MyModel' already exists. Creating a new version of this model...\n",
      "Created version '3' of model 'MyModel'.\n"
     ]
    }
   ],
   "source": [
    "# update the tag value \n",
    "with mlflow.start_run() as run:\n",
    "    # Log the model\n",
    "    mlflow.pyfunc.log_model(\"model\", python_model=MyModel(),registered_model_name=\"MyModel\")\n",
    "\n",
    "    client=mlflow.MlflowClient()\n",
    "    client.set_model_version_tag(name=\"MyModel\",version=2,key=\"tag_key2\",value=\"new_tag_value2\")"
   ]
  },
  {
   "cell_type": "markdown",
   "metadata": {},
   "source": [
    "# Update/Delete Model Version Tag\n"
   ]
  },
  {
   "cell_type": "code",
   "execution_count": 14,
   "metadata": {},
   "outputs": [
    {
     "name": "stderr",
     "output_type": "stream",
     "text": [
      "2024/12/26 17:36:01 WARNING mlflow.models.model: Model logged without a signature and input example. Please set `input_example` parameter when logging the model to auto infer the model signature.\n",
      "Registered model 'MyModel' already exists. Creating a new version of this model...\n",
      "Created version '4' of model 'MyModel'.\n"
     ]
    }
   ],
   "source": [
    "# delete model version tag \n",
    "with mlflow.start_run() as run:\n",
    "    # Log the model\n",
    "    #mlflow.pyfunc.log_model(\"model\", python_model=MyModel(),registered_model_name=\"MyModel\")\n",
    "\n",
    "    client=mlflow.MlflowClient()\n",
    "    client.delete_model_version_tag(name=\"MyModel\",version=3,key=\"tag_key2\")\n",
    "    client.delete_model_version_tag(name=\"MyModel\",version=3,key=\"tag_key\")"
   ]
  },
  {
   "cell_type": "code",
   "execution_count": 15,
   "metadata": {},
   "outputs": [],
   "source": [
    "# set model version tag\n",
    "with mlflow.start_run() as run:\n",
    "    # Log the model\n",
    "    #mlflow.pyfunc.log_model(\"model\", python_model=MyModel(),registered_model_name=\"MyModel\")\n",
    "\n",
    "    client=mlflow.MlflowClient()\n",
    "    client.set_model_version_tag(name=\"MyModel\",version=4,key=\"model_satus\",value=\"validation\")\n",
    "    client.set_model_version_tag(name=\"MyModel\",version=4,key=\"model_Status\",value=\"Ready for Production\")"
   ]
  },
  {
   "cell_type": "markdown",
   "metadata": {},
   "source": [
    "# Retrieve model version tags"
   ]
  },
  {
   "cell_type": "code",
   "execution_count": 22,
   "metadata": {},
   "outputs": [
    {
     "name": "stdout",
     "output_type": "stream",
     "text": [
      "4\n",
      "{'model_satus': 'validation', 'model_Status': 'Ready for Production'}\n"
     ]
    }
   ],
   "source": [
    "with mlflow.start_run() as run:\n",
    "    # Log the model\n",
    "    #mlflow.pyfunc.log_model(\"model\", python_model=MyModel(),registered_model_name=\"MyModel\")\n",
    "\n",
    "    client=mlflow.MlflowClient()\n",
    "    model=client.get_model_version(name=\"MyModel\",version='4')\n",
    "    print(model.version)\n",
    "    print(model.tags)"
   ]
  },
  {
   "cell_type": "markdown",
   "metadata": {},
   "source": [
    "# Aliases of the model\n",
    "- different models can have same tags \n",
    "- alias has to be set for a registed model \n",
    "- every model version should have a unique alias \n"
   ]
  },
  {
   "cell_type": "code",
   "execution_count": 31,
   "metadata": {},
   "outputs": [
    {
     "name": "stdout",
     "output_type": "stream",
     "text": [
      "<ModelVersion: aliases=['champion'], creation_timestamp=1735254895209, current_stage='None', description=None, last_updated_timestamp=1735254895209, name='MyModel', run_id='38ebc3649d8f4334a7da2d178ad14a8a', run_link=None, source='file:///d:/pythonProjects/MLOps_Krish_Naik/3.MLflow/tags_and_aliases/mlruns/0/38ebc3649d8f4334a7da2d178ad14a8a/artifacts/model', status='READY', status_message=None, tags={'tag_key': 'tag_value', 'tag_key2': 'tag_value2'}, user_id=None, version=1>\n"
     ]
    }
   ],
   "source": [
    "# create the alias for the model version\n",
    "with mlflow.start_run() as run:\n",
    "    client=mlflow.MlflowClient()\n",
    "    client.set_registered_model_alias(\"MyModel\",\"Production_Ready\",3)\n",
    "\n",
    "# get the alias \n",
    "print(client.get_model_version_by_alias(\"MyModel\",\"Champion\"))"
   ]
  },
  {
   "cell_type": "code",
   "execution_count": 32,
   "metadata": {},
   "outputs": [],
   "source": [
    "# can add more than one alias for the model version\n",
    "with mlflow.start_run() as run:\n",
    "    client=mlflow.MlflowClient()\n",
    "    client.set_registered_model_alias(\"MyModel\",\"final_model\",4)"
   ]
  },
  {
   "cell_type": "code",
   "execution_count": 29,
   "metadata": {},
   "outputs": [],
   "source": [
    "# can add more than one alias for the model version\n",
    "with mlflow.start_run() as run:\n",
    "    client=mlflow.MlflowClient()\n",
    "    client.set_registered_model_alias(\"MyModel\",\"Champion\",1)"
   ]
  },
  {
   "cell_type": "code",
   "execution_count": 36,
   "metadata": {},
   "outputs": [
    {
     "name": "stdout",
     "output_type": "stream",
     "text": [
      "['Candidate', 'final_model']\n"
     ]
    }
   ],
   "source": [
    "# can add more than one alias for the model version\n",
    "with mlflow.start_run() as run:\n",
    "    client=mlflow.MlflowClient()\n",
    "    print(client.get_model_version_by_alias(\"MyModel\",\"final_model\").aliases)"
   ]
  },
  {
   "cell_type": "code",
   "execution_count": 37,
   "metadata": {},
   "outputs": [],
   "source": [
    "# delete registered model alias\n",
    "with mlflow.start_run() as run:\n",
    "    client=mlflow.MlflowClient()\n",
    "    client.delete_registered_model_alias(\"MyModel\",\"Champion\")"
   ]
  },
  {
   "cell_type": "code",
   "execution_count": null,
   "metadata": {},
   "outputs": [],
   "source": []
  }
 ],
 "metadata": {
  "kernelspec": {
   "display_name": "mlops",
   "language": "python",
   "name": "python3"
  },
  "language_info": {
   "codemirror_mode": {
    "name": "ipython",
    "version": 3
   },
   "file_extension": ".py",
   "mimetype": "text/x-python",
   "name": "python",
   "nbconvert_exporter": "python",
   "pygments_lexer": "ipython3",
   "version": "3.12.0"
  }
 },
 "nbformat": 4,
 "nbformat_minor": 2
}
