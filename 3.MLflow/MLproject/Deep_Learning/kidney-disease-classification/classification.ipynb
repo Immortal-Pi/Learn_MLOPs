{
 "cells": [
  {
   "cell_type": "markdown",
   "metadata": {},
   "source": [
    "# Kidney-Disease-Classification-using MLflow and DVC\n",
    "1. Introduction & Github Repository setup\n",
    "2. project template creation\n",
    "3. Project setup & requirements installation \n",
    "4. Logging, Utils & exception module \n",
    "5. Project workflow \n",
    "6. All Components notebook experiment \n",
    "7. All components modular code implementation \n",
    "8. Training pipeline \n",
    "9. Mlflow (MLOps tool) - for experiment tracking and model registration \n",
    "10. DVC (MLOpsa tool) - for pipeline tracking & implementation \n",
    "11. Prediction pipeline & user App creation \n",
    "12. Docker\n",
    "13. Final CI/CD Deployment AWS \n"
   ]
  },
  {
   "cell_type": "code",
   "execution_count": null,
   "metadata": {},
   "outputs": [],
   "source": []
  },
  {
   "cell_type": "code",
   "execution_count": null,
   "metadata": {},
   "outputs": [],
   "source": []
  }
 ],
 "metadata": {
  "kernelspec": {
   "display_name": "mlops",
   "language": "python",
   "name": "python3"
  },
  "language_info": {
   "name": "python",
   "version": "3.12.0"
  }
 },
 "nbformat": 4,
 "nbformat_minor": 2
}
