{
 "cells": [
  {
   "cell_type": "markdown",
   "metadata": {},
   "source": [
    "# Hyperparameter tuning for XGBoost\n",
    "- Grid Search \n",
    "    - exhaustive search , evaluates every combinations of hyperparameters for mlmodel \n",
    "    - longer time to run when there are a lot of hyper parameteres \n",
    "- Random Search \n",
    "    - picks fixed set of hyperparameters combinations randomly \n",
    "    - sometimes the randomly selected may not include the top performance \n",
    "- Bayesian Optimization \n",
    "    - gridsearchcv and random search runs on each combination but bayesian optimization is based on previous runs evaluation \n",
    "\n",
    "- source \n",
    "    - https://colab.research.google.com/drive/18ooFZ4e7cW_zpbvwhBzzhWxCze0Mi6LA#scrollTo=1-FxiavJMirS "
   ]
  },
  {
   "cell_type": "markdown",
   "metadata": {},
   "source": [
    "# imports "
   ]
  },
  {
   "cell_type": "code",
   "execution_count": 1,
   "metadata": {},
   "outputs": [],
   "source": [
    "from sklearn import datasets \n",
    "import pandas as pd\n",
    "import numpy as np\n",
    "from sklearn.preprocessing import StandardScaler\n",
    "from sklearn.model_selection import train_test_split\n",
    "from xgboost import XGBClassifier\n",
    "from sklearn.metrics import accuracy_score, precision_recall_fscore_support as score \n",
    "\n",
    "# hyperparameters tuning \n",
    "from sklearn.model_selection import GridSearchCV, StratifiedKFold, cross_val_score, RandomizedSearchCV\n",
    "from hyperopt import hp, fmin, tpe, STATUS_OK, Trials, space_eval\n",
    "\n",
    "# mlflow\n",
    "import mlflow "
   ]
  },
  {
   "cell_type": "markdown",
   "metadata": {},
   "source": [
    "# dataset creation"
   ]
  },
  {
   "cell_type": "code",
   "execution_count": 2,
   "metadata": {},
   "outputs": [
    {
     "name": "stdout",
     "output_type": "stream",
     "text": [
      "<class 'pandas.core.frame.DataFrame'>\n",
      "RangeIndex: 569 entries, 0 to 568\n",
      "Data columns (total 31 columns):\n",
      " #   Column                   Non-Null Count  Dtype  \n",
      "---  ------                   --------------  -----  \n",
      " 0   mean radius              569 non-null    float64\n",
      " 1   mean texture             569 non-null    float64\n",
      " 2   mean perimeter           569 non-null    float64\n",
      " 3   mean area                569 non-null    float64\n",
      " 4   mean smoothness          569 non-null    float64\n",
      " 5   mean compactness         569 non-null    float64\n",
      " 6   mean concavity           569 non-null    float64\n",
      " 7   mean concave points      569 non-null    float64\n",
      " 8   mean symmetry            569 non-null    float64\n",
      " 9   mean fractal dimension   569 non-null    float64\n",
      " 10  radius error             569 non-null    float64\n",
      " 11  texture error            569 non-null    float64\n",
      " 12  perimeter error          569 non-null    float64\n",
      " 13  area error               569 non-null    float64\n",
      " 14  smoothness error         569 non-null    float64\n",
      " 15  compactness error        569 non-null    float64\n",
      " 16  concavity error          569 non-null    float64\n",
      " 17  concave points error     569 non-null    float64\n",
      " 18  symmetry error           569 non-null    float64\n",
      " 19  fractal dimension error  569 non-null    float64\n",
      " 20  worst radius             569 non-null    float64\n",
      " 21  worst texture            569 non-null    float64\n",
      " 22  worst perimeter          569 non-null    float64\n",
      " 23  worst area               569 non-null    float64\n",
      " 24  worst smoothness         569 non-null    float64\n",
      " 25  worst compactness        569 non-null    float64\n",
      " 26  worst concavity          569 non-null    float64\n",
      " 27  worst concave points     569 non-null    float64\n",
      " 28  worst symmetry           569 non-null    float64\n",
      " 29  worst fractal dimension  569 non-null    float64\n",
      " 30  target                   569 non-null    int64  \n",
      "dtypes: float64(30), int64(1)\n",
      "memory usage: 137.9 KB\n",
      "None\n"
     ]
    },
    {
     "data": {
      "text/html": [
       "<div>\n",
       "<style scoped>\n",
       "    .dataframe tbody tr th:only-of-type {\n",
       "        vertical-align: middle;\n",
       "    }\n",
       "\n",
       "    .dataframe tbody tr th {\n",
       "        vertical-align: top;\n",
       "    }\n",
       "\n",
       "    .dataframe thead th {\n",
       "        text-align: right;\n",
       "    }\n",
       "</style>\n",
       "<table border=\"1\" class=\"dataframe\">\n",
       "  <thead>\n",
       "    <tr style=\"text-align: right;\">\n",
       "      <th></th>\n",
       "      <th>mean radius</th>\n",
       "      <th>mean texture</th>\n",
       "      <th>mean perimeter</th>\n",
       "      <th>mean area</th>\n",
       "      <th>mean smoothness</th>\n",
       "      <th>mean compactness</th>\n",
       "      <th>mean concavity</th>\n",
       "      <th>mean concave points</th>\n",
       "      <th>mean symmetry</th>\n",
       "      <th>mean fractal dimension</th>\n",
       "      <th>...</th>\n",
       "      <th>worst texture</th>\n",
       "      <th>worst perimeter</th>\n",
       "      <th>worst area</th>\n",
       "      <th>worst smoothness</th>\n",
       "      <th>worst compactness</th>\n",
       "      <th>worst concavity</th>\n",
       "      <th>worst concave points</th>\n",
       "      <th>worst symmetry</th>\n",
       "      <th>worst fractal dimension</th>\n",
       "      <th>target</th>\n",
       "    </tr>\n",
       "  </thead>\n",
       "  <tbody>\n",
       "    <tr>\n",
       "      <th>0</th>\n",
       "      <td>17.99</td>\n",
       "      <td>10.38</td>\n",
       "      <td>122.80</td>\n",
       "      <td>1001.0</td>\n",
       "      <td>0.11840</td>\n",
       "      <td>0.27760</td>\n",
       "      <td>0.3001</td>\n",
       "      <td>0.14710</td>\n",
       "      <td>0.2419</td>\n",
       "      <td>0.07871</td>\n",
       "      <td>...</td>\n",
       "      <td>17.33</td>\n",
       "      <td>184.60</td>\n",
       "      <td>2019.0</td>\n",
       "      <td>0.1622</td>\n",
       "      <td>0.6656</td>\n",
       "      <td>0.7119</td>\n",
       "      <td>0.2654</td>\n",
       "      <td>0.4601</td>\n",
       "      <td>0.11890</td>\n",
       "      <td>0</td>\n",
       "    </tr>\n",
       "    <tr>\n",
       "      <th>1</th>\n",
       "      <td>20.57</td>\n",
       "      <td>17.77</td>\n",
       "      <td>132.90</td>\n",
       "      <td>1326.0</td>\n",
       "      <td>0.08474</td>\n",
       "      <td>0.07864</td>\n",
       "      <td>0.0869</td>\n",
       "      <td>0.07017</td>\n",
       "      <td>0.1812</td>\n",
       "      <td>0.05667</td>\n",
       "      <td>...</td>\n",
       "      <td>23.41</td>\n",
       "      <td>158.80</td>\n",
       "      <td>1956.0</td>\n",
       "      <td>0.1238</td>\n",
       "      <td>0.1866</td>\n",
       "      <td>0.2416</td>\n",
       "      <td>0.1860</td>\n",
       "      <td>0.2750</td>\n",
       "      <td>0.08902</td>\n",
       "      <td>0</td>\n",
       "    </tr>\n",
       "    <tr>\n",
       "      <th>2</th>\n",
       "      <td>19.69</td>\n",
       "      <td>21.25</td>\n",
       "      <td>130.00</td>\n",
       "      <td>1203.0</td>\n",
       "      <td>0.10960</td>\n",
       "      <td>0.15990</td>\n",
       "      <td>0.1974</td>\n",
       "      <td>0.12790</td>\n",
       "      <td>0.2069</td>\n",
       "      <td>0.05999</td>\n",
       "      <td>...</td>\n",
       "      <td>25.53</td>\n",
       "      <td>152.50</td>\n",
       "      <td>1709.0</td>\n",
       "      <td>0.1444</td>\n",
       "      <td>0.4245</td>\n",
       "      <td>0.4504</td>\n",
       "      <td>0.2430</td>\n",
       "      <td>0.3613</td>\n",
       "      <td>0.08758</td>\n",
       "      <td>0</td>\n",
       "    </tr>\n",
       "    <tr>\n",
       "      <th>3</th>\n",
       "      <td>11.42</td>\n",
       "      <td>20.38</td>\n",
       "      <td>77.58</td>\n",
       "      <td>386.1</td>\n",
       "      <td>0.14250</td>\n",
       "      <td>0.28390</td>\n",
       "      <td>0.2414</td>\n",
       "      <td>0.10520</td>\n",
       "      <td>0.2597</td>\n",
       "      <td>0.09744</td>\n",
       "      <td>...</td>\n",
       "      <td>26.50</td>\n",
       "      <td>98.87</td>\n",
       "      <td>567.7</td>\n",
       "      <td>0.2098</td>\n",
       "      <td>0.8663</td>\n",
       "      <td>0.6869</td>\n",
       "      <td>0.2575</td>\n",
       "      <td>0.6638</td>\n",
       "      <td>0.17300</td>\n",
       "      <td>0</td>\n",
       "    </tr>\n",
       "    <tr>\n",
       "      <th>4</th>\n",
       "      <td>20.29</td>\n",
       "      <td>14.34</td>\n",
       "      <td>135.10</td>\n",
       "      <td>1297.0</td>\n",
       "      <td>0.10030</td>\n",
       "      <td>0.13280</td>\n",
       "      <td>0.1980</td>\n",
       "      <td>0.10430</td>\n",
       "      <td>0.1809</td>\n",
       "      <td>0.05883</td>\n",
       "      <td>...</td>\n",
       "      <td>16.67</td>\n",
       "      <td>152.20</td>\n",
       "      <td>1575.0</td>\n",
       "      <td>0.1374</td>\n",
       "      <td>0.2050</td>\n",
       "      <td>0.4000</td>\n",
       "      <td>0.1625</td>\n",
       "      <td>0.2364</td>\n",
       "      <td>0.07678</td>\n",
       "      <td>0</td>\n",
       "    </tr>\n",
       "  </tbody>\n",
       "</table>\n",
       "<p>5 rows × 31 columns</p>\n",
       "</div>"
      ],
      "text/plain": [
       "   mean radius  mean texture  mean perimeter  mean area  mean smoothness  \\\n",
       "0        17.99         10.38          122.80     1001.0          0.11840   \n",
       "1        20.57         17.77          132.90     1326.0          0.08474   \n",
       "2        19.69         21.25          130.00     1203.0          0.10960   \n",
       "3        11.42         20.38           77.58      386.1          0.14250   \n",
       "4        20.29         14.34          135.10     1297.0          0.10030   \n",
       "\n",
       "   mean compactness  mean concavity  mean concave points  mean symmetry  \\\n",
       "0           0.27760          0.3001              0.14710         0.2419   \n",
       "1           0.07864          0.0869              0.07017         0.1812   \n",
       "2           0.15990          0.1974              0.12790         0.2069   \n",
       "3           0.28390          0.2414              0.10520         0.2597   \n",
       "4           0.13280          0.1980              0.10430         0.1809   \n",
       "\n",
       "   mean fractal dimension  ...  worst texture  worst perimeter  worst area  \\\n",
       "0                 0.07871  ...          17.33           184.60      2019.0   \n",
       "1                 0.05667  ...          23.41           158.80      1956.0   \n",
       "2                 0.05999  ...          25.53           152.50      1709.0   \n",
       "3                 0.09744  ...          26.50            98.87       567.7   \n",
       "4                 0.05883  ...          16.67           152.20      1575.0   \n",
       "\n",
       "   worst smoothness  worst compactness  worst concavity  worst concave points  \\\n",
       "0            0.1622             0.6656           0.7119                0.2654   \n",
       "1            0.1238             0.1866           0.2416                0.1860   \n",
       "2            0.1444             0.4245           0.4504                0.2430   \n",
       "3            0.2098             0.8663           0.6869                0.2575   \n",
       "4            0.1374             0.2050           0.4000                0.1625   \n",
       "\n",
       "   worst symmetry  worst fractal dimension  target  \n",
       "0          0.4601                  0.11890       0  \n",
       "1          0.2750                  0.08902       0  \n",
       "2          0.3613                  0.08758       0  \n",
       "3          0.6638                  0.17300       0  \n",
       "4          0.2364                  0.07678       0  \n",
       "\n",
       "[5 rows x 31 columns]"
      ]
     },
     "execution_count": 2,
     "metadata": {},
     "output_type": "execute_result"
    }
   ],
   "source": [
    "data=datasets.load_breast_cancer()\n",
    "df=pd.DataFrame(data=data.data, columns=data.feature_names)\n",
    "df['target']=data.target\n",
    "print(df.info())\n",
    "df.head()\n"
   ]
  },
  {
   "cell_type": "code",
   "execution_count": 3,
   "metadata": {},
   "outputs": [
    {
     "data": {
      "text/plain": [
       "((455, 30), (114, 30), (455,), (114,))"
      ]
     },
     "execution_count": 3,
     "metadata": {},
     "output_type": "execute_result"
    }
   ],
   "source": [
    "# test train split\n",
    "xtrain,xtest,ytrain,ytest=train_test_split(df.drop('target', axis=1), df['target'], test_size=0.2, random_state=42)\n",
    "xtrain.shape, xtest.shape, ytrain.shape, ytest.shape"
   ]
  },
  {
   "cell_type": "code",
   "execution_count": 4,
   "metadata": {},
   "outputs": [
    {
     "data": {
      "text/html": [
       "<div>\n",
       "<style scoped>\n",
       "    .dataframe tbody tr th:only-of-type {\n",
       "        vertical-align: middle;\n",
       "    }\n",
       "\n",
       "    .dataframe tbody tr th {\n",
       "        vertical-align: top;\n",
       "    }\n",
       "\n",
       "    .dataframe thead th {\n",
       "        text-align: right;\n",
       "    }\n",
       "</style>\n",
       "<table border=\"1\" class=\"dataframe\">\n",
       "  <thead>\n",
       "    <tr style=\"text-align: right;\">\n",
       "      <th></th>\n",
       "      <th>count</th>\n",
       "      <th>mean</th>\n",
       "      <th>std</th>\n",
       "      <th>min</th>\n",
       "      <th>25%</th>\n",
       "      <th>50%</th>\n",
       "      <th>75%</th>\n",
       "      <th>max</th>\n",
       "    </tr>\n",
       "  </thead>\n",
       "  <tbody>\n",
       "    <tr>\n",
       "      <th>mean radius</th>\n",
       "      <td>455.0</td>\n",
       "      <td>-1.811494e-15</td>\n",
       "      <td>1.001101</td>\n",
       "      <td>-1.819583</td>\n",
       "      <td>-0.683093</td>\n",
       "      <td>-0.231498</td>\n",
       "      <td>0.459343</td>\n",
       "      <td>3.961679</td>\n",
       "    </tr>\n",
       "    <tr>\n",
       "      <th>mean texture</th>\n",
       "      <td>455.0</td>\n",
       "      <td>-3.373126e-15</td>\n",
       "      <td>1.001101</td>\n",
       "      <td>-2.223500</td>\n",
       "      <td>-0.707536</td>\n",
       "      <td>-0.118516</td>\n",
       "      <td>0.563199</td>\n",
       "      <td>4.715674</td>\n",
       "    </tr>\n",
       "    <tr>\n",
       "      <th>mean perimeter</th>\n",
       "      <td>455.0</td>\n",
       "      <td>-3.634699e-15</td>\n",
       "      <td>1.001101</td>\n",
       "      <td>-1.809497</td>\n",
       "      <td>-0.690761</td>\n",
       "      <td>-0.242938</td>\n",
       "      <td>0.488480</td>\n",
       "      <td>3.976811</td>\n",
       "    </tr>\n",
       "    <tr>\n",
       "      <th>mean area</th>\n",
       "      <td>455.0</td>\n",
       "      <td>-2.537653e-16</td>\n",
       "      <td>1.001101</td>\n",
       "      <td>-1.365036</td>\n",
       "      <td>-0.660205</td>\n",
       "      <td>-0.289597</td>\n",
       "      <td>0.319339</td>\n",
       "      <td>5.208312</td>\n",
       "    </tr>\n",
       "    <tr>\n",
       "      <th>mean smoothness</th>\n",
       "      <td>455.0</td>\n",
       "      <td>-4.232024e-15</td>\n",
       "      <td>1.001101</td>\n",
       "      <td>-3.100011</td>\n",
       "      <td>-0.713204</td>\n",
       "      <td>-0.080820</td>\n",
       "      <td>0.633173</td>\n",
       "      <td>4.864642</td>\n",
       "    </tr>\n",
       "    <tr>\n",
       "      <th>mean compactness</th>\n",
       "      <td>455.0</td>\n",
       "      <td>1.011157e-15</td>\n",
       "      <td>1.001101</td>\n",
       "      <td>-1.607228</td>\n",
       "      <td>-0.777087</td>\n",
       "      <td>-0.241340</td>\n",
       "      <td>0.528128</td>\n",
       "      <td>3.964311</td>\n",
       "    </tr>\n",
       "    <tr>\n",
       "      <th>mean concavity</th>\n",
       "      <td>455.0</td>\n",
       "      <td>9.857804e-16</td>\n",
       "      <td>1.001101</td>\n",
       "      <td>-1.119899</td>\n",
       "      <td>-0.750539</td>\n",
       "      <td>-0.344646</td>\n",
       "      <td>0.547387</td>\n",
       "      <td>4.256736</td>\n",
       "    </tr>\n",
       "    <tr>\n",
       "      <th>mean concave points</th>\n",
       "      <td>455.0</td>\n",
       "      <td>5.817081e-16</td>\n",
       "      <td>1.001101</td>\n",
       "      <td>-1.269910</td>\n",
       "      <td>-0.734905</td>\n",
       "      <td>-0.391123</td>\n",
       "      <td>0.673757</td>\n",
       "      <td>4.022271</td>\n",
       "    </tr>\n",
       "    <tr>\n",
       "      <th>mean symmetry</th>\n",
       "      <td>455.0</td>\n",
       "      <td>-5.910779e-15</td>\n",
       "      <td>1.001101</td>\n",
       "      <td>-2.345430</td>\n",
       "      <td>-0.701046</td>\n",
       "      <td>-0.069151</td>\n",
       "      <td>0.535429</td>\n",
       "      <td>4.476124</td>\n",
       "    </tr>\n",
       "    <tr>\n",
       "      <th>mean fractal dimension</th>\n",
       "      <td>455.0</td>\n",
       "      <td>-3.367270e-15</td>\n",
       "      <td>1.001101</td>\n",
       "      <td>-1.776889</td>\n",
       "      <td>-0.709792</td>\n",
       "      <td>-0.177285</td>\n",
       "      <td>0.464223</td>\n",
       "      <td>4.815921</td>\n",
       "    </tr>\n",
       "    <tr>\n",
       "      <th>radius error</th>\n",
       "      <td>455.0</td>\n",
       "      <td>8.588978e-16</td>\n",
       "      <td>1.001101</td>\n",
       "      <td>-1.027104</td>\n",
       "      <td>-0.591183</td>\n",
       "      <td>-0.276882</td>\n",
       "      <td>0.232400</td>\n",
       "      <td>8.736037</td>\n",
       "    </tr>\n",
       "    <tr>\n",
       "      <th>texture error</th>\n",
       "      <td>455.0</td>\n",
       "      <td>-7.515356e-16</td>\n",
       "      <td>1.001101</td>\n",
       "      <td>-1.556840</td>\n",
       "      <td>-0.680007</td>\n",
       "      <td>-0.198996</td>\n",
       "      <td>0.437610</td>\n",
       "      <td>6.804586</td>\n",
       "    </tr>\n",
       "    <tr>\n",
       "      <th>perimeter error</th>\n",
       "      <td>455.0</td>\n",
       "      <td>7.300631e-16</td>\n",
       "      <td>1.001101</td>\n",
       "      <td>-1.015623</td>\n",
       "      <td>-0.582549</td>\n",
       "      <td>-0.276110</td>\n",
       "      <td>0.199256</td>\n",
       "      <td>9.242330</td>\n",
       "    </tr>\n",
       "    <tr>\n",
       "      <th>area error</th>\n",
       "      <td>455.0</td>\n",
       "      <td>6.246530e-17</td>\n",
       "      <td>1.001101</td>\n",
       "      <td>-0.705091</td>\n",
       "      <td>-0.464164</td>\n",
       "      <td>-0.325347</td>\n",
       "      <td>0.077435</td>\n",
       "      <td>10.641841</td>\n",
       "    </tr>\n",
       "    <tr>\n",
       "      <th>smoothness error</th>\n",
       "      <td>455.0</td>\n",
       "      <td>-1.424990e-15</td>\n",
       "      <td>1.001101</td>\n",
       "      <td>-1.727893</td>\n",
       "      <td>-0.626524</td>\n",
       "      <td>-0.199469</td>\n",
       "      <td>0.353671</td>\n",
       "      <td>7.906053</td>\n",
       "    </tr>\n",
       "    <tr>\n",
       "      <th>compactness error</th>\n",
       "      <td>455.0</td>\n",
       "      <td>-2.395154e-15</td>\n",
       "      <td>1.001101</td>\n",
       "      <td>-1.258102</td>\n",
       "      <td>-0.694353</td>\n",
       "      <td>-0.280607</td>\n",
       "      <td>0.358304</td>\n",
       "      <td>5.905671</td>\n",
       "    </tr>\n",
       "    <tr>\n",
       "      <th>concavity error</th>\n",
       "      <td>455.0</td>\n",
       "      <td>2.479091e-16</td>\n",
       "      <td>1.001101</td>\n",
       "      <td>-1.022218</td>\n",
       "      <td>-0.551340</td>\n",
       "      <td>-0.207836</td>\n",
       "      <td>0.303371</td>\n",
       "      <td>11.310294</td>\n",
       "    </tr>\n",
       "    <tr>\n",
       "      <th>concave points error</th>\n",
       "      <td>455.0</td>\n",
       "      <td>3.455112e-16</td>\n",
       "      <td>1.001101</td>\n",
       "      <td>-1.891775</td>\n",
       "      <td>-0.668493</td>\n",
       "      <td>-0.126279</td>\n",
       "      <td>0.437566</td>\n",
       "      <td>6.504667</td>\n",
       "    </tr>\n",
       "    <tr>\n",
       "      <th>symmetry error</th>\n",
       "      <td>455.0</td>\n",
       "      <td>-3.170114e-15</td>\n",
       "      <td>1.001101</td>\n",
       "      <td>-1.554767</td>\n",
       "      <td>-0.657054</td>\n",
       "      <td>-0.227064</td>\n",
       "      <td>0.324207</td>\n",
       "      <td>5.008778</td>\n",
       "    </tr>\n",
       "    <tr>\n",
       "      <th>fractal dimension error</th>\n",
       "      <td>455.0</td>\n",
       "      <td>5.085065e-16</td>\n",
       "      <td>1.001101</td>\n",
       "      <td>-1.050856</td>\n",
       "      <td>-0.573964</td>\n",
       "      <td>-0.218908</td>\n",
       "      <td>0.245340</td>\n",
       "      <td>9.345870</td>\n",
       "    </tr>\n",
       "    <tr>\n",
       "      <th>worst radius</th>\n",
       "      <td>455.0</td>\n",
       "      <td>1.397661e-15</td>\n",
       "      <td>1.001101</td>\n",
       "      <td>-1.572438</td>\n",
       "      <td>-0.661698</td>\n",
       "      <td>-0.263235</td>\n",
       "      <td>0.452540</td>\n",
       "      <td>4.120889</td>\n",
       "    </tr>\n",
       "    <tr>\n",
       "      <th>worst texture</th>\n",
       "      <td>455.0</td>\n",
       "      <td>-8.198570e-17</td>\n",
       "      <td>1.001101</td>\n",
       "      <td>-2.230887</td>\n",
       "      <td>-0.741229</td>\n",
       "      <td>-0.052108</td>\n",
       "      <td>0.685706</td>\n",
       "      <td>3.962127</td>\n",
       "    </tr>\n",
       "    <tr>\n",
       "      <th>worst perimeter</th>\n",
       "      <td>455.0</td>\n",
       "      <td>-8.549937e-16</td>\n",
       "      <td>1.001101</td>\n",
       "      <td>-1.578174</td>\n",
       "      <td>-0.685348</td>\n",
       "      <td>-0.282954</td>\n",
       "      <td>0.526333</td>\n",
       "      <td>4.322305</td>\n",
       "    </tr>\n",
       "    <tr>\n",
       "      <th>worst area</th>\n",
       "      <td>455.0</td>\n",
       "      <td>-2.004746e-15</td>\n",
       "      <td>1.001101</td>\n",
       "      <td>-1.152259</td>\n",
       "      <td>-0.635813</td>\n",
       "      <td>-0.335751</td>\n",
       "      <td>0.272486</td>\n",
       "      <td>5.955420</td>\n",
       "    </tr>\n",
       "    <tr>\n",
       "      <th>worst smoothness</th>\n",
       "      <td>455.0</td>\n",
       "      <td>1.198553e-15</td>\n",
       "      <td>1.001101</td>\n",
       "      <td>-2.617938</td>\n",
       "      <td>-0.743030</td>\n",
       "      <td>-0.027416</td>\n",
       "      <td>0.629648</td>\n",
       "      <td>3.767506</td>\n",
       "    </tr>\n",
       "    <tr>\n",
       "      <th>worst compactness</th>\n",
       "      <td>455.0</td>\n",
       "      <td>-5.875642e-16</td>\n",
       "      <td>1.001101</td>\n",
       "      <td>-1.455995</td>\n",
       "      <td>-0.696132</td>\n",
       "      <td>-0.275386</td>\n",
       "      <td>0.573857</td>\n",
       "      <td>4.424833</td>\n",
       "    </tr>\n",
       "    <tr>\n",
       "      <th>worst concavity</th>\n",
       "      <td>455.0</td>\n",
       "      <td>-5.992764e-16</td>\n",
       "      <td>1.001101</td>\n",
       "      <td>-1.312795</td>\n",
       "      <td>-0.755587</td>\n",
       "      <td>-0.230411</td>\n",
       "      <td>0.538350</td>\n",
       "      <td>4.672828</td>\n",
       "    </tr>\n",
       "    <tr>\n",
       "      <th>worst concave points</th>\n",
       "      <td>455.0</td>\n",
       "      <td>1.093143e-16</td>\n",
       "      <td>1.001101</td>\n",
       "      <td>-1.749805</td>\n",
       "      <td>-0.770099</td>\n",
       "      <td>-0.238639</td>\n",
       "      <td>0.718999</td>\n",
       "      <td>2.709674</td>\n",
       "    </tr>\n",
       "    <tr>\n",
       "      <th>worst symmetry</th>\n",
       "      <td>455.0</td>\n",
       "      <td>5.075305e-16</td>\n",
       "      <td>1.001101</td>\n",
       "      <td>-2.124261</td>\n",
       "      <td>-0.649985</td>\n",
       "      <td>-0.123684</td>\n",
       "      <td>0.431944</td>\n",
       "      <td>5.917679</td>\n",
       "    </tr>\n",
       "    <tr>\n",
       "      <th>worst fractal dimension</th>\n",
       "      <td>455.0</td>\n",
       "      <td>-2.320000e-15</td>\n",
       "      <td>1.001101</td>\n",
       "      <td>-1.616973</td>\n",
       "      <td>-0.718962</td>\n",
       "      <td>-0.213585</td>\n",
       "      <td>0.460064</td>\n",
       "      <td>4.999482</td>\n",
       "    </tr>\n",
       "  </tbody>\n",
       "</table>\n",
       "</div>"
      ],
      "text/plain": [
       "                         count          mean       std       min       25%  \\\n",
       "mean radius              455.0 -1.811494e-15  1.001101 -1.819583 -0.683093   \n",
       "mean texture             455.0 -3.373126e-15  1.001101 -2.223500 -0.707536   \n",
       "mean perimeter           455.0 -3.634699e-15  1.001101 -1.809497 -0.690761   \n",
       "mean area                455.0 -2.537653e-16  1.001101 -1.365036 -0.660205   \n",
       "mean smoothness          455.0 -4.232024e-15  1.001101 -3.100011 -0.713204   \n",
       "mean compactness         455.0  1.011157e-15  1.001101 -1.607228 -0.777087   \n",
       "mean concavity           455.0  9.857804e-16  1.001101 -1.119899 -0.750539   \n",
       "mean concave points      455.0  5.817081e-16  1.001101 -1.269910 -0.734905   \n",
       "mean symmetry            455.0 -5.910779e-15  1.001101 -2.345430 -0.701046   \n",
       "mean fractal dimension   455.0 -3.367270e-15  1.001101 -1.776889 -0.709792   \n",
       "radius error             455.0  8.588978e-16  1.001101 -1.027104 -0.591183   \n",
       "texture error            455.0 -7.515356e-16  1.001101 -1.556840 -0.680007   \n",
       "perimeter error          455.0  7.300631e-16  1.001101 -1.015623 -0.582549   \n",
       "area error               455.0  6.246530e-17  1.001101 -0.705091 -0.464164   \n",
       "smoothness error         455.0 -1.424990e-15  1.001101 -1.727893 -0.626524   \n",
       "compactness error        455.0 -2.395154e-15  1.001101 -1.258102 -0.694353   \n",
       "concavity error          455.0  2.479091e-16  1.001101 -1.022218 -0.551340   \n",
       "concave points error     455.0  3.455112e-16  1.001101 -1.891775 -0.668493   \n",
       "symmetry error           455.0 -3.170114e-15  1.001101 -1.554767 -0.657054   \n",
       "fractal dimension error  455.0  5.085065e-16  1.001101 -1.050856 -0.573964   \n",
       "worst radius             455.0  1.397661e-15  1.001101 -1.572438 -0.661698   \n",
       "worst texture            455.0 -8.198570e-17  1.001101 -2.230887 -0.741229   \n",
       "worst perimeter          455.0 -8.549937e-16  1.001101 -1.578174 -0.685348   \n",
       "worst area               455.0 -2.004746e-15  1.001101 -1.152259 -0.635813   \n",
       "worst smoothness         455.0  1.198553e-15  1.001101 -2.617938 -0.743030   \n",
       "worst compactness        455.0 -5.875642e-16  1.001101 -1.455995 -0.696132   \n",
       "worst concavity          455.0 -5.992764e-16  1.001101 -1.312795 -0.755587   \n",
       "worst concave points     455.0  1.093143e-16  1.001101 -1.749805 -0.770099   \n",
       "worst symmetry           455.0  5.075305e-16  1.001101 -2.124261 -0.649985   \n",
       "worst fractal dimension  455.0 -2.320000e-15  1.001101 -1.616973 -0.718962   \n",
       "\n",
       "                              50%       75%        max  \n",
       "mean radius             -0.231498  0.459343   3.961679  \n",
       "mean texture            -0.118516  0.563199   4.715674  \n",
       "mean perimeter          -0.242938  0.488480   3.976811  \n",
       "mean area               -0.289597  0.319339   5.208312  \n",
       "mean smoothness         -0.080820  0.633173   4.864642  \n",
       "mean compactness        -0.241340  0.528128   3.964311  \n",
       "mean concavity          -0.344646  0.547387   4.256736  \n",
       "mean concave points     -0.391123  0.673757   4.022271  \n",
       "mean symmetry           -0.069151  0.535429   4.476124  \n",
       "mean fractal dimension  -0.177285  0.464223   4.815921  \n",
       "radius error            -0.276882  0.232400   8.736037  \n",
       "texture error           -0.198996  0.437610   6.804586  \n",
       "perimeter error         -0.276110  0.199256   9.242330  \n",
       "area error              -0.325347  0.077435  10.641841  \n",
       "smoothness error        -0.199469  0.353671   7.906053  \n",
       "compactness error       -0.280607  0.358304   5.905671  \n",
       "concavity error         -0.207836  0.303371  11.310294  \n",
       "concave points error    -0.126279  0.437566   6.504667  \n",
       "symmetry error          -0.227064  0.324207   5.008778  \n",
       "fractal dimension error -0.218908  0.245340   9.345870  \n",
       "worst radius            -0.263235  0.452540   4.120889  \n",
       "worst texture           -0.052108  0.685706   3.962127  \n",
       "worst perimeter         -0.282954  0.526333   4.322305  \n",
       "worst area              -0.335751  0.272486   5.955420  \n",
       "worst smoothness        -0.027416  0.629648   3.767506  \n",
       "worst compactness       -0.275386  0.573857   4.424833  \n",
       "worst concavity         -0.230411  0.538350   4.672828  \n",
       "worst concave points    -0.238639  0.718999   2.709674  \n",
       "worst symmetry          -0.123684  0.431944   5.917679  \n",
       "worst fractal dimension -0.213585  0.460064   4.999482  "
      ]
     },
     "execution_count": 4,
     "metadata": {},
     "output_type": "execute_result"
    }
   ],
   "source": [
    "# Standardaize the data\n",
    "sc=StandardScaler()\n",
    "xtrain_transformed=pd.DataFrame(sc.fit_transform(xtrain),index=xtrain.index,columns=xtrain.columns)\n",
    "xtest_transformed=pd.DataFrame(sc.transform(xtest),index=xtest.index,columns=xtest.columns)\n",
    "# summary after standardization\n",
    "xtrain_transformed.describe().T "
   ]
  },
  {
   "cell_type": "code",
   "execution_count": 5,
   "metadata": {},
   "outputs": [
    {
     "data": {
      "text/html": [
       "<div>\n",
       "<style scoped>\n",
       "    .dataframe tbody tr th:only-of-type {\n",
       "        vertical-align: middle;\n",
       "    }\n",
       "\n",
       "    .dataframe tbody tr th {\n",
       "        vertical-align: top;\n",
       "    }\n",
       "\n",
       "    .dataframe thead th {\n",
       "        text-align: right;\n",
       "    }\n",
       "</style>\n",
       "<table border=\"1\" class=\"dataframe\">\n",
       "  <thead>\n",
       "    <tr style=\"text-align: right;\">\n",
       "      <th></th>\n",
       "      <th>count</th>\n",
       "      <th>mean</th>\n",
       "      <th>std</th>\n",
       "      <th>min</th>\n",
       "      <th>25%</th>\n",
       "      <th>50%</th>\n",
       "      <th>75%</th>\n",
       "      <th>max</th>\n",
       "    </tr>\n",
       "  </thead>\n",
       "  <tbody>\n",
       "    <tr>\n",
       "      <th>mean radius</th>\n",
       "      <td>455.0</td>\n",
       "      <td>14.117635</td>\n",
       "      <td>3.535815</td>\n",
       "      <td>7.691000</td>\n",
       "      <td>11.705000</td>\n",
       "      <td>13.300000</td>\n",
       "      <td>15.740000</td>\n",
       "      <td>28.11000</td>\n",
       "    </tr>\n",
       "    <tr>\n",
       "      <th>mean texture</th>\n",
       "      <td>455.0</td>\n",
       "      <td>19.185033</td>\n",
       "      <td>4.266005</td>\n",
       "      <td>9.710000</td>\n",
       "      <td>16.170000</td>\n",
       "      <td>18.680000</td>\n",
       "      <td>21.585000</td>\n",
       "      <td>39.28000</td>\n",
       "    </tr>\n",
       "    <tr>\n",
       "      <th>mean perimeter</th>\n",
       "      <td>455.0</td>\n",
       "      <td>91.882242</td>\n",
       "      <td>24.322027</td>\n",
       "      <td>47.920000</td>\n",
       "      <td>75.100000</td>\n",
       "      <td>85.980000</td>\n",
       "      <td>103.750000</td>\n",
       "      <td>188.50000</td>\n",
       "    </tr>\n",
       "    <tr>\n",
       "      <th>mean area</th>\n",
       "      <td>455.0</td>\n",
       "      <td>654.377582</td>\n",
       "      <td>354.943187</td>\n",
       "      <td>170.400000</td>\n",
       "      <td>420.300000</td>\n",
       "      <td>551.700000</td>\n",
       "      <td>767.600000</td>\n",
       "      <td>2501.00000</td>\n",
       "    </tr>\n",
       "    <tr>\n",
       "      <th>mean smoothness</th>\n",
       "      <td>455.0</td>\n",
       "      <td>0.095744</td>\n",
       "      <td>0.013923</td>\n",
       "      <td>0.052630</td>\n",
       "      <td>0.085825</td>\n",
       "      <td>0.094620</td>\n",
       "      <td>0.104550</td>\n",
       "      <td>0.16340</td>\n",
       "    </tr>\n",
       "    <tr>\n",
       "      <th>mean compactness</th>\n",
       "      <td>455.0</td>\n",
       "      <td>0.103619</td>\n",
       "      <td>0.052470</td>\n",
       "      <td>0.019380</td>\n",
       "      <td>0.062890</td>\n",
       "      <td>0.090970</td>\n",
       "      <td>0.131300</td>\n",
       "      <td>0.31140</td>\n",
       "    </tr>\n",
       "    <tr>\n",
       "      <th>mean concavity</th>\n",
       "      <td>455.0</td>\n",
       "      <td>0.088898</td>\n",
       "      <td>0.079468</td>\n",
       "      <td>0.000000</td>\n",
       "      <td>0.029320</td>\n",
       "      <td>0.061540</td>\n",
       "      <td>0.132350</td>\n",
       "      <td>0.42680</td>\n",
       "    </tr>\n",
       "    <tr>\n",
       "      <th>mean concave points</th>\n",
       "      <td>455.0</td>\n",
       "      <td>0.048280</td>\n",
       "      <td>0.038060</td>\n",
       "      <td>0.000000</td>\n",
       "      <td>0.020340</td>\n",
       "      <td>0.033410</td>\n",
       "      <td>0.073895</td>\n",
       "      <td>0.20120</td>\n",
       "    </tr>\n",
       "    <tr>\n",
       "      <th>mean symmetry</th>\n",
       "      <td>455.0</td>\n",
       "      <td>0.181099</td>\n",
       "      <td>0.027487</td>\n",
       "      <td>0.116700</td>\n",
       "      <td>0.161850</td>\n",
       "      <td>0.179200</td>\n",
       "      <td>0.195800</td>\n",
       "      <td>0.30400</td>\n",
       "    </tr>\n",
       "    <tr>\n",
       "      <th>mean fractal dimension</th>\n",
       "      <td>455.0</td>\n",
       "      <td>0.062757</td>\n",
       "      <td>0.007210</td>\n",
       "      <td>0.049960</td>\n",
       "      <td>0.057645</td>\n",
       "      <td>0.061480</td>\n",
       "      <td>0.066100</td>\n",
       "      <td>0.09744</td>\n",
       "    </tr>\n",
       "    <tr>\n",
       "      <th>radius error</th>\n",
       "      <td>455.0</td>\n",
       "      <td>0.402016</td>\n",
       "      <td>0.283161</td>\n",
       "      <td>0.111500</td>\n",
       "      <td>0.234800</td>\n",
       "      <td>0.323700</td>\n",
       "      <td>0.467750</td>\n",
       "      <td>2.87300</td>\n",
       "    </tr>\n",
       "    <tr>\n",
       "      <th>texture error</th>\n",
       "      <td>455.0</td>\n",
       "      <td>1.202687</td>\n",
       "      <td>0.541747</td>\n",
       "      <td>0.360200</td>\n",
       "      <td>0.834700</td>\n",
       "      <td>1.095000</td>\n",
       "      <td>1.439500</td>\n",
       "      <td>4.88500</td>\n",
       "    </tr>\n",
       "    <tr>\n",
       "      <th>perimeter error</th>\n",
       "      <td>455.0</td>\n",
       "      <td>2.858253</td>\n",
       "      <td>2.071209</td>\n",
       "      <td>0.757000</td>\n",
       "      <td>1.653000</td>\n",
       "      <td>2.287000</td>\n",
       "      <td>3.270500</td>\n",
       "      <td>21.98000</td>\n",
       "    </tr>\n",
       "    <tr>\n",
       "      <th>area error</th>\n",
       "      <td>455.0</td>\n",
       "      <td>40.071299</td>\n",
       "      <td>47.236319</td>\n",
       "      <td>6.802000</td>\n",
       "      <td>18.170000</td>\n",
       "      <td>24.720000</td>\n",
       "      <td>43.725000</td>\n",
       "      <td>542.20000</td>\n",
       "    </tr>\n",
       "    <tr>\n",
       "      <th>smoothness error</th>\n",
       "      <td>455.0</td>\n",
       "      <td>0.006989</td>\n",
       "      <td>0.003057</td>\n",
       "      <td>0.001713</td>\n",
       "      <td>0.005076</td>\n",
       "      <td>0.006380</td>\n",
       "      <td>0.008069</td>\n",
       "      <td>0.03113</td>\n",
       "    </tr>\n",
       "    <tr>\n",
       "      <th>compactness error</th>\n",
       "      <td>455.0</td>\n",
       "      <td>0.025635</td>\n",
       "      <td>0.018607</td>\n",
       "      <td>0.002252</td>\n",
       "      <td>0.012730</td>\n",
       "      <td>0.020420</td>\n",
       "      <td>0.032295</td>\n",
       "      <td>0.13540</td>\n",
       "    </tr>\n",
       "    <tr>\n",
       "      <th>concavity error</th>\n",
       "      <td>455.0</td>\n",
       "      <td>0.032824</td>\n",
       "      <td>0.032146</td>\n",
       "      <td>0.000000</td>\n",
       "      <td>0.015120</td>\n",
       "      <td>0.026150</td>\n",
       "      <td>0.042565</td>\n",
       "      <td>0.39600</td>\n",
       "    </tr>\n",
       "    <tr>\n",
       "      <th>concave points error</th>\n",
       "      <td>455.0</td>\n",
       "      <td>0.011894</td>\n",
       "      <td>0.006294</td>\n",
       "      <td>0.000000</td>\n",
       "      <td>0.007691</td>\n",
       "      <td>0.011100</td>\n",
       "      <td>0.014645</td>\n",
       "      <td>0.05279</td>\n",
       "    </tr>\n",
       "    <tr>\n",
       "      <th>symmetry error</th>\n",
       "      <td>455.0</td>\n",
       "      <td>0.020574</td>\n",
       "      <td>0.008172</td>\n",
       "      <td>0.007882</td>\n",
       "      <td>0.015210</td>\n",
       "      <td>0.018720</td>\n",
       "      <td>0.023220</td>\n",
       "      <td>0.06146</td>\n",
       "    </tr>\n",
       "    <tr>\n",
       "      <th>fractal dimension error</th>\n",
       "      <td>455.0</td>\n",
       "      <td>0.003820</td>\n",
       "      <td>0.002787</td>\n",
       "      <td>0.000895</td>\n",
       "      <td>0.002222</td>\n",
       "      <td>0.003211</td>\n",
       "      <td>0.004504</td>\n",
       "      <td>0.02984</td>\n",
       "    </tr>\n",
       "    <tr>\n",
       "      <th>worst radius</th>\n",
       "      <td>455.0</td>\n",
       "      <td>16.235103</td>\n",
       "      <td>4.811267</td>\n",
       "      <td>8.678000</td>\n",
       "      <td>13.055000</td>\n",
       "      <td>14.970000</td>\n",
       "      <td>18.410000</td>\n",
       "      <td>36.04000</td>\n",
       "    </tr>\n",
       "    <tr>\n",
       "      <th>worst texture</th>\n",
       "      <td>455.0</td>\n",
       "      <td>25.535692</td>\n",
       "      <td>6.065108</td>\n",
       "      <td>12.020000</td>\n",
       "      <td>21.045000</td>\n",
       "      <td>25.220000</td>\n",
       "      <td>29.690000</td>\n",
       "      <td>49.54000</td>\n",
       "    </tr>\n",
       "    <tr>\n",
       "      <th>worst perimeter</th>\n",
       "      <td>455.0</td>\n",
       "      <td>107.103121</td>\n",
       "      <td>33.374664</td>\n",
       "      <td>54.490000</td>\n",
       "      <td>84.255000</td>\n",
       "      <td>97.670000</td>\n",
       "      <td>124.650000</td>\n",
       "      <td>251.20000</td>\n",
       "    </tr>\n",
       "    <tr>\n",
       "      <th>worst area</th>\n",
       "      <td>455.0</td>\n",
       "      <td>876.987033</td>\n",
       "      <td>567.672841</td>\n",
       "      <td>223.600000</td>\n",
       "      <td>516.450000</td>\n",
       "      <td>686.600000</td>\n",
       "      <td>1031.500000</td>\n",
       "      <td>4254.00000</td>\n",
       "    </tr>\n",
       "    <tr>\n",
       "      <th>worst smoothness</th>\n",
       "      <td>455.0</td>\n",
       "      <td>0.131532</td>\n",
       "      <td>0.023083</td>\n",
       "      <td>0.071170</td>\n",
       "      <td>0.114400</td>\n",
       "      <td>0.130900</td>\n",
       "      <td>0.146050</td>\n",
       "      <td>0.21840</td>\n",
       "    </tr>\n",
       "    <tr>\n",
       "      <th>worst compactness</th>\n",
       "      <td>455.0</td>\n",
       "      <td>0.252742</td>\n",
       "      <td>0.155014</td>\n",
       "      <td>0.027290</td>\n",
       "      <td>0.144950</td>\n",
       "      <td>0.210100</td>\n",
       "      <td>0.341600</td>\n",
       "      <td>0.93790</td>\n",
       "    </tr>\n",
       "    <tr>\n",
       "      <th>worst concavity</th>\n",
       "      <td>455.0</td>\n",
       "      <td>0.274595</td>\n",
       "      <td>0.209398</td>\n",
       "      <td>0.000000</td>\n",
       "      <td>0.116550</td>\n",
       "      <td>0.226400</td>\n",
       "      <td>0.387200</td>\n",
       "      <td>1.25200</td>\n",
       "    </tr>\n",
       "    <tr>\n",
       "      <th>worst concave points</th>\n",
       "      <td>455.0</td>\n",
       "      <td>0.114182</td>\n",
       "      <td>0.065326</td>\n",
       "      <td>0.000000</td>\n",
       "      <td>0.063930</td>\n",
       "      <td>0.098610</td>\n",
       "      <td>0.161100</td>\n",
       "      <td>0.29100</td>\n",
       "    </tr>\n",
       "    <tr>\n",
       "      <th>worst symmetry</th>\n",
       "      <td>455.0</td>\n",
       "      <td>0.290502</td>\n",
       "      <td>0.063151</td>\n",
       "      <td>0.156500</td>\n",
       "      <td>0.249500</td>\n",
       "      <td>0.282700</td>\n",
       "      <td>0.317750</td>\n",
       "      <td>0.66380</td>\n",
       "    </tr>\n",
       "    <tr>\n",
       "      <th>worst fractal dimension</th>\n",
       "      <td>455.0</td>\n",
       "      <td>0.083868</td>\n",
       "      <td>0.017848</td>\n",
       "      <td>0.055040</td>\n",
       "      <td>0.071050</td>\n",
       "      <td>0.080060</td>\n",
       "      <td>0.092070</td>\n",
       "      <td>0.17300</td>\n",
       "    </tr>\n",
       "  </tbody>\n",
       "</table>\n",
       "</div>"
      ],
      "text/plain": [
       "                         count        mean         std         min  \\\n",
       "mean radius              455.0   14.117635    3.535815    7.691000   \n",
       "mean texture             455.0   19.185033    4.266005    9.710000   \n",
       "mean perimeter           455.0   91.882242   24.322027   47.920000   \n",
       "mean area                455.0  654.377582  354.943187  170.400000   \n",
       "mean smoothness          455.0    0.095744    0.013923    0.052630   \n",
       "mean compactness         455.0    0.103619    0.052470    0.019380   \n",
       "mean concavity           455.0    0.088898    0.079468    0.000000   \n",
       "mean concave points      455.0    0.048280    0.038060    0.000000   \n",
       "mean symmetry            455.0    0.181099    0.027487    0.116700   \n",
       "mean fractal dimension   455.0    0.062757    0.007210    0.049960   \n",
       "radius error             455.0    0.402016    0.283161    0.111500   \n",
       "texture error            455.0    1.202687    0.541747    0.360200   \n",
       "perimeter error          455.0    2.858253    2.071209    0.757000   \n",
       "area error               455.0   40.071299   47.236319    6.802000   \n",
       "smoothness error         455.0    0.006989    0.003057    0.001713   \n",
       "compactness error        455.0    0.025635    0.018607    0.002252   \n",
       "concavity error          455.0    0.032824    0.032146    0.000000   \n",
       "concave points error     455.0    0.011894    0.006294    0.000000   \n",
       "symmetry error           455.0    0.020574    0.008172    0.007882   \n",
       "fractal dimension error  455.0    0.003820    0.002787    0.000895   \n",
       "worst radius             455.0   16.235103    4.811267    8.678000   \n",
       "worst texture            455.0   25.535692    6.065108   12.020000   \n",
       "worst perimeter          455.0  107.103121   33.374664   54.490000   \n",
       "worst area               455.0  876.987033  567.672841  223.600000   \n",
       "worst smoothness         455.0    0.131532    0.023083    0.071170   \n",
       "worst compactness        455.0    0.252742    0.155014    0.027290   \n",
       "worst concavity          455.0    0.274595    0.209398    0.000000   \n",
       "worst concave points     455.0    0.114182    0.065326    0.000000   \n",
       "worst symmetry           455.0    0.290502    0.063151    0.156500   \n",
       "worst fractal dimension  455.0    0.083868    0.017848    0.055040   \n",
       "\n",
       "                                25%         50%          75%         max  \n",
       "mean radius               11.705000   13.300000    15.740000    28.11000  \n",
       "mean texture              16.170000   18.680000    21.585000    39.28000  \n",
       "mean perimeter            75.100000   85.980000   103.750000   188.50000  \n",
       "mean area                420.300000  551.700000   767.600000  2501.00000  \n",
       "mean smoothness            0.085825    0.094620     0.104550     0.16340  \n",
       "mean compactness           0.062890    0.090970     0.131300     0.31140  \n",
       "mean concavity             0.029320    0.061540     0.132350     0.42680  \n",
       "mean concave points        0.020340    0.033410     0.073895     0.20120  \n",
       "mean symmetry              0.161850    0.179200     0.195800     0.30400  \n",
       "mean fractal dimension     0.057645    0.061480     0.066100     0.09744  \n",
       "radius error               0.234800    0.323700     0.467750     2.87300  \n",
       "texture error              0.834700    1.095000     1.439500     4.88500  \n",
       "perimeter error            1.653000    2.287000     3.270500    21.98000  \n",
       "area error                18.170000   24.720000    43.725000   542.20000  \n",
       "smoothness error           0.005076    0.006380     0.008069     0.03113  \n",
       "compactness error          0.012730    0.020420     0.032295     0.13540  \n",
       "concavity error            0.015120    0.026150     0.042565     0.39600  \n",
       "concave points error       0.007691    0.011100     0.014645     0.05279  \n",
       "symmetry error             0.015210    0.018720     0.023220     0.06146  \n",
       "fractal dimension error    0.002222    0.003211     0.004504     0.02984  \n",
       "worst radius              13.055000   14.970000    18.410000    36.04000  \n",
       "worst texture             21.045000   25.220000    29.690000    49.54000  \n",
       "worst perimeter           84.255000   97.670000   124.650000   251.20000  \n",
       "worst area               516.450000  686.600000  1031.500000  4254.00000  \n",
       "worst smoothness           0.114400    0.130900     0.146050     0.21840  \n",
       "worst compactness          0.144950    0.210100     0.341600     0.93790  \n",
       "worst concavity            0.116550    0.226400     0.387200     1.25200  \n",
       "worst concave points       0.063930    0.098610     0.161100     0.29100  \n",
       "worst symmetry             0.249500    0.282700     0.317750     0.66380  \n",
       "worst fractal dimension    0.071050    0.080060     0.092070     0.17300  "
      ]
     },
     "execution_count": 5,
     "metadata": {},
     "output_type": "execute_result"
    }
   ],
   "source": [
    "# summary before standardization\n",
    "xtrain.describe().T"
   ]
  },
  {
   "cell_type": "code",
   "execution_count": 6,
   "metadata": {},
   "outputs": [],
   "source": [
    "# params \n",
    "params={\n",
    "    'base_score': 0.5,\n",
    " 'booster': 'gbtree',\n",
    " 'colsample_bylevel': 1,\n",
    " 'colsample_bynode': 1,\n",
    " 'colsample_bytree': 1,\n",
    " 'gamma': 0,\n",
    " 'learning_rate': 0.1,\n",
    " 'max_delta_step': 0,\n",
    " 'max_depth': 3,\n",
    " 'min_child_weight': 1,\n",
    " 'missing': None,\n",
    " 'n_estimators': 100,\n",
    " 'n_jobs': 1,\n",
    " 'nthread': None,\n",
    " 'objective': 'binary:logistic',\n",
    " 'random_state': 0,\n",
    " 'reg_alpha': 0,\n",
    " 'reg_lambda': 1,\n",
    " 'scale_pos_weight': 1,\n",
    " 'seed': None,\n",
    " 'silent': None,\n",
    " 'subsample': 1,\n",
    " 'verbosity': 1\n",
    "}"
   ]
  },
  {
   "cell_type": "code",
   "execution_count": 7,
   "metadata": {},
   "outputs": [
    {
     "name": "stdout",
     "output_type": "stream",
     "text": [
      "Experiment XGBoost_with_no_parameters already exists\n"
     ]
    },
    {
     "name": "stderr",
     "output_type": "stream",
     "text": [
      "d:\\anaconda\\envs\\mlops\\Lib\\site-packages\\xgboost\\core.py:158: UserWarning: [13:37:34] WARNING: C:\\buildkite-agent\\builds\\buildkite-windows-cpu-autoscaling-group-i-0c55ff5f71b100e98-1\\xgboost\\xgboost-ci-windows\\src\\c_api\\c_api.cc:1374: Saving model in the UBJSON format as default.  You can use file extension: `json`, `ubj` or `deprecated` to choose between formats.\n",
      "  warnings.warn(smsg, UserWarning)\n",
      "2024/12/28 13:37:37 WARNING mlflow.models.model: Model logged without a signature and input example. Please set `input_example` parameter when logging the model to auto infer the model signature.\n"
     ]
    },
    {
     "name": "stdout",
     "output_type": "stream",
     "text": [
      "[0.95238095 0.95833333] [0.93023256 0.97183099] [0.94117647 0.96503497] [43 71]\n"
     ]
    }
   ],
   "source": [
    "# Step 5 XGBoost Classifier wityh no Hyperparameter tuning \n",
    "from  basic import mlflow_utils\n",
    "\n",
    "experimentid=mlflow_utils.create_mlflow_experiment(experiment_name='XGBoost_with_no_parameters',artifact_location='plain_xgboost',tags={'Xgboost':'no_parameters'})\n",
    "\n",
    "\n",
    "with mlflow.start_run(run_name='no_parameter_run') as run:\n",
    "    xgboost=XGBClassifier()\n",
    "    xgboost=XGBClassifier(seed=0).fit(xtrain_transformed,ytrain)\n",
    "    xgboost_prediction=xgboost.predict(xtest_transformed)\n",
    "    # prediction probability \n",
    "    xboost_prediction_prob=xgboost.predict_proba(xtest_transformed)[:-1]\n",
    "    precision,recall,fscore,support=score(ytest,xgboost_prediction)\n",
    "\n",
    "    #  log it on mlflow\n",
    "    mlflow.log_params(xgboost.get_params())\n",
    "    mlflow.log_metrics({'precision':precision[0],'recall':recall[0],'fscore':fscore[0],'support':support[0]})\n",
    "    mlflow.xgboost.log_model(xgboost,f'{run.info.run_id}-xgboostmodel')\n",
    "    print(precision,recall,fscore,support)\n"
   ]
  },
  {
   "cell_type": "markdown",
   "metadata": {},
   "source": [
    "# using grid search for XGBoost\n"
   ]
  },
  {
   "cell_type": "code",
   "execution_count": 28,
   "metadata": {},
   "outputs": [
    {
     "name": "stdout",
     "output_type": "stream",
     "text": [
      "Experiment XGBoost_with_no_parameters already exists\n"
     ]
    },
    {
     "name": "stderr",
     "output_type": "stream",
     "text": [
      "d:\\anaconda\\envs\\mlops\\Lib\\site-packages\\mlflow\\types\\utils.py:435: UserWarning: Hint: Inferred schema contains integer column(s). Integer columns in Python cannot represent missing values. If your input data contains missing values at inference time, it will be encoded as floats and will cause a schema enforcement error. The best way to avoid this problem is to infer the model schema based on a realistic data sample (training dataset) that includes missing values. Alternatively, you can declare integer columns as doubles (float64) whenever these columns may have missing values. See `Handling Integers With Missing Values <https://www.mlflow.org/docs/latest/models.html#handling-integers-with-missing-values>`_ for more details.\n",
      "  warnings.warn(\n"
     ]
    }
   ],
   "source": [
    "from mlflow.models.signature import infer_signature\n",
    "# define the search grid \n",
    "param_grid={\n",
    "    'colsample_bytree':[0.3,0.5,0.8],\n",
    "    'reg_alpha':[0,0.5,1,5],\n",
    "    'reg_lambda':[0,0.5,1,5]\n",
    "}\n",
    "#set up score\n",
    "scoring=['recall']\n",
    "\n",
    "#Set yp the k-fold cross-validation\n",
    "kfold=StratifiedKFold(n_splits=3,shuffle=True,random_state=0)\n",
    "\n",
    "# define grid search \n",
    "grid_search=GridSearchCV(\n",
    "    estimator=xgboost,\n",
    "    param_grid=param_grid,\n",
    "    scoring=scoring,\n",
    "    refit='recall',\n",
    "    #n_jobs=-1,\n",
    "    cv=kfold,\n",
    "    verbose=0\n",
    ")\n",
    "\n",
    "#fit grid search\n",
    "experimentid=mlflow_utils.create_mlflow_experiment(experiment_name='XGBoost_with_no_parameters',artifact_location='plain_xgboost',tags={'Xgboost':'no_parameters'})\n",
    "\n",
    "with mlflow.start_run(run_name='grid_search_cv') as run:\n",
    "    grid_results=grid_search.fit(xtrain_transformed,ytrain)\n",
    "    grid_predict=grid_search.predict(xtest_transformed)\n",
    "\n",
    "    precision,recall,fscore,support=score(ytest,grid_predict)\n",
    "    \n",
    "    #log mlflow results \n",
    "    mlflow.log_params(grid_results.best_params_)\n",
    "    mlflow.log_metrics({'best_score':grid_results.best_score_})\n",
    "    #mlflow.log_metrics(grid_results.best_params_)\n",
    "    mlflow.log_metrics({'precision':precision[1],'recall':recall[1],'fscore':fscore[1],'support':support[1]})\n",
    "    model_signature=infer_signature(xtrain,ytrain,params={'model_name':'model1'})\n",
    "    mlflow.sklearn.log_model(\n",
    "        sk_model=grid_results,\n",
    "        artifact_path='best_model_signature',\n",
    "        signature=model_signature\n",
    "    )\n",
    "\n"
   ]
  },
  {
   "cell_type": "code",
   "execution_count": 11,
   "metadata": {},
   "outputs": [
    {
     "name": "stdout",
     "output_type": "stream",
     "text": [
      "GridSearchCV(cv=StratifiedKFold(n_splits=3, random_state=0, shuffle=True),\n",
      "             estimator=XGBClassifier(base_score=None, booster=None,\n",
      "                                     callbacks=None, colsample_bylevel=None,\n",
      "                                     colsample_bynode=None,\n",
      "                                     colsample_bytree=None, device=None,\n",
      "                                     early_stopping_rounds=None,\n",
      "                                     enable_categorical=False, eval_metric=None,\n",
      "                                     feature_types=None, gamma=None,\n",
      "                                     grow_policy=None, importance_type...\n",
      "                                     max_cat_to_onehot=None,\n",
      "                                     max_delta_step=None, max_depth=None,\n",
      "                                     max_leaves=None, min_child_weight=None,\n",
      "                                     missing=nan, monotone_constraints=None,\n",
      "                                     multi_strategy=None, n_estimators=None,\n",
      "                                     n_jobs=None, num_parallel_tree=None,\n",
      "                                     random_state=None, ...),\n",
      "             param_grid={'colsample_bytree': [0.3, 0.5, 0.8],\n",
      "                         'reg_alpha': [0, 0.5, 1, 5],\n",
      "                         'reg_lambda': [0, 0.5, 1, 5]},\n",
      "             refit='recall', scoring=['recall'])\n"
     ]
    }
   ],
   "source": [
    "# Random Search for XGBoost"
   ]
  },
  {
   "cell_type": "markdown",
   "metadata": {},
   "source": [
    "# using random search"
   ]
  },
  {
   "cell_type": "code",
   "execution_count": 30,
   "metadata": {},
   "outputs": [],
   "source": [
    "param_grid={\n",
    "    'learning_rate':[0.0001,0.001,0.01,0.1,1],\n",
    "    'max_depth':range(3,21,3),\n",
    "    'gamma':[i/10.0 for i in range(0,5)],\n",
    "    'colsample_bytree':[i/10.0 for i in range(3,10)],\n",
    "    'reg_alpha':[1e-5,1e-2,0.1,1,10,100],\n",
    "    'reg_lambda':[1e-5,1e-2,0.1,1,10,100]\n",
    "}\n",
    "scoring=['recall']\n",
    "\n",
    "kfold=StratifiedKFold(n_splits=3,shuffle=True,random_state=0)"
   ]
  },
  {
   "cell_type": "code",
   "execution_count": 31,
   "metadata": {},
   "outputs": [
    {
     "name": "stderr",
     "output_type": "stream",
     "text": [
      "d:\\anaconda\\envs\\mlops\\Lib\\site-packages\\mlflow\\types\\utils.py:435: UserWarning: Hint: Inferred schema contains integer column(s). Integer columns in Python cannot represent missing values. If your input data contains missing values at inference time, it will be encoded as floats and will cause a schema enforcement error. The best way to avoid this problem is to infer the model schema based on a realistic data sample (training dataset) that includes missing values. Alternatively, you can declare integer columns as doubles (float64) whenever these columns may have missing values. See `Handling Integers With Missing Values <https://www.mlflow.org/docs/latest/models.html#handling-integers-with-missing-values>`_ for more details.\n",
      "  warnings.warn(\n"
     ]
    }
   ],
   "source": [
    "random_searh=RandomizedSearchCV(\n",
    "    estimator=xgboost,\n",
    "    param_distributions=param_grid,\n",
    "    n_iter=48,\n",
    "    scoring=scoring,\n",
    "    refit='recall',\n",
    "    # n_jobs=-1,\n",
    "    cv=kfold,\n",
    "    verbose=0\n",
    "    )\n",
    "\n",
    "with mlflow.start_run(run_name='randomSearchCV') as run:\n",
    "    random_result=random_searh.fit(xtrain_transformed,ytrain)\n",
    "    random_predict=random_result.predict(xtest_transformed)\n",
    "     #log mlflow results \n",
    "    mlflow.log_params(random_result.best_params_)\n",
    "    mlflow.log_metrics({'best_score':random_result.best_score_})\n",
    "    #mlflow.log_metrics(grid_results.best_params_)\n",
    "    mlflow.log_metrics({'precision':precision[1],'recall':recall[1],'fscore':fscore[1],'support':support[1]})\n",
    "    model_signature=infer_signature(xtrain,ytrain,params={'model_name':'model1'})\n",
    "    mlflow.sklearn.log_model(\n",
    "        sk_model=random_result,\n",
    "        artifact_path='best_random_signature',\n",
    "        signature=model_signature\n",
    "    )\n"
   ]
  },
  {
   "cell_type": "markdown",
   "metadata": {},
   "source": [
    "# Bayesian Optimization for XGBoost"
   ]
  },
  {
   "cell_type": "code",
   "execution_count": 58,
   "metadata": {},
   "outputs": [],
   "source": [
    "from sklearn.metrics import accuracy_score,precision_score,recall_score,f1_score\n",
    "from typing import Dict, List, Optional \n",
    "from functools import partial\n",
    "\n",
    "def get_classification_metrics(y_true:pd.Series,y_pred:pd.Series,prefix:str)->Dict[str,float]:\n",
    "    \"\"\"\n",
    "    calculate classification metrics\n",
    "    \"\"\"\n",
    "    accuracy=accuracy_score(y_true,y_pred)\n",
    "    precision=precision_score(y_true,y_pred)\n",
    "    recall=recall_score(y_true,y_pred)\n",
    "    f1=f1_score(y_true,y_pred)\n",
    "    return {\n",
    "        f'{prefix}_accuracy':accuracy,\n",
    "        f'{prefix}_precision':precision,\n",
    "        f'{prefix}_recall':recall,\n",
    "        f'{prefix}_f1':f1\n",
    "    }"
   ]
  },
  {
   "cell_type": "code",
   "execution_count": 89,
   "metadata": {},
   "outputs": [],
   "source": [
    "space={\n",
    "    'learning_rate':hp.choice('learning_rate',[0.0001,0.001,0.01,0.1,1]),\n",
    "    'max_depth':hp.choice('max_depth',range(3,21,3)),\n",
    "    'gamma':hp.choice('gamma',[i/10.0 for i in range(0,5)]),\n",
    "    'colsample_bytree':hp.choice('colsample_bytree',[i/10.0 for i in range(3,10)]),\n",
    "    'reg_alpha':hp.choice('reg_alpha',[1e-5,1e-2,0.1,1,10,100]),\n",
    "    'reg_lambda':hp.choice('reg_lambda',[1e-5,1e-2,0.1,1,10,100])\n",
    "}"
   ]
  },
  {
   "cell_type": "code",
   "execution_count": 90,
   "metadata": {},
   "outputs": [],
   "source": [
    "kfold=StratifiedKFold(n_splits=3,shuffle=True,random_state=0)"
   ]
  },
  {
   "cell_type": "code",
   "execution_count": 91,
   "metadata": {},
   "outputs": [],
   "source": [
    "def objective(params,xtrain_transformed,ytrain,xtest_transformed,ytest):\n",
    "    #xgboost.set_params(**params)\n",
    "    with mlflow.start_run(nested=True) as run: \n",
    "        xgboost=XGBClassifier(seed=0,**params)\n",
    "        xgboost.fit(xtrain_transformed,ytrain)\n",
    "        ypred=xgboost.predict(xtest_transformed)\n",
    "\n",
    "        metrics=get_classification_metrics(y_true=ytest,y_pred=ypred,prefix='test')\n",
    "        mlflow.log_metrics(metrics)\n",
    "        mlflow.log_params(params)\n",
    "        mlflow.xgboost.log_model(xgboost,f'{run.info.run_id}-model')\n",
    "        \n",
    "    return -metrics['test_f1']"
   ]
  },
  {
   "cell_type": "code",
   "execution_count": 101,
   "metadata": {},
   "outputs": [
    {
     "name": "stdout",
     "output_type": "stream",
     "text": [
      "  0%|          | 0/48 [00:00<?, ?trial/s, best loss=?]"
     ]
    },
    {
     "name": "stderr",
     "output_type": "stream",
     "text": [
      "d:\\anaconda\\envs\\mlops\\Lib\\site-packages\\xgboost\\core.py:158: UserWarning: [17:25:31] WARNING: C:\\buildkite-agent\\builds\\buildkite-windows-cpu-autoscaling-group-i-0c55ff5f71b100e98-1\\xgboost\\xgboost-ci-windows\\src\\c_api\\c_api.cc:1374: Saving model in the UBJSON format as default.  You can use file extension: `json`, `ubj` or `deprecated` to choose between formats.\n",
      "  warnings.warn(smsg, UserWarning)\n",
      "\n",
      "2024/12/28 17:25:35 WARNING mlflow.models.model: Model logged without a signature and input example. Please set `input_example` parameter when logging the model to auto infer the model signature.\n",
      "\n"
     ]
    },
    {
     "name": "stdout",
     "output_type": "stream",
     "text": [
      "  2%|▏         | 1/48 [00:04<03:22,  4.30s/trial, best loss: -0.965034965034965]"
     ]
    },
    {
     "name": "stderr",
     "output_type": "stream",
     "text": [
      "d:\\anaconda\\envs\\mlops\\Lib\\site-packages\\xgboost\\core.py:158: UserWarning: [17:25:35] WARNING: C:\\buildkite-agent\\builds\\buildkite-windows-cpu-autoscaling-group-i-0c55ff5f71b100e98-1\\xgboost\\xgboost-ci-windows\\src\\c_api\\c_api.cc:1374: Saving model in the UBJSON format as default.  You can use file extension: `json`, `ubj` or `deprecated` to choose between formats.\n",
      "  warnings.warn(smsg, UserWarning)\n",
      "\n",
      "2024/12/28 17:25:39 WARNING mlflow.models.model: Model logged without a signature and input example. Please set `input_example` parameter when logging the model to auto infer the model signature.\n",
      "\n"
     ]
    },
    {
     "name": "stdout",
     "output_type": "stream",
     "text": [
      "  4%|▍         | 2/48 [00:08<03:03,  3.98s/trial, best loss: -0.965034965034965]"
     ]
    },
    {
     "name": "stderr",
     "output_type": "stream",
     "text": [
      "d:\\anaconda\\envs\\mlops\\Lib\\site-packages\\xgboost\\core.py:158: UserWarning: [17:25:39] WARNING: C:\\buildkite-agent\\builds\\buildkite-windows-cpu-autoscaling-group-i-0c55ff5f71b100e98-1\\xgboost\\xgboost-ci-windows\\src\\c_api\\c_api.cc:1374: Saving model in the UBJSON format as default.  You can use file extension: `json`, `ubj` or `deprecated` to choose between formats.\n",
      "  warnings.warn(smsg, UserWarning)\n",
      "\n",
      "2024/12/28 17:25:43 WARNING mlflow.models.model: Model logged without a signature and input example. Please set `input_example` parameter when logging the model to auto infer the model signature.\n",
      "\n"
     ]
    },
    {
     "name": "stdout",
     "output_type": "stream",
     "text": [
      "  6%|▋         | 3/48 [00:12<03:03,  4.09s/trial, best loss: -0.965034965034965]"
     ]
    },
    {
     "name": "stderr",
     "output_type": "stream",
     "text": [
      "d:\\anaconda\\envs\\mlops\\Lib\\site-packages\\xgboost\\core.py:158: UserWarning: [17:25:43] WARNING: C:\\buildkite-agent\\builds\\buildkite-windows-cpu-autoscaling-group-i-0c55ff5f71b100e98-1\\xgboost\\xgboost-ci-windows\\src\\c_api\\c_api.cc:1374: Saving model in the UBJSON format as default.  You can use file extension: `json`, `ubj` or `deprecated` to choose between formats.\n",
      "  warnings.warn(smsg, UserWarning)\n",
      "\n",
      "2024/12/28 17:25:48 WARNING mlflow.models.model: Model logged without a signature and input example. Please set `input_example` parameter when logging the model to auto infer the model signature.\n",
      "\n"
     ]
    },
    {
     "name": "stdout",
     "output_type": "stream",
     "text": [
      "  8%|▊         | 4/48 [00:16<03:05,  4.22s/trial, best loss: -0.965034965034965]"
     ]
    },
    {
     "name": "stderr",
     "output_type": "stream",
     "text": [
      "d:\\anaconda\\envs\\mlops\\Lib\\site-packages\\xgboost\\core.py:158: UserWarning: [17:25:48] WARNING: C:\\buildkite-agent\\builds\\buildkite-windows-cpu-autoscaling-group-i-0c55ff5f71b100e98-1\\xgboost\\xgboost-ci-windows\\src\\c_api\\c_api.cc:1374: Saving model in the UBJSON format as default.  You can use file extension: `json`, `ubj` or `deprecated` to choose between formats.\n",
      "  warnings.warn(smsg, UserWarning)\n",
      "\n",
      "2024/12/28 17:25:52 WARNING mlflow.models.model: Model logged without a signature and input example. Please set `input_example` parameter when logging the model to auto infer the model signature.\n",
      "\n"
     ]
    },
    {
     "name": "stdout",
     "output_type": "stream",
     "text": [
      " 10%|█         | 5/48 [00:21<03:10,  4.43s/trial, best loss: -0.965034965034965]"
     ]
    },
    {
     "name": "stderr",
     "output_type": "stream",
     "text": [
      "d:\\anaconda\\envs\\mlops\\Lib\\site-packages\\xgboost\\core.py:158: UserWarning: [17:25:53] WARNING: C:\\buildkite-agent\\builds\\buildkite-windows-cpu-autoscaling-group-i-0c55ff5f71b100e98-1\\xgboost\\xgboost-ci-windows\\src\\c_api\\c_api.cc:1374: Saving model in the UBJSON format as default.  You can use file extension: `json`, `ubj` or `deprecated` to choose between formats.\n",
      "  warnings.warn(smsg, UserWarning)\n",
      "\n",
      "2024/12/28 17:25:57 WARNING mlflow.models.model: Model logged without a signature and input example. Please set `input_example` parameter when logging the model to auto infer the model signature.\n",
      "\n"
     ]
    },
    {
     "name": "stdout",
     "output_type": "stream",
     "text": [
      " 12%|█▎        | 6/48 [00:26<03:10,  4.53s/trial, best loss: -0.965034965034965]"
     ]
    },
    {
     "name": "stderr",
     "output_type": "stream",
     "text": [
      "d:\\anaconda\\envs\\mlops\\Lib\\site-packages\\xgboost\\core.py:158: UserWarning: [17:25:58] WARNING: C:\\buildkite-agent\\builds\\buildkite-windows-cpu-autoscaling-group-i-0c55ff5f71b100e98-1\\xgboost\\xgboost-ci-windows\\src\\c_api\\c_api.cc:1374: Saving model in the UBJSON format as default.  You can use file extension: `json`, `ubj` or `deprecated` to choose between formats.\n",
      "  warnings.warn(smsg, UserWarning)\n",
      "\n",
      "2024/12/28 17:26:02 WARNING mlflow.models.model: Model logged without a signature and input example. Please set `input_example` parameter when logging the model to auto infer the model signature.\n",
      "\n"
     ]
    },
    {
     "name": "stdout",
     "output_type": "stream",
     "text": [
      " 15%|█▍        | 7/48 [00:31<03:11,  4.67s/trial, best loss: -0.965034965034965]"
     ]
    },
    {
     "name": "stderr",
     "output_type": "stream",
     "text": [
      "d:\\anaconda\\envs\\mlops\\Lib\\site-packages\\xgboost\\core.py:158: UserWarning: [17:26:03] WARNING: C:\\buildkite-agent\\builds\\buildkite-windows-cpu-autoscaling-group-i-0c55ff5f71b100e98-1\\xgboost\\xgboost-ci-windows\\src\\c_api\\c_api.cc:1374: Saving model in the UBJSON format as default.  You can use file extension: `json`, `ubj` or `deprecated` to choose between formats.\n",
      "  warnings.warn(smsg, UserWarning)\n",
      "\n",
      "2024/12/28 17:26:07 WARNING mlflow.models.model: Model logged without a signature and input example. Please set `input_example` parameter when logging the model to auto infer the model signature.\n",
      "\n"
     ]
    },
    {
     "name": "stdout",
     "output_type": "stream",
     "text": [
      " 17%|█▋        | 8/48 [00:35<03:06,  4.67s/trial, best loss: -0.9722222222222222]"
     ]
    },
    {
     "name": "stderr",
     "output_type": "stream",
     "text": [
      "d:\\anaconda\\envs\\mlops\\Lib\\site-packages\\xgboost\\core.py:158: UserWarning: [17:26:07] WARNING: C:\\buildkite-agent\\builds\\buildkite-windows-cpu-autoscaling-group-i-0c55ff5f71b100e98-1\\xgboost\\xgboost-ci-windows\\src\\c_api\\c_api.cc:1374: Saving model in the UBJSON format as default.  You can use file extension: `json`, `ubj` or `deprecated` to choose between formats.\n",
      "  warnings.warn(smsg, UserWarning)\n",
      "\n",
      "2024/12/28 17:26:11 WARNING mlflow.models.model: Model logged without a signature and input example. Please set `input_example` parameter when logging the model to auto infer the model signature.\n",
      "\n"
     ]
    },
    {
     "name": "stdout",
     "output_type": "stream",
     "text": [
      " 19%|█▉        | 9/48 [00:40<03:01,  4.65s/trial, best loss: -0.9722222222222222]"
     ]
    },
    {
     "name": "stderr",
     "output_type": "stream",
     "text": [
      "d:\\anaconda\\envs\\mlops\\Lib\\site-packages\\xgboost\\core.py:158: UserWarning: [17:26:12] WARNING: C:\\buildkite-agent\\builds\\buildkite-windows-cpu-autoscaling-group-i-0c55ff5f71b100e98-1\\xgboost\\xgboost-ci-windows\\src\\c_api\\c_api.cc:1374: Saving model in the UBJSON format as default.  You can use file extension: `json`, `ubj` or `deprecated` to choose between formats.\n",
      "  warnings.warn(smsg, UserWarning)\n",
      "\n",
      "2024/12/28 17:26:16 WARNING mlflow.models.model: Model logged without a signature and input example. Please set `input_example` parameter when logging the model to auto infer the model signature.\n",
      "\n"
     ]
    },
    {
     "name": "stdout",
     "output_type": "stream",
     "text": [
      " 21%|██        | 10/48 [00:44<02:54,  4.59s/trial, best loss: -0.9722222222222222]"
     ]
    },
    {
     "name": "stderr",
     "output_type": "stream",
     "text": [
      "d:\\anaconda\\envs\\mlops\\Lib\\site-packages\\xgboost\\core.py:158: UserWarning: [17:26:16] WARNING: C:\\buildkite-agent\\builds\\buildkite-windows-cpu-autoscaling-group-i-0c55ff5f71b100e98-1\\xgboost\\xgboost-ci-windows\\src\\c_api\\c_api.cc:1374: Saving model in the UBJSON format as default.  You can use file extension: `json`, `ubj` or `deprecated` to choose between formats.\n",
      "  warnings.warn(smsg, UserWarning)\n",
      "\n",
      "2024/12/28 17:26:21 WARNING mlflow.models.model: Model logged without a signature and input example. Please set `input_example` parameter when logging the model to auto infer the model signature.\n",
      "\n"
     ]
    },
    {
     "name": "stdout",
     "output_type": "stream",
     "text": [
      " 23%|██▎       | 11/48 [00:49<02:51,  4.63s/trial, best loss: -0.9722222222222222]"
     ]
    },
    {
     "name": "stderr",
     "output_type": "stream",
     "text": [
      "d:\\anaconda\\envs\\mlops\\Lib\\site-packages\\xgboost\\core.py:158: UserWarning: [17:26:21] WARNING: C:\\buildkite-agent\\builds\\buildkite-windows-cpu-autoscaling-group-i-0c55ff5f71b100e98-1\\xgboost\\xgboost-ci-windows\\src\\c_api\\c_api.cc:1374: Saving model in the UBJSON format as default.  You can use file extension: `json`, `ubj` or `deprecated` to choose between formats.\n",
      "  warnings.warn(smsg, UserWarning)\n",
      "\n",
      "2024/12/28 17:26:25 WARNING mlflow.models.model: Model logged without a signature and input example. Please set `input_example` parameter when logging the model to auto infer the model signature.\n",
      "\n"
     ]
    },
    {
     "name": "stdout",
     "output_type": "stream",
     "text": [
      " 25%|██▌       | 12/48 [00:54<02:49,  4.70s/trial, best loss: -0.9722222222222222]"
     ]
    },
    {
     "name": "stderr",
     "output_type": "stream",
     "text": [
      "d:\\anaconda\\envs\\mlops\\Lib\\site-packages\\xgboost\\core.py:158: UserWarning: [17:26:26] WARNING: C:\\buildkite-agent\\builds\\buildkite-windows-cpu-autoscaling-group-i-0c55ff5f71b100e98-1\\xgboost\\xgboost-ci-windows\\src\\c_api\\c_api.cc:1374: Saving model in the UBJSON format as default.  You can use file extension: `json`, `ubj` or `deprecated` to choose between formats.\n",
      "  warnings.warn(smsg, UserWarning)\n",
      "\n",
      "2024/12/28 17:26:30 WARNING mlflow.models.model: Model logged without a signature and input example. Please set `input_example` parameter when logging the model to auto infer the model signature.\n",
      "\n"
     ]
    },
    {
     "name": "stdout",
     "output_type": "stream",
     "text": [
      " 27%|██▋       | 13/48 [00:59<02:44,  4.70s/trial, best loss: -0.9722222222222222]"
     ]
    },
    {
     "name": "stderr",
     "output_type": "stream",
     "text": [
      "d:\\anaconda\\envs\\mlops\\Lib\\site-packages\\xgboost\\core.py:158: UserWarning: [17:26:31] WARNING: C:\\buildkite-agent\\builds\\buildkite-windows-cpu-autoscaling-group-i-0c55ff5f71b100e98-1\\xgboost\\xgboost-ci-windows\\src\\c_api\\c_api.cc:1374: Saving model in the UBJSON format as default.  You can use file extension: `json`, `ubj` or `deprecated` to choose between formats.\n",
      "  warnings.warn(smsg, UserWarning)\n",
      "\n",
      "2024/12/28 17:26:35 WARNING mlflow.models.model: Model logged without a signature and input example. Please set `input_example` parameter when logging the model to auto infer the model signature.\n",
      "\n"
     ]
    },
    {
     "name": "stdout",
     "output_type": "stream",
     "text": [
      " 29%|██▉       | 14/48 [01:04<02:43,  4.82s/trial, best loss: -0.9722222222222222]"
     ]
    },
    {
     "name": "stderr",
     "output_type": "stream",
     "text": [
      "d:\\anaconda\\envs\\mlops\\Lib\\site-packages\\xgboost\\core.py:158: UserWarning: [17:26:36] WARNING: C:\\buildkite-agent\\builds\\buildkite-windows-cpu-autoscaling-group-i-0c55ff5f71b100e98-1\\xgboost\\xgboost-ci-windows\\src\\c_api\\c_api.cc:1374: Saving model in the UBJSON format as default.  You can use file extension: `json`, `ubj` or `deprecated` to choose between formats.\n",
      "  warnings.warn(smsg, UserWarning)\n",
      "\n",
      "2024/12/28 17:26:40 WARNING mlflow.models.model: Model logged without a signature and input example. Please set `input_example` parameter when logging the model to auto infer the model signature.\n",
      "\n"
     ]
    },
    {
     "name": "stdout",
     "output_type": "stream",
     "text": [
      " 31%|███▏      | 15/48 [01:08<02:35,  4.73s/trial, best loss: -0.9722222222222222]"
     ]
    },
    {
     "name": "stderr",
     "output_type": "stream",
     "text": [
      "d:\\anaconda\\envs\\mlops\\Lib\\site-packages\\xgboost\\core.py:158: UserWarning: [17:26:40] WARNING: C:\\buildkite-agent\\builds\\buildkite-windows-cpu-autoscaling-group-i-0c55ff5f71b100e98-1\\xgboost\\xgboost-ci-windows\\src\\c_api\\c_api.cc:1374: Saving model in the UBJSON format as default.  You can use file extension: `json`, `ubj` or `deprecated` to choose between formats.\n",
      "  warnings.warn(smsg, UserWarning)\n",
      "\n",
      "2024/12/28 17:26:44 WARNING mlflow.models.model: Model logged without a signature and input example. Please set `input_example` parameter when logging the model to auto infer the model signature.\n",
      "\n"
     ]
    },
    {
     "name": "stdout",
     "output_type": "stream",
     "text": [
      " 33%|███▎      | 16/48 [01:13<02:30,  4.70s/trial, best loss: -0.9722222222222222]"
     ]
    },
    {
     "name": "stderr",
     "output_type": "stream",
     "text": [
      "d:\\anaconda\\envs\\mlops\\Lib\\site-packages\\xgboost\\core.py:158: UserWarning: [17:26:45] WARNING: C:\\buildkite-agent\\builds\\buildkite-windows-cpu-autoscaling-group-i-0c55ff5f71b100e98-1\\xgboost\\xgboost-ci-windows\\src\\c_api\\c_api.cc:1374: Saving model in the UBJSON format as default.  You can use file extension: `json`, `ubj` or `deprecated` to choose between formats.\n",
      "  warnings.warn(smsg, UserWarning)\n",
      "\n",
      "2024/12/28 17:26:49 WARNING mlflow.models.model: Model logged without a signature and input example. Please set `input_example` parameter when logging the model to auto infer the model signature.\n",
      "\n"
     ]
    },
    {
     "name": "stdout",
     "output_type": "stream",
     "text": [
      " 35%|███▌      | 17/48 [01:18<02:26,  4.72s/trial, best loss: -0.9722222222222222]"
     ]
    },
    {
     "name": "stderr",
     "output_type": "stream",
     "text": [
      "d:\\anaconda\\envs\\mlops\\Lib\\site-packages\\xgboost\\core.py:158: UserWarning: [17:26:50] WARNING: C:\\buildkite-agent\\builds\\buildkite-windows-cpu-autoscaling-group-i-0c55ff5f71b100e98-1\\xgboost\\xgboost-ci-windows\\src\\c_api\\c_api.cc:1374: Saving model in the UBJSON format as default.  You can use file extension: `json`, `ubj` or `deprecated` to choose between formats.\n",
      "  warnings.warn(smsg, UserWarning)\n",
      "\n",
      "2024/12/28 17:26:54 WARNING mlflow.models.model: Model logged without a signature and input example. Please set `input_example` parameter when logging the model to auto infer the model signature.\n",
      "\n"
     ]
    },
    {
     "name": "stdout",
     "output_type": "stream",
     "text": [
      " 38%|███▊      | 18/48 [01:22<02:21,  4.72s/trial, best loss: -0.9722222222222222]"
     ]
    },
    {
     "name": "stderr",
     "output_type": "stream",
     "text": [
      "d:\\anaconda\\envs\\mlops\\Lib\\site-packages\\xgboost\\core.py:158: UserWarning: [17:26:54] WARNING: C:\\buildkite-agent\\builds\\buildkite-windows-cpu-autoscaling-group-i-0c55ff5f71b100e98-1\\xgboost\\xgboost-ci-windows\\src\\c_api\\c_api.cc:1374: Saving model in the UBJSON format as default.  You can use file extension: `json`, `ubj` or `deprecated` to choose between formats.\n",
      "  warnings.warn(smsg, UserWarning)\n",
      "\n",
      "2024/12/28 17:26:59 WARNING mlflow.models.model: Model logged without a signature and input example. Please set `input_example` parameter when logging the model to auto infer the model signature.\n",
      "\n"
     ]
    },
    {
     "name": "stdout",
     "output_type": "stream",
     "text": [
      " 40%|███▉      | 19/48 [01:27<02:17,  4.73s/trial, best loss: -0.9722222222222222]"
     ]
    },
    {
     "name": "stderr",
     "output_type": "stream",
     "text": [
      "d:\\anaconda\\envs\\mlops\\Lib\\site-packages\\xgboost\\core.py:158: UserWarning: [17:26:59] WARNING: C:\\buildkite-agent\\builds\\buildkite-windows-cpu-autoscaling-group-i-0c55ff5f71b100e98-1\\xgboost\\xgboost-ci-windows\\src\\c_api\\c_api.cc:1374: Saving model in the UBJSON format as default.  You can use file extension: `json`, `ubj` or `deprecated` to choose between formats.\n",
      "  warnings.warn(smsg, UserWarning)\n",
      "\n",
      "2024/12/28 17:27:04 WARNING mlflow.models.model: Model logged without a signature and input example. Please set `input_example` parameter when logging the model to auto infer the model signature.\n",
      "\n"
     ]
    },
    {
     "name": "stdout",
     "output_type": "stream",
     "text": [
      " 42%|████▏     | 20/48 [01:32<02:14,  4.81s/trial, best loss: -0.9722222222222222]"
     ]
    },
    {
     "name": "stderr",
     "output_type": "stream",
     "text": [
      "d:\\anaconda\\envs\\mlops\\Lib\\site-packages\\xgboost\\core.py:158: UserWarning: [17:27:04] WARNING: C:\\buildkite-agent\\builds\\buildkite-windows-cpu-autoscaling-group-i-0c55ff5f71b100e98-1\\xgboost\\xgboost-ci-windows\\src\\c_api\\c_api.cc:1374: Saving model in the UBJSON format as default.  You can use file extension: `json`, `ubj` or `deprecated` to choose between formats.\n",
      "  warnings.warn(smsg, UserWarning)\n",
      "\n",
      "2024/12/28 17:27:08 WARNING mlflow.models.model: Model logged without a signature and input example. Please set `input_example` parameter when logging the model to auto infer the model signature.\n",
      "\n"
     ]
    },
    {
     "name": "stdout",
     "output_type": "stream",
     "text": [
      " 44%|████▍     | 21/48 [01:37<02:08,  4.75s/trial, best loss: -0.9722222222222222]"
     ]
    },
    {
     "name": "stderr",
     "output_type": "stream",
     "text": [
      "d:\\anaconda\\envs\\mlops\\Lib\\site-packages\\xgboost\\core.py:158: UserWarning: [17:27:09] WARNING: C:\\buildkite-agent\\builds\\buildkite-windows-cpu-autoscaling-group-i-0c55ff5f71b100e98-1\\xgboost\\xgboost-ci-windows\\src\\c_api\\c_api.cc:1374: Saving model in the UBJSON format as default.  You can use file extension: `json`, `ubj` or `deprecated` to choose between formats.\n",
      "  warnings.warn(smsg, UserWarning)\n",
      "\n",
      "2024/12/28 17:27:13 WARNING mlflow.models.model: Model logged without a signature and input example. Please set `input_example` parameter when logging the model to auto infer the model signature.\n",
      "\n"
     ]
    },
    {
     "name": "stdout",
     "output_type": "stream",
     "text": [
      " 46%|████▌     | 22/48 [01:41<02:03,  4.73s/trial, best loss: -0.9722222222222222]"
     ]
    },
    {
     "name": "stderr",
     "output_type": "stream",
     "text": [
      "d:\\anaconda\\envs\\mlops\\Lib\\site-packages\\xgboost\\core.py:158: UserWarning: [17:27:14] WARNING: C:\\buildkite-agent\\builds\\buildkite-windows-cpu-autoscaling-group-i-0c55ff5f71b100e98-1\\xgboost\\xgboost-ci-windows\\src\\c_api\\c_api.cc:1374: Saving model in the UBJSON format as default.  You can use file extension: `json`, `ubj` or `deprecated` to choose between formats.\n",
      "  warnings.warn(smsg, UserWarning)\n",
      "\n",
      "2024/12/28 17:27:17 WARNING mlflow.models.model: Model logged without a signature and input example. Please set `input_example` parameter when logging the model to auto infer the model signature.\n",
      "\n"
     ]
    },
    {
     "name": "stdout",
     "output_type": "stream",
     "text": [
      " 48%|████▊     | 23/48 [01:46<01:56,  4.68s/trial, best loss: -0.9722222222222222]"
     ]
    },
    {
     "name": "stderr",
     "output_type": "stream",
     "text": [
      "d:\\anaconda\\envs\\mlops\\Lib\\site-packages\\xgboost\\core.py:158: UserWarning: [17:27:18] WARNING: C:\\buildkite-agent\\builds\\buildkite-windows-cpu-autoscaling-group-i-0c55ff5f71b100e98-1\\xgboost\\xgboost-ci-windows\\src\\c_api\\c_api.cc:1374: Saving model in the UBJSON format as default.  You can use file extension: `json`, `ubj` or `deprecated` to choose between formats.\n",
      "  warnings.warn(smsg, UserWarning)\n",
      "\n",
      "2024/12/28 17:27:22 WARNING mlflow.models.model: Model logged without a signature and input example. Please set `input_example` parameter when logging the model to auto infer the model signature.\n",
      "\n"
     ]
    },
    {
     "name": "stdout",
     "output_type": "stream",
     "text": [
      " 50%|█████     | 24/48 [01:50<01:49,  4.58s/trial, best loss: -0.9722222222222222]"
     ]
    },
    {
     "name": "stderr",
     "output_type": "stream",
     "text": [
      "d:\\anaconda\\envs\\mlops\\Lib\\site-packages\\xgboost\\core.py:158: UserWarning: [17:27:22] WARNING: C:\\buildkite-agent\\builds\\buildkite-windows-cpu-autoscaling-group-i-0c55ff5f71b100e98-1\\xgboost\\xgboost-ci-windows\\src\\c_api\\c_api.cc:1374: Saving model in the UBJSON format as default.  You can use file extension: `json`, `ubj` or `deprecated` to choose between formats.\n",
      "  warnings.warn(smsg, UserWarning)\n",
      "\n",
      "2024/12/28 17:27:26 WARNING mlflow.models.model: Model logged without a signature and input example. Please set `input_example` parameter when logging the model to auto infer the model signature.\n",
      "\n"
     ]
    },
    {
     "name": "stdout",
     "output_type": "stream",
     "text": [
      " 52%|█████▏    | 25/48 [01:55<01:43,  4.51s/trial, best loss: -0.9722222222222222]"
     ]
    },
    {
     "name": "stderr",
     "output_type": "stream",
     "text": [
      "d:\\anaconda\\envs\\mlops\\Lib\\site-packages\\xgboost\\core.py:158: UserWarning: [17:27:27] WARNING: C:\\buildkite-agent\\builds\\buildkite-windows-cpu-autoscaling-group-i-0c55ff5f71b100e98-1\\xgboost\\xgboost-ci-windows\\src\\c_api\\c_api.cc:1374: Saving model in the UBJSON format as default.  You can use file extension: `json`, `ubj` or `deprecated` to choose between formats.\n",
      "  warnings.warn(smsg, UserWarning)\n",
      "\n",
      "2024/12/28 17:27:31 WARNING mlflow.models.model: Model logged without a signature and input example. Please set `input_example` parameter when logging the model to auto infer the model signature.\n",
      "\n"
     ]
    },
    {
     "name": "stdout",
     "output_type": "stream",
     "text": [
      " 54%|█████▍    | 26/48 [01:59<01:40,  4.57s/trial, best loss: -0.9722222222222222]"
     ]
    },
    {
     "name": "stderr",
     "output_type": "stream",
     "text": [
      "d:\\anaconda\\envs\\mlops\\Lib\\site-packages\\xgboost\\core.py:158: UserWarning: [17:27:31] WARNING: C:\\buildkite-agent\\builds\\buildkite-windows-cpu-autoscaling-group-i-0c55ff5f71b100e98-1\\xgboost\\xgboost-ci-windows\\src\\c_api\\c_api.cc:1374: Saving model in the UBJSON format as default.  You can use file extension: `json`, `ubj` or `deprecated` to choose between formats.\n",
      "  warnings.warn(smsg, UserWarning)\n",
      "\n",
      "2024/12/28 17:27:35 WARNING mlflow.models.model: Model logged without a signature and input example. Please set `input_example` parameter when logging the model to auto infer the model signature.\n",
      "\n"
     ]
    },
    {
     "name": "stdout",
     "output_type": "stream",
     "text": [
      " 56%|█████▋    | 27/48 [02:04<01:35,  4.56s/trial, best loss: -0.9722222222222222]"
     ]
    },
    {
     "name": "stderr",
     "output_type": "stream",
     "text": [
      "d:\\anaconda\\envs\\mlops\\Lib\\site-packages\\xgboost\\core.py:158: UserWarning: [17:27:36] WARNING: C:\\buildkite-agent\\builds\\buildkite-windows-cpu-autoscaling-group-i-0c55ff5f71b100e98-1\\xgboost\\xgboost-ci-windows\\src\\c_api\\c_api.cc:1374: Saving model in the UBJSON format as default.  You can use file extension: `json`, `ubj` or `deprecated` to choose between formats.\n",
      "  warnings.warn(smsg, UserWarning)\n",
      "\n",
      "2024/12/28 17:27:40 WARNING mlflow.models.model: Model logged without a signature and input example. Please set `input_example` parameter when logging the model to auto infer the model signature.\n",
      "\n"
     ]
    },
    {
     "name": "stdout",
     "output_type": "stream",
     "text": [
      " 58%|█████▊    | 28/48 [02:08<01:31,  4.56s/trial, best loss: -0.9722222222222222]"
     ]
    },
    {
     "name": "stderr",
     "output_type": "stream",
     "text": [
      "d:\\anaconda\\envs\\mlops\\Lib\\site-packages\\xgboost\\core.py:158: UserWarning: [17:27:40] WARNING: C:\\buildkite-agent\\builds\\buildkite-windows-cpu-autoscaling-group-i-0c55ff5f71b100e98-1\\xgboost\\xgboost-ci-windows\\src\\c_api\\c_api.cc:1374: Saving model in the UBJSON format as default.  You can use file extension: `json`, `ubj` or `deprecated` to choose between formats.\n",
      "  warnings.warn(smsg, UserWarning)\n",
      "\n",
      "2024/12/28 17:27:44 WARNING mlflow.models.model: Model logged without a signature and input example. Please set `input_example` parameter when logging the model to auto infer the model signature.\n",
      "\n"
     ]
    },
    {
     "name": "stdout",
     "output_type": "stream",
     "text": [
      " 60%|██████    | 29/48 [02:13<01:25,  4.52s/trial, best loss: -0.9722222222222222]"
     ]
    },
    {
     "name": "stderr",
     "output_type": "stream",
     "text": [
      "d:\\anaconda\\envs\\mlops\\Lib\\site-packages\\xgboost\\core.py:158: UserWarning: [17:27:45] WARNING: C:\\buildkite-agent\\builds\\buildkite-windows-cpu-autoscaling-group-i-0c55ff5f71b100e98-1\\xgboost\\xgboost-ci-windows\\src\\c_api\\c_api.cc:1374: Saving model in the UBJSON format as default.  You can use file extension: `json`, `ubj` or `deprecated` to choose between formats.\n",
      "  warnings.warn(smsg, UserWarning)\n",
      "\n",
      "2024/12/28 17:27:49 WARNING mlflow.models.model: Model logged without a signature and input example. Please set `input_example` parameter when logging the model to auto infer the model signature.\n",
      "\n"
     ]
    },
    {
     "name": "stdout",
     "output_type": "stream",
     "text": [
      " 62%|██████▎   | 30/48 [02:18<01:22,  4.60s/trial, best loss: -0.9722222222222222]"
     ]
    },
    {
     "name": "stderr",
     "output_type": "stream",
     "text": [
      "d:\\anaconda\\envs\\mlops\\Lib\\site-packages\\xgboost\\core.py:158: UserWarning: [17:27:50] WARNING: C:\\buildkite-agent\\builds\\buildkite-windows-cpu-autoscaling-group-i-0c55ff5f71b100e98-1\\xgboost\\xgboost-ci-windows\\src\\c_api\\c_api.cc:1374: Saving model in the UBJSON format as default.  You can use file extension: `json`, `ubj` or `deprecated` to choose between formats.\n",
      "  warnings.warn(smsg, UserWarning)\n",
      "\n",
      "2024/12/28 17:27:54 WARNING mlflow.models.model: Model logged without a signature and input example. Please set `input_example` parameter when logging the model to auto infer the model signature.\n",
      "\n"
     ]
    },
    {
     "name": "stdout",
     "output_type": "stream",
     "text": [
      " 65%|██████▍   | 31/48 [02:23<01:19,  4.66s/trial, best loss: -0.9722222222222222]"
     ]
    },
    {
     "name": "stderr",
     "output_type": "stream",
     "text": [
      "d:\\anaconda\\envs\\mlops\\Lib\\site-packages\\xgboost\\core.py:158: UserWarning: [17:27:55] WARNING: C:\\buildkite-agent\\builds\\buildkite-windows-cpu-autoscaling-group-i-0c55ff5f71b100e98-1\\xgboost\\xgboost-ci-windows\\src\\c_api\\c_api.cc:1374: Saving model in the UBJSON format as default.  You can use file extension: `json`, `ubj` or `deprecated` to choose between formats.\n",
      "  warnings.warn(smsg, UserWarning)\n",
      "\n",
      "2024/12/28 17:27:59 WARNING mlflow.models.model: Model logged without a signature and input example. Please set `input_example` parameter when logging the model to auto infer the model signature.\n",
      "\n"
     ]
    },
    {
     "name": "stdout",
     "output_type": "stream",
     "text": [
      " 67%|██████▋   | 32/48 [02:27<01:14,  4.68s/trial, best loss: -0.9722222222222222]"
     ]
    },
    {
     "name": "stderr",
     "output_type": "stream",
     "text": [
      "d:\\anaconda\\envs\\mlops\\Lib\\site-packages\\xgboost\\core.py:158: UserWarning: [17:27:59] WARNING: C:\\buildkite-agent\\builds\\buildkite-windows-cpu-autoscaling-group-i-0c55ff5f71b100e98-1\\xgboost\\xgboost-ci-windows\\src\\c_api\\c_api.cc:1374: Saving model in the UBJSON format as default.  You can use file extension: `json`, `ubj` or `deprecated` to choose between formats.\n",
      "  warnings.warn(smsg, UserWarning)\n",
      "\n",
      "2024/12/28 17:28:03 WARNING mlflow.models.model: Model logged without a signature and input example. Please set `input_example` parameter when logging the model to auto infer the model signature.\n",
      "\n"
     ]
    },
    {
     "name": "stdout",
     "output_type": "stream",
     "text": [
      " 69%|██████▉   | 33/48 [02:32<01:09,  4.64s/trial, best loss: -0.9722222222222222]"
     ]
    },
    {
     "name": "stderr",
     "output_type": "stream",
     "text": [
      "d:\\anaconda\\envs\\mlops\\Lib\\site-packages\\xgboost\\core.py:158: UserWarning: [17:28:04] WARNING: C:\\buildkite-agent\\builds\\buildkite-windows-cpu-autoscaling-group-i-0c55ff5f71b100e98-1\\xgboost\\xgboost-ci-windows\\src\\c_api\\c_api.cc:1374: Saving model in the UBJSON format as default.  You can use file extension: `json`, `ubj` or `deprecated` to choose between formats.\n",
      "  warnings.warn(smsg, UserWarning)\n",
      "\n",
      "2024/12/28 17:28:08 WARNING mlflow.models.model: Model logged without a signature and input example. Please set `input_example` parameter when logging the model to auto infer the model signature.\n",
      "\n"
     ]
    },
    {
     "name": "stdout",
     "output_type": "stream",
     "text": [
      " 71%|███████   | 34/48 [02:36<01:05,  4.65s/trial, best loss: -0.9722222222222222]"
     ]
    },
    {
     "name": "stderr",
     "output_type": "stream",
     "text": [
      "d:\\anaconda\\envs\\mlops\\Lib\\site-packages\\xgboost\\core.py:158: UserWarning: [17:28:08] WARNING: C:\\buildkite-agent\\builds\\buildkite-windows-cpu-autoscaling-group-i-0c55ff5f71b100e98-1\\xgboost\\xgboost-ci-windows\\src\\c_api\\c_api.cc:1374: Saving model in the UBJSON format as default.  You can use file extension: `json`, `ubj` or `deprecated` to choose between formats.\n",
      "  warnings.warn(smsg, UserWarning)\n",
      "\n",
      "2024/12/28 17:28:12 WARNING mlflow.models.model: Model logged without a signature and input example. Please set `input_example` parameter when logging the model to auto infer the model signature.\n",
      "\n"
     ]
    },
    {
     "name": "stdout",
     "output_type": "stream",
     "text": [
      " 73%|███████▎  | 35/48 [02:41<00:59,  4.56s/trial, best loss: -0.9722222222222222]"
     ]
    },
    {
     "name": "stderr",
     "output_type": "stream",
     "text": [
      "d:\\anaconda\\envs\\mlops\\Lib\\site-packages\\xgboost\\core.py:158: UserWarning: [17:28:13] WARNING: C:\\buildkite-agent\\builds\\buildkite-windows-cpu-autoscaling-group-i-0c55ff5f71b100e98-1\\xgboost\\xgboost-ci-windows\\src\\c_api\\c_api.cc:1374: Saving model in the UBJSON format as default.  You can use file extension: `json`, `ubj` or `deprecated` to choose between formats.\n",
      "  warnings.warn(smsg, UserWarning)\n",
      "\n",
      "2024/12/28 17:28:17 WARNING mlflow.models.model: Model logged without a signature and input example. Please set `input_example` parameter when logging the model to auto infer the model signature.\n",
      "\n"
     ]
    },
    {
     "name": "stdout",
     "output_type": "stream",
     "text": [
      " 75%|███████▌  | 36/48 [02:45<00:53,  4.47s/trial, best loss: -0.9722222222222222]"
     ]
    },
    {
     "name": "stderr",
     "output_type": "stream",
     "text": [
      "d:\\anaconda\\envs\\mlops\\Lib\\site-packages\\xgboost\\core.py:158: UserWarning: [17:28:17] WARNING: C:\\buildkite-agent\\builds\\buildkite-windows-cpu-autoscaling-group-i-0c55ff5f71b100e98-1\\xgboost\\xgboost-ci-windows\\src\\c_api\\c_api.cc:1374: Saving model in the UBJSON format as default.  You can use file extension: `json`, `ubj` or `deprecated` to choose between formats.\n",
      "  warnings.warn(smsg, UserWarning)\n",
      "\n",
      "2024/12/28 17:28:21 WARNING mlflow.models.model: Model logged without a signature and input example. Please set `input_example` parameter when logging the model to auto infer the model signature.\n",
      "\n"
     ]
    },
    {
     "name": "stdout",
     "output_type": "stream",
     "text": [
      " 77%|███████▋  | 37/48 [02:50<00:49,  4.53s/trial, best loss: -0.9722222222222222]"
     ]
    },
    {
     "name": "stderr",
     "output_type": "stream",
     "text": [
      "d:\\anaconda\\envs\\mlops\\Lib\\site-packages\\xgboost\\core.py:158: UserWarning: [17:28:22] WARNING: C:\\buildkite-agent\\builds\\buildkite-windows-cpu-autoscaling-group-i-0c55ff5f71b100e98-1\\xgboost\\xgboost-ci-windows\\src\\c_api\\c_api.cc:1374: Saving model in the UBJSON format as default.  You can use file extension: `json`, `ubj` or `deprecated` to choose between formats.\n",
      "  warnings.warn(smsg, UserWarning)\n",
      "\n",
      "2024/12/28 17:28:26 WARNING mlflow.models.model: Model logged without a signature and input example. Please set `input_example` parameter when logging the model to auto infer the model signature.\n",
      "\n"
     ]
    },
    {
     "name": "stdout",
     "output_type": "stream",
     "text": [
      " 79%|███████▉  | 38/48 [02:55<00:46,  4.63s/trial, best loss: -0.9722222222222222]"
     ]
    },
    {
     "name": "stderr",
     "output_type": "stream",
     "text": [
      "d:\\anaconda\\envs\\mlops\\Lib\\site-packages\\xgboost\\core.py:158: UserWarning: [17:28:26] WARNING: C:\\buildkite-agent\\builds\\buildkite-windows-cpu-autoscaling-group-i-0c55ff5f71b100e98-1\\xgboost\\xgboost-ci-windows\\src\\c_api\\c_api.cc:1374: Saving model in the UBJSON format as default.  You can use file extension: `json`, `ubj` or `deprecated` to choose between formats.\n",
      "  warnings.warn(smsg, UserWarning)\n",
      "\n",
      "2024/12/28 17:28:31 WARNING mlflow.models.model: Model logged without a signature and input example. Please set `input_example` parameter when logging the model to auto infer the model signature.\n",
      "\n"
     ]
    },
    {
     "name": "stdout",
     "output_type": "stream",
     "text": [
      " 81%|████████▏ | 39/48 [02:59<00:41,  4.63s/trial, best loss: -0.9722222222222222]"
     ]
    },
    {
     "name": "stderr",
     "output_type": "stream",
     "text": [
      "d:\\anaconda\\envs\\mlops\\Lib\\site-packages\\xgboost\\core.py:158: UserWarning: [17:28:31] WARNING: C:\\buildkite-agent\\builds\\buildkite-windows-cpu-autoscaling-group-i-0c55ff5f71b100e98-1\\xgboost\\xgboost-ci-windows\\src\\c_api\\c_api.cc:1374: Saving model in the UBJSON format as default.  You can use file extension: `json`, `ubj` or `deprecated` to choose between formats.\n",
      "  warnings.warn(smsg, UserWarning)\n",
      "\n",
      "2024/12/28 17:28:36 WARNING mlflow.models.model: Model logged without a signature and input example. Please set `input_example` parameter when logging the model to auto infer the model signature.\n",
      "\n"
     ]
    },
    {
     "name": "stdout",
     "output_type": "stream",
     "text": [
      " 83%|████████▎ | 40/48 [03:04<00:38,  4.80s/trial, best loss: -0.9722222222222222]"
     ]
    },
    {
     "name": "stderr",
     "output_type": "stream",
     "text": [
      "d:\\anaconda\\envs\\mlops\\Lib\\site-packages\\xgboost\\core.py:158: UserWarning: [17:28:36] WARNING: C:\\buildkite-agent\\builds\\buildkite-windows-cpu-autoscaling-group-i-0c55ff5f71b100e98-1\\xgboost\\xgboost-ci-windows\\src\\c_api\\c_api.cc:1374: Saving model in the UBJSON format as default.  You can use file extension: `json`, `ubj` or `deprecated` to choose between formats.\n",
      "  warnings.warn(smsg, UserWarning)\n",
      "\n",
      "2024/12/28 17:28:40 WARNING mlflow.models.model: Model logged without a signature and input example. Please set `input_example` parameter when logging the model to auto infer the model signature.\n",
      "\n"
     ]
    },
    {
     "name": "stdout",
     "output_type": "stream",
     "text": [
      " 85%|████████▌ | 41/48 [03:09<00:32,  4.64s/trial, best loss: -0.9722222222222222]"
     ]
    },
    {
     "name": "stderr",
     "output_type": "stream",
     "text": [
      "d:\\anaconda\\envs\\mlops\\Lib\\site-packages\\xgboost\\core.py:158: UserWarning: [17:28:41] WARNING: C:\\buildkite-agent\\builds\\buildkite-windows-cpu-autoscaling-group-i-0c55ff5f71b100e98-1\\xgboost\\xgboost-ci-windows\\src\\c_api\\c_api.cc:1374: Saving model in the UBJSON format as default.  You can use file extension: `json`, `ubj` or `deprecated` to choose between formats.\n",
      "  warnings.warn(smsg, UserWarning)\n",
      "\n",
      "2024/12/28 17:28:45 WARNING mlflow.models.model: Model logged without a signature and input example. Please set `input_example` parameter when logging the model to auto infer the model signature.\n",
      "\n"
     ]
    },
    {
     "name": "stdout",
     "output_type": "stream",
     "text": [
      " 88%|████████▊ | 42/48 [03:14<00:28,  4.70s/trial, best loss: -0.9722222222222222]"
     ]
    },
    {
     "name": "stderr",
     "output_type": "stream",
     "text": [
      "d:\\anaconda\\envs\\mlops\\Lib\\site-packages\\xgboost\\core.py:158: UserWarning: [17:28:46] WARNING: C:\\buildkite-agent\\builds\\buildkite-windows-cpu-autoscaling-group-i-0c55ff5f71b100e98-1\\xgboost\\xgboost-ci-windows\\src\\c_api\\c_api.cc:1374: Saving model in the UBJSON format as default.  You can use file extension: `json`, `ubj` or `deprecated` to choose between formats.\n",
      "  warnings.warn(smsg, UserWarning)\n",
      "\n",
      "2024/12/28 17:28:50 WARNING mlflow.models.model: Model logged without a signature and input example. Please set `input_example` parameter when logging the model to auto infer the model signature.\n",
      "\n"
     ]
    },
    {
     "name": "stdout",
     "output_type": "stream",
     "text": [
      " 90%|████████▉ | 43/48 [03:19<00:24,  4.83s/trial, best loss: -0.9722222222222222]"
     ]
    },
    {
     "name": "stderr",
     "output_type": "stream",
     "text": [
      "d:\\anaconda\\envs\\mlops\\Lib\\site-packages\\xgboost\\core.py:158: UserWarning: [17:28:51] WARNING: C:\\buildkite-agent\\builds\\buildkite-windows-cpu-autoscaling-group-i-0c55ff5f71b100e98-1\\xgboost\\xgboost-ci-windows\\src\\c_api\\c_api.cc:1374: Saving model in the UBJSON format as default.  You can use file extension: `json`, `ubj` or `deprecated` to choose between formats.\n",
      "  warnings.warn(smsg, UserWarning)\n",
      "\n",
      "2024/12/28 17:28:55 WARNING mlflow.models.model: Model logged without a signature and input example. Please set `input_example` parameter when logging the model to auto infer the model signature.\n",
      "\n"
     ]
    },
    {
     "name": "stdout",
     "output_type": "stream",
     "text": [
      " 92%|█████████▏| 44/48 [03:23<00:19,  4.81s/trial, best loss: -0.9722222222222222]"
     ]
    },
    {
     "name": "stderr",
     "output_type": "stream",
     "text": [
      "d:\\anaconda\\envs\\mlops\\Lib\\site-packages\\xgboost\\core.py:158: UserWarning: [17:28:56] WARNING: C:\\buildkite-agent\\builds\\buildkite-windows-cpu-autoscaling-group-i-0c55ff5f71b100e98-1\\xgboost\\xgboost-ci-windows\\src\\c_api\\c_api.cc:1374: Saving model in the UBJSON format as default.  You can use file extension: `json`, `ubj` or `deprecated` to choose between formats.\n",
      "  warnings.warn(smsg, UserWarning)\n",
      "\n",
      "2024/12/28 17:28:59 WARNING mlflow.models.model: Model logged without a signature and input example. Please set `input_example` parameter when logging the model to auto infer the model signature.\n",
      "\n"
     ]
    },
    {
     "name": "stdout",
     "output_type": "stream",
     "text": [
      " 94%|█████████▍| 45/48 [03:28<00:14,  4.73s/trial, best loss: -0.9722222222222222]"
     ]
    },
    {
     "name": "stderr",
     "output_type": "stream",
     "text": [
      "d:\\anaconda\\envs\\mlops\\Lib\\site-packages\\xgboost\\core.py:158: UserWarning: [17:29:00] WARNING: C:\\buildkite-agent\\builds\\buildkite-windows-cpu-autoscaling-group-i-0c55ff5f71b100e98-1\\xgboost\\xgboost-ci-windows\\src\\c_api\\c_api.cc:1374: Saving model in the UBJSON format as default.  You can use file extension: `json`, `ubj` or `deprecated` to choose between formats.\n",
      "  warnings.warn(smsg, UserWarning)\n",
      "\n",
      "2024/12/28 17:29:04 WARNING mlflow.models.model: Model logged without a signature and input example. Please set `input_example` parameter when logging the model to auto infer the model signature.\n",
      "\n"
     ]
    },
    {
     "name": "stdout",
     "output_type": "stream",
     "text": [
      " 96%|█████████▌| 46/48 [03:33<00:09,  4.70s/trial, best loss: -0.9722222222222222]"
     ]
    },
    {
     "name": "stderr",
     "output_type": "stream",
     "text": [
      "d:\\anaconda\\envs\\mlops\\Lib\\site-packages\\xgboost\\core.py:158: UserWarning: [17:29:04] WARNING: C:\\buildkite-agent\\builds\\buildkite-windows-cpu-autoscaling-group-i-0c55ff5f71b100e98-1\\xgboost\\xgboost-ci-windows\\src\\c_api\\c_api.cc:1374: Saving model in the UBJSON format as default.  You can use file extension: `json`, `ubj` or `deprecated` to choose between formats.\n",
      "  warnings.warn(smsg, UserWarning)\n",
      "\n",
      "2024/12/28 17:29:08 WARNING mlflow.models.model: Model logged without a signature and input example. Please set `input_example` parameter when logging the model to auto infer the model signature.\n",
      "\n"
     ]
    },
    {
     "name": "stdout",
     "output_type": "stream",
     "text": [
      " 98%|█████████▊| 47/48 [03:37<00:04,  4.56s/trial, best loss: -0.9722222222222222]"
     ]
    },
    {
     "name": "stderr",
     "output_type": "stream",
     "text": [
      "d:\\anaconda\\envs\\mlops\\Lib\\site-packages\\xgboost\\core.py:158: UserWarning: [17:29:09] WARNING: C:\\buildkite-agent\\builds\\buildkite-windows-cpu-autoscaling-group-i-0c55ff5f71b100e98-1\\xgboost\\xgboost-ci-windows\\src\\c_api\\c_api.cc:1374: Saving model in the UBJSON format as default.  You can use file extension: `json`, `ubj` or `deprecated` to choose between formats.\n",
      "  warnings.warn(smsg, UserWarning)\n",
      "\n",
      "2024/12/28 17:29:13 WARNING mlflow.models.model: Model logged without a signature and input example. Please set `input_example` parameter when logging the model to auto infer the model signature.\n",
      "\n"
     ]
    },
    {
     "name": "stdout",
     "output_type": "stream",
     "text": [
      "100%|██████████| 48/48 [03:42<00:00,  4.63s/trial, best loss: -0.9722222222222222]\n",
      "{'loss': -0.9722222222222222, 'status': 'ok'}\n"
     ]
    },
    {
     "name": "stderr",
     "output_type": "stream",
     "text": [
      "d:\\anaconda\\envs\\mlops\\Lib\\site-packages\\xgboost\\core.py:158: UserWarning: [17:29:14] WARNING: C:\\buildkite-agent\\builds\\buildkite-windows-cpu-autoscaling-group-i-0c55ff5f71b100e98-1\\xgboost\\xgboost-ci-windows\\src\\c_api\\c_api.cc:1374: Saving model in the UBJSON format as default.  You can use file extension: `json`, `ubj` or `deprecated` to choose between formats.\n",
      "  warnings.warn(smsg, UserWarning)\n",
      "2024/12/28 17:29:17 WARNING mlflow.models.model: Model logged without a signature and input example. Please set `input_example` parameter when logging the model to auto infer the model signature.\n",
      "Successfully registered model 'best_model'.\n",
      "Created version '1' of model 'best_model'.\n"
     ]
    }
   ],
   "source": [
    "\n",
    "with mlflow.start_run(run_name='hyper parameter ') as run:\n",
    "    trails=Trials()\n",
    "    best=fmin(\n",
    "    fn=partial(\n",
    "        objective,\n",
    "        xtrain_transformed=xtrain_transformed,\n",
    "        ytrain=ytrain,\n",
    "        xtest_transformed=xtest_transformed,\n",
    "        ytest=ytest\n",
    "    ),\n",
    "    space=space,\n",
    "    algo=tpe.suggest,\n",
    "    max_evals=48,\n",
    "    trials=trails\n",
    "    )\n",
    "    best_run=sorted(trails.results,key=lambda x:x['loss'])[0]\n",
    "    print(best_run)\n",
    "    best_xghoost=XGBClassifier(**best)\n",
    "    best_xghoost.fit(xtrain_transformed,ytrain)\n",
    "    ypred=best_xghoost.predict(xtest_transformed)\n",
    "    metrics=get_classification_metrics(y_true=ytest,y_pred=ypred,prefix='best_test')\n",
    "    mlflow.log_metrics(metrics)\n",
    "    mlflow.log_params(best_run)\n",
    "    mlflow.xgboost.log_model(xgboost,f'{run.info.run_id}-best_model',registered_model_name='best_model')\n"
   ]
  },
  {
   "cell_type": "code",
   "execution_count": 100,
   "metadata": {},
   "outputs": [
    {
     "name": "stdout",
     "output_type": "stream",
     "text": [
      "0.3\n",
      "0.4\n",
      "0.5\n",
      "0.6\n",
      "0.7\n",
      "0.8\n",
      "0.9\n"
     ]
    }
   ],
   "source": [
    "for i in range(3,10):\n",
    "    print(i/10.0)"
   ]
  },
  {
   "cell_type": "code",
   "execution_count": 88,
   "metadata": {},
   "outputs": [
    {
     "ename": "XGBoostError",
     "evalue": "value 2 for Parameter colsample_bytree exceed bound [0,1]\ncolsample_bytree: Subsample ratio of columns, resample on each tree construction.",
     "output_type": "error",
     "traceback": [
      "\u001b[1;31m---------------------------------------------------------------------------\u001b[0m",
      "\u001b[1;31mXGBoostError\u001b[0m                              Traceback (most recent call last)",
      "Cell \u001b[1;32mIn[88], line 2\u001b[0m\n\u001b[0;32m      1\u001b[0m best_xghoost\u001b[38;5;241m=\u001b[39mXGBClassifier(\u001b[38;5;241m*\u001b[39m\u001b[38;5;241m*\u001b[39mbest)\n\u001b[1;32m----> 2\u001b[0m \u001b[43mbest_xghoost\u001b[49m\u001b[38;5;241;43m.\u001b[39;49m\u001b[43mfit\u001b[49m\u001b[43m(\u001b[49m\u001b[43mxtest_transformed\u001b[49m\u001b[43m,\u001b[49m\u001b[43mytest\u001b[49m\u001b[43m)\u001b[49m\n",
      "File \u001b[1;32md:\\anaconda\\envs\\mlops\\Lib\\site-packages\\xgboost\\core.py:726\u001b[0m, in \u001b[0;36mrequire_keyword_args.<locals>.throw_if.<locals>.inner_f\u001b[1;34m(*args, **kwargs)\u001b[0m\n\u001b[0;32m    724\u001b[0m \u001b[38;5;28;01mfor\u001b[39;00m k, arg \u001b[38;5;129;01min\u001b[39;00m \u001b[38;5;28mzip\u001b[39m(sig\u001b[38;5;241m.\u001b[39mparameters, args):\n\u001b[0;32m    725\u001b[0m     kwargs[k] \u001b[38;5;241m=\u001b[39m arg\n\u001b[1;32m--> 726\u001b[0m \u001b[38;5;28;01mreturn\u001b[39;00m \u001b[43mfunc\u001b[49m\u001b[43m(\u001b[49m\u001b[38;5;241;43m*\u001b[39;49m\u001b[38;5;241;43m*\u001b[39;49m\u001b[43mkwargs\u001b[49m\u001b[43m)\u001b[49m\n",
      "File \u001b[1;32md:\\anaconda\\envs\\mlops\\Lib\\site-packages\\xgboost\\sklearn.py:1531\u001b[0m, in \u001b[0;36mXGBClassifier.fit\u001b[1;34m(self, X, y, sample_weight, base_margin, eval_set, verbose, xgb_model, sample_weight_eval_set, base_margin_eval_set, feature_weights)\u001b[0m\n\u001b[0;32m   1511\u001b[0m model, metric, params \u001b[38;5;241m=\u001b[39m \u001b[38;5;28mself\u001b[39m\u001b[38;5;241m.\u001b[39m_configure_fit(xgb_model, params)\n\u001b[0;32m   1512\u001b[0m train_dmatrix, evals \u001b[38;5;241m=\u001b[39m _wrap_evaluation_matrices(\n\u001b[0;32m   1513\u001b[0m     missing\u001b[38;5;241m=\u001b[39m\u001b[38;5;28mself\u001b[39m\u001b[38;5;241m.\u001b[39mmissing,\n\u001b[0;32m   1514\u001b[0m     X\u001b[38;5;241m=\u001b[39mX,\n\u001b[1;32m   (...)\u001b[0m\n\u001b[0;32m   1528\u001b[0m     feature_types\u001b[38;5;241m=\u001b[39m\u001b[38;5;28mself\u001b[39m\u001b[38;5;241m.\u001b[39mfeature_types,\n\u001b[0;32m   1529\u001b[0m )\n\u001b[1;32m-> 1531\u001b[0m \u001b[38;5;28mself\u001b[39m\u001b[38;5;241m.\u001b[39m_Booster \u001b[38;5;241m=\u001b[39m \u001b[43mtrain\u001b[49m\u001b[43m(\u001b[49m\n\u001b[0;32m   1532\u001b[0m \u001b[43m    \u001b[49m\u001b[43mparams\u001b[49m\u001b[43m,\u001b[49m\n\u001b[0;32m   1533\u001b[0m \u001b[43m    \u001b[49m\u001b[43mtrain_dmatrix\u001b[49m\u001b[43m,\u001b[49m\n\u001b[0;32m   1534\u001b[0m \u001b[43m    \u001b[49m\u001b[38;5;28;43mself\u001b[39;49m\u001b[38;5;241;43m.\u001b[39;49m\u001b[43mget_num_boosting_rounds\u001b[49m\u001b[43m(\u001b[49m\u001b[43m)\u001b[49m\u001b[43m,\u001b[49m\n\u001b[0;32m   1535\u001b[0m \u001b[43m    \u001b[49m\u001b[43mevals\u001b[49m\u001b[38;5;241;43m=\u001b[39;49m\u001b[43mevals\u001b[49m\u001b[43m,\u001b[49m\n\u001b[0;32m   1536\u001b[0m \u001b[43m    \u001b[49m\u001b[43mearly_stopping_rounds\u001b[49m\u001b[38;5;241;43m=\u001b[39;49m\u001b[38;5;28;43mself\u001b[39;49m\u001b[38;5;241;43m.\u001b[39;49m\u001b[43mearly_stopping_rounds\u001b[49m\u001b[43m,\u001b[49m\n\u001b[0;32m   1537\u001b[0m \u001b[43m    \u001b[49m\u001b[43mevals_result\u001b[49m\u001b[38;5;241;43m=\u001b[39;49m\u001b[43mevals_result\u001b[49m\u001b[43m,\u001b[49m\n\u001b[0;32m   1538\u001b[0m \u001b[43m    \u001b[49m\u001b[43mobj\u001b[49m\u001b[38;5;241;43m=\u001b[39;49m\u001b[43mobj\u001b[49m\u001b[43m,\u001b[49m\n\u001b[0;32m   1539\u001b[0m \u001b[43m    \u001b[49m\u001b[43mcustom_metric\u001b[49m\u001b[38;5;241;43m=\u001b[39;49m\u001b[43mmetric\u001b[49m\u001b[43m,\u001b[49m\n\u001b[0;32m   1540\u001b[0m \u001b[43m    \u001b[49m\u001b[43mverbose_eval\u001b[49m\u001b[38;5;241;43m=\u001b[39;49m\u001b[43mverbose\u001b[49m\u001b[43m,\u001b[49m\n\u001b[0;32m   1541\u001b[0m \u001b[43m    \u001b[49m\u001b[43mxgb_model\u001b[49m\u001b[38;5;241;43m=\u001b[39;49m\u001b[43mmodel\u001b[49m\u001b[43m,\u001b[49m\n\u001b[0;32m   1542\u001b[0m \u001b[43m    \u001b[49m\u001b[43mcallbacks\u001b[49m\u001b[38;5;241;43m=\u001b[39;49m\u001b[38;5;28;43mself\u001b[39;49m\u001b[38;5;241;43m.\u001b[39;49m\u001b[43mcallbacks\u001b[49m\u001b[43m,\u001b[49m\n\u001b[0;32m   1543\u001b[0m \u001b[43m\u001b[49m\u001b[43m)\u001b[49m\n\u001b[0;32m   1545\u001b[0m \u001b[38;5;28;01mif\u001b[39;00m \u001b[38;5;129;01mnot\u001b[39;00m \u001b[38;5;28mcallable\u001b[39m(\u001b[38;5;28mself\u001b[39m\u001b[38;5;241m.\u001b[39mobjective):\n\u001b[0;32m   1546\u001b[0m     \u001b[38;5;28mself\u001b[39m\u001b[38;5;241m.\u001b[39mobjective \u001b[38;5;241m=\u001b[39m params[\u001b[38;5;124m\"\u001b[39m\u001b[38;5;124mobjective\u001b[39m\u001b[38;5;124m\"\u001b[39m]\n",
      "File \u001b[1;32md:\\anaconda\\envs\\mlops\\Lib\\site-packages\\xgboost\\core.py:726\u001b[0m, in \u001b[0;36mrequire_keyword_args.<locals>.throw_if.<locals>.inner_f\u001b[1;34m(*args, **kwargs)\u001b[0m\n\u001b[0;32m    724\u001b[0m \u001b[38;5;28;01mfor\u001b[39;00m k, arg \u001b[38;5;129;01min\u001b[39;00m \u001b[38;5;28mzip\u001b[39m(sig\u001b[38;5;241m.\u001b[39mparameters, args):\n\u001b[0;32m    725\u001b[0m     kwargs[k] \u001b[38;5;241m=\u001b[39m arg\n\u001b[1;32m--> 726\u001b[0m \u001b[38;5;28;01mreturn\u001b[39;00m \u001b[43mfunc\u001b[49m\u001b[43m(\u001b[49m\u001b[38;5;241;43m*\u001b[39;49m\u001b[38;5;241;43m*\u001b[39;49m\u001b[43mkwargs\u001b[49m\u001b[43m)\u001b[49m\n",
      "File \u001b[1;32md:\\anaconda\\envs\\mlops\\Lib\\site-packages\\xgboost\\training.py:181\u001b[0m, in \u001b[0;36mtrain\u001b[1;34m(params, dtrain, num_boost_round, evals, obj, feval, maximize, early_stopping_rounds, evals_result, verbose_eval, xgb_model, callbacks, custom_metric)\u001b[0m\n\u001b[0;32m    179\u001b[0m \u001b[38;5;28;01mif\u001b[39;00m cb_container\u001b[38;5;241m.\u001b[39mbefore_iteration(bst, i, dtrain, evals):\n\u001b[0;32m    180\u001b[0m     \u001b[38;5;28;01mbreak\u001b[39;00m\n\u001b[1;32m--> 181\u001b[0m \u001b[43mbst\u001b[49m\u001b[38;5;241;43m.\u001b[39;49m\u001b[43mupdate\u001b[49m\u001b[43m(\u001b[49m\u001b[43mdtrain\u001b[49m\u001b[43m,\u001b[49m\u001b[43m \u001b[49m\u001b[43miteration\u001b[49m\u001b[38;5;241;43m=\u001b[39;49m\u001b[43mi\u001b[49m\u001b[43m,\u001b[49m\u001b[43m \u001b[49m\u001b[43mfobj\u001b[49m\u001b[38;5;241;43m=\u001b[39;49m\u001b[43mobj\u001b[49m\u001b[43m)\u001b[49m\n\u001b[0;32m    182\u001b[0m \u001b[38;5;28;01mif\u001b[39;00m cb_container\u001b[38;5;241m.\u001b[39mafter_iteration(bst, i, dtrain, evals):\n\u001b[0;32m    183\u001b[0m     \u001b[38;5;28;01mbreak\u001b[39;00m\n",
      "File \u001b[1;32md:\\anaconda\\envs\\mlops\\Lib\\site-packages\\xgboost\\core.py:2100\u001b[0m, in \u001b[0;36mBooster.update\u001b[1;34m(self, dtrain, iteration, fobj)\u001b[0m\n\u001b[0;32m   2097\u001b[0m \u001b[38;5;28mself\u001b[39m\u001b[38;5;241m.\u001b[39m_assign_dmatrix_features(dtrain)\n\u001b[0;32m   2099\u001b[0m \u001b[38;5;28;01mif\u001b[39;00m fobj \u001b[38;5;129;01mis\u001b[39;00m \u001b[38;5;28;01mNone\u001b[39;00m:\n\u001b[1;32m-> 2100\u001b[0m     \u001b[43m_check_call\u001b[49m\u001b[43m(\u001b[49m\n\u001b[0;32m   2101\u001b[0m \u001b[43m        \u001b[49m\u001b[43m_LIB\u001b[49m\u001b[38;5;241;43m.\u001b[39;49m\u001b[43mXGBoosterUpdateOneIter\u001b[49m\u001b[43m(\u001b[49m\n\u001b[0;32m   2102\u001b[0m \u001b[43m            \u001b[49m\u001b[38;5;28;43mself\u001b[39;49m\u001b[38;5;241;43m.\u001b[39;49m\u001b[43mhandle\u001b[49m\u001b[43m,\u001b[49m\u001b[43m \u001b[49m\u001b[43mctypes\u001b[49m\u001b[38;5;241;43m.\u001b[39;49m\u001b[43mc_int\u001b[49m\u001b[43m(\u001b[49m\u001b[43miteration\u001b[49m\u001b[43m)\u001b[49m\u001b[43m,\u001b[49m\u001b[43m \u001b[49m\u001b[43mdtrain\u001b[49m\u001b[38;5;241;43m.\u001b[39;49m\u001b[43mhandle\u001b[49m\n\u001b[0;32m   2103\u001b[0m \u001b[43m        \u001b[49m\u001b[43m)\u001b[49m\n\u001b[0;32m   2104\u001b[0m \u001b[43m    \u001b[49m\u001b[43m)\u001b[49m\n\u001b[0;32m   2105\u001b[0m \u001b[38;5;28;01melse\u001b[39;00m:\n\u001b[0;32m   2106\u001b[0m     pred \u001b[38;5;241m=\u001b[39m \u001b[38;5;28mself\u001b[39m\u001b[38;5;241m.\u001b[39mpredict(dtrain, output_margin\u001b[38;5;241m=\u001b[39m\u001b[38;5;28;01mTrue\u001b[39;00m, training\u001b[38;5;241m=\u001b[39m\u001b[38;5;28;01mTrue\u001b[39;00m)\n",
      "File \u001b[1;32md:\\anaconda\\envs\\mlops\\Lib\\site-packages\\xgboost\\core.py:284\u001b[0m, in \u001b[0;36m_check_call\u001b[1;34m(ret)\u001b[0m\n\u001b[0;32m    273\u001b[0m \u001b[38;5;250m\u001b[39m\u001b[38;5;124;03m\"\"\"Check the return value of C API call\u001b[39;00m\n\u001b[0;32m    274\u001b[0m \n\u001b[0;32m    275\u001b[0m \u001b[38;5;124;03mThis function will raise exception when error occurs.\u001b[39;00m\n\u001b[1;32m   (...)\u001b[0m\n\u001b[0;32m    281\u001b[0m \u001b[38;5;124;03m    return value from API calls\u001b[39;00m\n\u001b[0;32m    282\u001b[0m \u001b[38;5;124;03m\"\"\"\u001b[39;00m\n\u001b[0;32m    283\u001b[0m \u001b[38;5;28;01mif\u001b[39;00m ret \u001b[38;5;241m!=\u001b[39m \u001b[38;5;241m0\u001b[39m:\n\u001b[1;32m--> 284\u001b[0m     \u001b[38;5;28;01mraise\u001b[39;00m XGBoostError(py_str(_LIB\u001b[38;5;241m.\u001b[39mXGBGetLastError()))\n",
      "\u001b[1;31mXGBoostError\u001b[0m: value 2 for Parameter colsample_bytree exceed bound [0,1]\ncolsample_bytree: Subsample ratio of columns, resample on each tree construction."
     ]
    }
   ],
   "source": [
    "best_xghoost=XGBClassifier(**best)\n",
    "best_xghoost.fit(xtest_transformed,ytest)"
   ]
  },
  {
   "cell_type": "code",
   "execution_count": null,
   "metadata": {},
   "outputs": [],
   "source": []
  }
 ],
 "metadata": {
  "kernelspec": {
   "display_name": "mlops",
   "language": "python",
   "name": "python3"
  },
  "language_info": {
   "codemirror_mode": {
    "name": "ipython",
    "version": 3
   },
   "file_extension": ".py",
   "mimetype": "text/x-python",
   "name": "python",
   "nbconvert_exporter": "python",
   "pygments_lexer": "ipython3",
   "version": "3.12.0"
  }
 },
 "nbformat": 4,
 "nbformat_minor": 2
}
