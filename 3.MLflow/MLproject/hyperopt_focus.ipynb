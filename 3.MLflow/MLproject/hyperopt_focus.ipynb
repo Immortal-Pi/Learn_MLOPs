{
 "cells": [
  {
   "cell_type": "markdown",
   "metadata": {},
   "source": [
    "# hyperparamter tuning and tracking unsing mlflow \n",
    "- fmin - help minimize loss function\n",
    "- tpe - tree based estimator help optimize parameters \n",
    "- hp - lot of functions and methods \n",
    "- STATUS_OK - every trails gets ok status \n",
    "- Trails - best estimate on how many times can we run the optimization algorithm\n",
    "- score - custom logging possible \n",
    "\n",
    "# reference \n",
    "https://github.com/karndeepsingh/Mlflow-Tutorial/blob/main/MLFlow_Implementation.ipynb "
   ]
  },
  {
   "cell_type": "code",
   "execution_count": 1,
   "metadata": {},
   "outputs": [],
   "source": [
    "import os \n",
    "import pandas as pd\n",
    "import numpy as np \n",
    "from sklearn.model_selection import train_test_split\n",
    "from sklearn.metrics import accuracy_score,mean_squared_error,mean_absolute_error,r2_score\n",
    "from sklearn.linear_model import ElasticNet\n",
    "from urllib.parse import urlparse\n",
    "import mlflow\n",
    "import mlflow.sklearn"
   ]
  },
  {
   "cell_type": "code",
   "execution_count": 2,
   "metadata": {},
   "outputs": [
    {
     "data": {
      "text/html": [
       "<div>\n",
       "<style scoped>\n",
       "    .dataframe tbody tr th:only-of-type {\n",
       "        vertical-align: middle;\n",
       "    }\n",
       "\n",
       "    .dataframe tbody tr th {\n",
       "        vertical-align: top;\n",
       "    }\n",
       "\n",
       "    .dataframe thead th {\n",
       "        text-align: right;\n",
       "    }\n",
       "</style>\n",
       "<table border=\"1\" class=\"dataframe\">\n",
       "  <thead>\n",
       "    <tr style=\"text-align: right;\">\n",
       "      <th></th>\n",
       "      <th>fixed acidity</th>\n",
       "      <th>volatile acidity</th>\n",
       "      <th>citric acid</th>\n",
       "      <th>residual sugar</th>\n",
       "      <th>chlorides</th>\n",
       "      <th>free sulfur dioxide</th>\n",
       "      <th>total sulfur dioxide</th>\n",
       "      <th>density</th>\n",
       "      <th>pH</th>\n",
       "      <th>sulphates</th>\n",
       "      <th>alcohol</th>\n",
       "      <th>quality</th>\n",
       "    </tr>\n",
       "  </thead>\n",
       "  <tbody>\n",
       "    <tr>\n",
       "      <th>0</th>\n",
       "      <td>7.4</td>\n",
       "      <td>0.70</td>\n",
       "      <td>0.00</td>\n",
       "      <td>1.9</td>\n",
       "      <td>0.076</td>\n",
       "      <td>11.0</td>\n",
       "      <td>34.0</td>\n",
       "      <td>0.9978</td>\n",
       "      <td>3.51</td>\n",
       "      <td>0.56</td>\n",
       "      <td>9.4</td>\n",
       "      <td>5</td>\n",
       "    </tr>\n",
       "    <tr>\n",
       "      <th>1</th>\n",
       "      <td>7.8</td>\n",
       "      <td>0.88</td>\n",
       "      <td>0.00</td>\n",
       "      <td>2.6</td>\n",
       "      <td>0.098</td>\n",
       "      <td>25.0</td>\n",
       "      <td>67.0</td>\n",
       "      <td>0.9968</td>\n",
       "      <td>3.20</td>\n",
       "      <td>0.68</td>\n",
       "      <td>9.8</td>\n",
       "      <td>5</td>\n",
       "    </tr>\n",
       "    <tr>\n",
       "      <th>2</th>\n",
       "      <td>7.8</td>\n",
       "      <td>0.76</td>\n",
       "      <td>0.04</td>\n",
       "      <td>2.3</td>\n",
       "      <td>0.092</td>\n",
       "      <td>15.0</td>\n",
       "      <td>54.0</td>\n",
       "      <td>0.9970</td>\n",
       "      <td>3.26</td>\n",
       "      <td>0.65</td>\n",
       "      <td>9.8</td>\n",
       "      <td>5</td>\n",
       "    </tr>\n",
       "    <tr>\n",
       "      <th>3</th>\n",
       "      <td>11.2</td>\n",
       "      <td>0.28</td>\n",
       "      <td>0.56</td>\n",
       "      <td>1.9</td>\n",
       "      <td>0.075</td>\n",
       "      <td>17.0</td>\n",
       "      <td>60.0</td>\n",
       "      <td>0.9980</td>\n",
       "      <td>3.16</td>\n",
       "      <td>0.58</td>\n",
       "      <td>9.8</td>\n",
       "      <td>6</td>\n",
       "    </tr>\n",
       "    <tr>\n",
       "      <th>4</th>\n",
       "      <td>7.4</td>\n",
       "      <td>0.70</td>\n",
       "      <td>0.00</td>\n",
       "      <td>1.9</td>\n",
       "      <td>0.076</td>\n",
       "      <td>11.0</td>\n",
       "      <td>34.0</td>\n",
       "      <td>0.9978</td>\n",
       "      <td>3.51</td>\n",
       "      <td>0.56</td>\n",
       "      <td>9.4</td>\n",
       "      <td>5</td>\n",
       "    </tr>\n",
       "  </tbody>\n",
       "</table>\n",
       "</div>"
      ],
      "text/plain": [
       "   fixed acidity  volatile acidity  citric acid  residual sugar  chlorides  \\\n",
       "0            7.4              0.70         0.00             1.9      0.076   \n",
       "1            7.8              0.88         0.00             2.6      0.098   \n",
       "2            7.8              0.76         0.04             2.3      0.092   \n",
       "3           11.2              0.28         0.56             1.9      0.075   \n",
       "4            7.4              0.70         0.00             1.9      0.076   \n",
       "\n",
       "   free sulfur dioxide  total sulfur dioxide  density    pH  sulphates  \\\n",
       "0                 11.0                  34.0   0.9978  3.51       0.56   \n",
       "1                 25.0                  67.0   0.9968  3.20       0.68   \n",
       "2                 15.0                  54.0   0.9970  3.26       0.65   \n",
       "3                 17.0                  60.0   0.9980  3.16       0.58   \n",
       "4                 11.0                  34.0   0.9978  3.51       0.56   \n",
       "\n",
       "   alcohol  quality  \n",
       "0      9.4        5  \n",
       "1      9.8        5  \n",
       "2      9.8        5  \n",
       "3      9.8        6  \n",
       "4      9.4        5  "
      ]
     },
     "execution_count": 2,
     "metadata": {},
     "output_type": "execute_result"
    }
   ],
   "source": [
    "df=pd.read_csv('winequality-red.csv')\n",
    "df.head()"
   ]
  },
  {
   "cell_type": "code",
   "execution_count": 3,
   "metadata": {},
   "outputs": [],
   "source": [
    "def evaluate_metrics(actual, pred):\n",
    "    rmse = np.sqrt(mean_squared_error(actual, pred))\n",
    "    mae = mean_absolute_error(actual, pred)\n",
    "    r2 = r2_score(actual, pred)\n",
    "    return rmse, mae, r2"
   ]
  },
  {
   "cell_type": "code",
   "execution_count": 4,
   "metadata": {},
   "outputs": [],
   "source": [
    "train,test=train_test_split(df,random_state=42)\n",
    "xtrain=train.drop([\"quality\"],axis=1)\n",
    "xtest=test.drop([\"quality\"],axis=1)\n",
    "ytrain=train[[\"quality\"]]\n",
    "ytest=test[[\"quality\"]]"
   ]
  },
  {
   "cell_type": "code",
   "execution_count": 5,
   "metadata": {},
   "outputs": [
    {
     "name": "stderr",
     "output_type": "stream",
     "text": [
      "2024/12/26 22:58:07 WARNING mlflow.models.model: Model logged without a signature and input example. Please set `input_example` parameter when logging the model to auto infer the model signature.\n"
     ]
    },
    {
     "name": "stdout",
     "output_type": "stream",
     "text": [
      "ElasticNet net Params: {'alpha': 0.6, 'copy_X': True, 'fit_intercept': True, 'l1_ratio': 0.9, 'max_iter': 1000, 'positive': False, 'precompute': False, 'random_state': 42, 'selection': 'cyclic', 'tol': 0.0001, 'warm_start': False}\n",
      "RMSE: 0.7852398645108017 MAE: 0.6446785626602032 R2: 0.0032203771587697716\n"
     ]
    }
   ],
   "source": [
    "alpha=0.6\n",
    "l1_ratio=0.9\n",
    "with mlflow.start_run():\n",
    "    mlflow.set_tag('developer', 'amruth')\n",
    "    mlflow.set_tag('model','ElsticNet')\n",
    "    mlflow.log_param('alpha',alpha)\n",
    "    mlflow.log_param('l1_ratio',l1_ratio)\n",
    "\n",
    "    lr=ElasticNet(alpha=alpha,l1_ratio=l1_ratio,random_state=42)\n",
    "    lr.fit(xtrain,ytrain)\n",
    "    pred=lr.predict(xtest)\n",
    "\n",
    "    rmse, mae, r2 = evaluate_metrics(ytest, pred)\n",
    "    mlflow.log_metric('rmse',rmse)\n",
    "    mlflow.log_metric('mae',mae)\n",
    "    mlflow.log_metric('r2',r2)\n",
    "\n",
    "    mlflow.sklearn.log_model(lr,'elastic=net-lr')\n",
    "\n",
    "    print(f'ElasticNet net Params: {lr.get_params()}')\n",
    "    print(f'RMSE: {rmse} MAE: {mae} R2: {r2}')"
   ]
  },
  {
   "cell_type": "code",
   "execution_count": 6,
   "metadata": {},
   "outputs": [
    {
     "name": "stderr",
     "output_type": "stream",
     "text": [
      "2024/12/26 22:58:07 WARNING mlflow.utils.autologging_utils: MLflow sklearn autologging is known to be compatible with 0.24.1 <= scikit-learn <= 1.5.2, but the installed version is 1.6.0. If you encounter errors during autologging, try upgrading / downgrading scikit-learn to a compatible version, or try upgrading MLflow.\n"
     ]
    },
    {
     "name": "stdout",
     "output_type": "stream",
     "text": [
      "ElasticNet net Params: {'alpha': 0.6, 'copy_X': True, 'fit_intercept': True, 'l1_ratio': 0.9, 'max_iter': 1000, 'positive': False, 'precompute': False, 'random_state': 42, 'selection': 'cyclic', 'tol': 0.0001, 'warm_start': False}\n",
      "RMSE: 0.7852398645108017 MAE: 0.6446785626602032 R2: 0.0032203771587697716\n"
     ]
    }
   ],
   "source": [
    "mlflow.sklearn.autolog()\n",
    "with mlflow.start_run():\n",
    "    lr=ElasticNet(alpha=0.6,l1_ratio=0.9,random_state=42)\n",
    "    lr.fit(xtrain,ytrain)\n",
    "    pred=lr.predict(xtest)\n",
    "\n",
    "    rmse, mae, r2 = evaluate_metrics(ytest, pred)\n",
    "\n",
    "    print(f'ElasticNet net Params: {lr.get_params()}')\n",
    "    print(f'RMSE: {rmse} MAE: {mae} R2: {r2}')"
   ]
  },
  {
   "cell_type": "code",
   "execution_count": 8,
   "metadata": {},
   "outputs": [],
   "source": [
    "from hyperopt import fmin, tpe, hp, STATUS_OK, Trials\n",
    "import numpy as np\n",
    "from hyperopt.pyll import scope\n",
    "import mlflow\n",
    "from sklearn.linear_model import ElasticNet\n",
    "#from sklearn.metrics import ev"
   ]
  },
  {
   "cell_type": "code",
   "execution_count": 9,
   "metadata": {},
   "outputs": [],
   "source": [
    "def objective(params):\n",
    "    \"\"\" \n",
    "    :params params: dict of hyperparameters\n",
    "    \"\"\"\n",
    "    with mlflow.start_run():\n",
    "        mlflow.set_tag(\"model\", \"ElasticNet\")\n",
    "        mlflow.log_params(params)\n",
    "\n",
    "        lr=ElasticNet(**params)\n",
    "        lr.fit(xtrain,ytrain)\n",
    "        ypred=lr.predict(xtest)\n",
    "        rmse, mse, r2 = evaluate_metrics(ytest,ypred)\n",
    "        mlflow.log_metric(\"rmse\",rmse)\n",
    "        mlflow.log_metric(\"mse\",mse)    \n",
    "        mlflow.log_metric(\"r2\",r2)\n",
    "\n",
    "    return {'loss': rmse, 'status': STATUS_OK}   "
   ]
  },
  {
   "cell_type": "code",
   "execution_count": 10,
   "metadata": {},
   "outputs": [],
   "source": [
    "search_space = {\n",
    "    'alpha': hp.uniform('alpha', 0.01, 1),\n",
    "    'l1_ratio': hp.uniform('l1_ratio', 0, 1),\n",
    "}"
   ]
  },
  {
   "cell_type": "code",
   "execution_count": 33,
   "metadata": {},
   "outputs": [
    {
     "name": "stdout",
     "output_type": "stream",
     "text": [
      "100%|██████████| 10/10 [01:10<00:00,  7.07s/trial, best loss: 0.6926364835460415]\n"
     ]
    }
   ],
   "source": [
    "mlflow.set_experiment('hyperopt_testing')\n",
    "best_result = fmin(\n",
    "    fn=objective, \n",
    "    space=search_space,\n",
    "    algo=tpe.suggest,\n",
    "    max_evals=10,\n",
    "    trials=Trials()\n",
    ")"
   ]
  },
  {
   "cell_type": "code",
   "execution_count": 12,
   "metadata": {},
   "outputs": [
    {
     "data": {
      "text/plain": [
       "{'alpha': np.float64(0.09538133520940972),\n",
       " 'l1_ratio': np.float64(0.6132104939349722)}"
      ]
     },
     "execution_count": 12,
     "metadata": {},
     "output_type": "execute_result"
    }
   ],
   "source": [
    "best_result"
   ]
  },
  {
   "cell_type": "code",
   "execution_count": 13,
   "metadata": {},
   "outputs": [],
   "source": [
    "params= {\"alpha\":1.43098798581676,\n",
    "\"copy_X\":True,\n",
    "\"fit_intercept\":True,\n",
    "\"l1_ratio\":0.003137093485394149,\n",
    "\"max_iter\":1000,\n",
    "\"positive\":False,\n",
    "\"precompute\":False,\n",
    "\"random_state\":None,\n",
    "\"selection\":\"cyclic\",\n",
    "\"tol\":0.0001,\n",
    "\"warm_start\":False}"
   ]
  },
  {
   "cell_type": "code",
   "execution_count": 30,
   "metadata": {},
   "outputs": [
    {
     "name": "stderr",
     "output_type": "stream",
     "text": [
      "2024/12/27 07:56:27 WARNING mlflow.utils.autologging_utils: MLflow sklearn autologging is known to be compatible with 0.24.1 <= scikit-learn <= 1.5.2, but the installed version is 1.6.0. If you encounter errors during autologging, try upgrading / downgrading scikit-learn to a compatible version, or try upgrading MLflow.\n"
     ]
    },
    {
     "name": "stdout",
     "output_type": "stream",
     "text": [
      "ElasticNet net Params: {'alpha': 1.43098798581676, 'copy_X': True, 'fit_intercept': True, 'l1_ratio': 0.003137093485394149, 'max_iter': 1000, 'positive': False, 'precompute': False, 'random_state': None, 'selection': 'cyclic', 'tol': 0.0001, 'warm_start': False}\n",
      "RMSE: 0.715046298073532 MAE: 0.5735208349754253 R2: 0.17346205261746928\n"
     ]
    }
   ],
   "source": [
    "mlflow.sklearn.autolog()\n",
    "with mlflow.start_run(run_name='hyperopt'):\n",
    "    lr=ElasticNet(**params)\n",
    "    lr.fit(xtrain,ytrain)\n",
    "    pred=lr.predict(xtest)\n",
    "\n",
    "    rmse, mae, r2 = evaluate_metrics(ytest, pred)\n",
    "\n",
    "    print(f'ElasticNet net Params: {lr.get_params()}')\n",
    "    print(f'RMSE: {rmse} MAE: {mae} R2: {r2}')"
   ]
  },
  {
   "cell_type": "markdown",
   "metadata": {},
   "source": [
    "# model registry"
   ]
  },
  {
   "cell_type": "code",
   "execution_count": 39,
   "metadata": {},
   "outputs": [],
   "source": [
    "from mlflow import MlflowClient\n",
    "import mlflow \n",
    "MLFLOW_TRACKING_URI='http://127.0.0.1:5000'"
   ]
  },
  {
   "cell_type": "markdown",
   "metadata": {},
   "source": [
    "# Interacting with mlflow tracking server to extract run id's with higher accuracy"
   ]
  },
  {
   "cell_type": "code",
   "execution_count": 40,
   "metadata": {},
   "outputs": [
    {
     "data": {
      "text/plain": [
       "[<Experiment: artifact_location='file:///d:/pythonProjects/MLOps_Krish_Naik/3.MLflow/MLproject/mlruns/720724581667782363', creation_time=1735307787258, experiment_id='720724581667782363', last_update_time=1735307787258, lifecycle_stage='active', name='hyperopt_testing', tags={}>,\n",
       " <Experiment: artifact_location='file:///d:/pythonProjects/MLOps_Krish_Naik/3.MLflow/MLproject/mlruns/0', creation_time=1735273908936, experiment_id='0', last_update_time=1735273908936, lifecycle_stage='active', name='Default', tags={}>]"
      ]
     },
     "execution_count": 40,
     "metadata": {},
     "output_type": "execute_result"
    }
   ],
   "source": [
    "client=MlflowClient(tracking_uri=MLFLOW_TRACKING_URI)\n",
    "client.search_experiments()"
   ]
  },
  {
   "cell_type": "code",
   "execution_count": 43,
   "metadata": {},
   "outputs": [],
   "source": [
    "from mlflow.entities import ViewType\n",
    "\n",
    "runs=client.search_runs(experiment_ids='720724581667782363',\n",
    "                        filter_string='metrics.rmse>0.7',\n",
    "                        run_view_type=ViewType.ACTIVE_ONLY,\n",
    "                        max_results=5,\n",
    "                        order_by=['metrics.rmse DESC']\n",
    "                        )\n"
   ]
  },
  {
   "cell_type": "code",
   "execution_count": 45,
   "metadata": {},
   "outputs": [
    {
     "name": "stdout",
     "output_type": "stream",
     "text": [
      "runid: 7e9009fb15f54a0bb424ab524257be33 rmse: 0.7852\n",
      "runid: 6fe606808485415598fd19ec0d4b7534 rmse: 0.7850\n",
      "runid: 6b39154a6c444e48aaa62607f58bed55 rmse: 0.7694\n",
      "runid: f33cb2d344d14b76ade07a35e2ce1ff1 rmse: 0.7648\n",
      "runid: 6657b3e8e99940768cf45bd2651a251a rmse: 0.7488\n"
     ]
    }
   ],
   "source": [
    "for run in runs:\n",
    "    print(f'runid: {run.info.run_id} rmse: {run.data.metrics['rmse']:.4f}')"
   ]
  },
  {
   "cell_type": "markdown",
   "metadata": {},
   "source": [
    "# Interacting with the model registry"
   ]
  },
  {
   "cell_type": "code",
   "execution_count": 60,
   "metadata": {},
   "outputs": [
    {
     "name": "stderr",
     "output_type": "stream",
     "text": [
      "Registered model 'wine_quality' already exists. Creating a new version of this model...\n",
      "2024/12/27 09:40:19 INFO mlflow.store.model_registry.abstract_store: Waiting up to 300 seconds for model version to finish creation. Model name: wine_quality, version 7\n",
      "Created version '7' of model 'wine_quality'.\n"
     ]
    },
    {
     "data": {
      "text/plain": [
       "<ModelVersion: aliases=[], creation_timestamp=1735314019859, current_stage='None', description='', last_updated_timestamp=1735314019859, name='wine_quality', run_id='b71cf385d7574636ab9d87a18ef6da3b', run_link='', source='file:///d:/pythonProjects/MLOps_Krish_Naik/3.MLflow/MLproject/mlruns/720724581667782363/b71cf385d7574636ab9d87a18ef6da3b/artifacts/model', status='READY', status_message='', tags={}, user_id='', version='7'>"
      ]
     },
     "execution_count": 60,
     "metadata": {},
     "output_type": "execute_result"
    }
   ],
   "source": [
    "mlflow.set_tracking_uri('http://127.0.0.1:5000')\n",
    "client=MlflowClient()\n",
    "run_id='b71cf385d7574636ab9d87a18ef6da3b'\n",
    "model_uri=f'runs:/{run_id}/model'\n",
    "mlflow.register_model(model_uri=model_uri,name='wine_quality')"
   ]
  },
  {
   "cell_type": "code",
   "execution_count": 55,
   "metadata": {},
   "outputs": [
    {
     "name": "stdout",
     "output_type": "stream",
     "text": [
      "Version: 2 tags: {}\n"
     ]
    },
    {
     "name": "stderr",
     "output_type": "stream",
     "text": [
      "C:\\Users\\26amr\\AppData\\Local\\Temp\\ipykernel_55704\\1157880045.py:2: FutureWarning: ``mlflow.tracking.client.MlflowClient.get_latest_versions`` is deprecated since 2.9.0. Model registry stages will be removed in a future major release. To learn more about the deprecation of model registry stages, see our migration guide here: https://mlflow.org/docs/latest/model-registry.html#migrating-from-stages\n",
      "  latest_versions=client.get_latest_versions(name=model_name)\n"
     ]
    }
   ],
   "source": [
    "model_name='wine_quality'\n",
    "latest_versions=client.get_latest_versions(name=model_name)\n",
    "\n",
    "for version in latest_versions:\n",
    "    print(f'Version: {version.version} tags: {version.tags}')"
   ]
  },
  {
   "cell_type": "code",
   "execution_count": 64,
   "metadata": {},
   "outputs": [],
   "source": [
    "client.set_model_version_tag(name='wine_quality',version='6',key='model_stage',value='testing')\n",
    "client.set_model_version_tag(name='wine_quality',version='7',key='model_stage',value='production')"
   ]
  },
  {
   "cell_type": "markdown",
   "metadata": {},
   "source": [
    "# test the model in production"
   ]
  },
  {
   "cell_type": "code",
   "execution_count": 66,
   "metadata": {},
   "outputs": [],
   "source": [
    "def test_model(name,version,xtest,ytest):\n",
    "    model_uri=f'models:/{name}/{version}'\n",
    "    model=mlflow.sklearn.load_model(model_uri)\n",
    "    pred=model.predict(xtest)\n",
    "    rmse, mae, r2 = evaluate_metrics(ytest, pred)\n",
    "    print(f'RMSE: {rmse} MAE: {mae} R2: {r2}')"
   ]
  },
  {
   "cell_type": "code",
   "execution_count": 69,
   "metadata": {},
   "outputs": [
    {
     "name": "stdout",
     "output_type": "stream",
     "text": [
      "RMSE: 0.6926364835460415 MAE: 0.5527260739258862 R2: 0.22445821940647515\n"
     ]
    }
   ],
   "source": [
    "test_model(name=model_name, version=\"7\", xtest=xtest, ytest=ytest)"
   ]
  },
  {
   "cell_type": "code",
   "execution_count": null,
   "metadata": {},
   "outputs": [],
   "source": []
  }
 ],
 "metadata": {
  "kernelspec": {
   "display_name": "mlops",
   "language": "python",
   "name": "python3"
  },
  "language_info": {
   "codemirror_mode": {
    "name": "ipython",
    "version": 3
   },
   "file_extension": ".py",
   "mimetype": "text/x-python",
   "name": "python",
   "nbconvert_exporter": "python",
   "pygments_lexer": "ipython3",
   "version": "3.12.0"
  }
 },
 "nbformat": 4,
 "nbformat_minor": 2
}
